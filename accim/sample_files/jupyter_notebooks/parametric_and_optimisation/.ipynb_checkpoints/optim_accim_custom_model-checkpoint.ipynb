{
 "cells": [
  {
   "cell_type": "markdown",
   "id": "2cf45ee0-4144-4034-99a9-311270c74d30",
   "metadata": {},
   "source": [
    "# Optimisation using accim custom models"
   ]
  },
  {
   "cell_type": "code",
   "execution_count": 1,
   "id": "f71c6322-10f1-4fde-bc8d-358163b8619b",
   "metadata": {},
   "outputs": [],
   "source": [
    "#todo import qgrid to manually change output dfs"
   ]
  },
  {
   "cell_type": "code",
   "execution_count": 2,
   "id": "a8361222-b96d-4121-9560-1480e3ee4f44",
   "metadata": {},
   "outputs": [],
   "source": [
    "import accim\n",
    "import accim.parametric_and_optimisation.funcs_for_besos.param_accis as bf\n",
    "from accim.parametric_and_optimisation.objectives import average_results\n",
    "from accim.parametric_and_optimisation.utils import make_all_combinations\n",
    "from besos import eppy_funcs as ef\n",
    "import matplotlib.pyplot as plt\n",
    "import seaborn as sns\n",
    "from accim.utils import print_available_outputs_mod, get_accim_args\n",
    "from accim.parametric_and_optimisation.main import OptimParamSimulation, get_rdd_file_as_df, get_mdd_file_as_df, parse_mtd_file\n",
    "from os import listdir\n"
   ]
  },
  {
   "cell_type": "markdown",
   "id": "c699ceba-f765-47c5-b5fd-b0cee5522b3a",
   "metadata": {},
   "source": [
    "Let's have a look at the files we currently have in the path:"
   ]
  },
  {
   "cell_type": "code",
   "execution_count": 3,
   "id": "233674c3-f15d-4917-aa47-430ae91486d6",
   "metadata": {},
   "outputs": [
    {
     "data": {
      "text/plain": [
       "['.ipynb_checkpoints',\n",
       " 'optim_accim_custom_model.ipynb',\n",
       " 'param_sim_accim_custom_model.ipynb',\n",
       " 'param_sim_accim_predefined_model.ipynb',\n",
       " 'param_sim_apmv_setpoint.ipynb',\n",
       " 'Seville.epw',\n",
       " 'Sydney.epw',\n",
       " 'TestModel.idf',\n",
       " 'TestModel_aPMV.idf',\n",
       " '__init__.py']"
      ]
     },
     "execution_count": 3,
     "metadata": {},
     "output_type": "execute_result"
    }
   ],
   "source": [
    "original_files = [i for i in listdir()]\n",
    "original_files"
   ]
  },
  {
   "cell_type": "markdown",
   "id": "16e31d87-3a87-40c1-aeef-d6ea1171291a",
   "metadata": {},
   "source": [
    "Firstly, the IDF must be read using besos's `get_building` function."
   ]
  },
  {
   "cell_type": "code",
   "execution_count": 4,
   "id": "7d6e13f6-7466-4e96-a559-8c771895c1ac",
   "metadata": {},
   "outputs": [],
   "source": [
    "building = ef.get_building('TestModel.idf')"
   ]
  },
  {
   "cell_type": "markdown",
   "id": "affcedd2-3206-4178-bb93-3ae151e04301",
   "metadata": {},
   "source": [
    "For this analysis, we want to use the HVAC system in all hours of the year, so that temperature is always comfortable. Therefore, we are going to set the occupancy to always on by means of the function `accim.utils.set_occupancy_to_always`, in which we input the IDF class instance we read in the previous cell."
   ]
  },
  {
   "cell_type": "code",
   "execution_count": 5,
   "id": "f5c2feb1-ca1e-4b8a-bc50-1f116cca9fa4",
   "metadata": {},
   "outputs": [
    {
     "name": "stdout",
     "output_type": "stream",
     "text": [
      "On 24/7 Schedule:Compact object was already in the model.\n",
      "People Block1:Zone2 Number of People Schedule Name has been set to always occupied.\n",
      "People Block1:Zone1 Number of People Schedule Name has been set to always occupied.\n"
     ]
    }
   ],
   "source": [
    "accim.utils.set_occupancy_to_always(idf_object=building)"
   ]
  },
  {
   "cell_type": "markdown",
   "id": "29827b0f-9086-4e26-873b-db2f7818a18a",
   "metadata": {},
   "source": [
    "Now, let's start with the settings for the parametric analysis. First, let's instantiate the class `OptimParamSimulation`, and let's pass the IDF instance in the argument `building`. Argument `parameters_type` can take 3 different strings:\n",
    "- \"accim predefined model\", in which models are those previously defined in accim (ComfStand=0 to ComfStand=22);\n",
    "- \"accim custom model\", in which key parameters of the adaptive comfort model are defined in the relevant arguments;\n",
    "- \"apmv setpoints\", in which setpoints are based on the aPMV (Adaptive Predicted Mean Vote) instead of the PMV index;\n",
    "\n",
    "In this case, we're going to use the 'accim custom model' type, in which we can define the adaptive comfort model."
   ]
  },
  {
   "cell_type": "code",
   "execution_count": 6,
   "id": "2a5fa261-bfee-4b08-a8fe-c62f46a481eb",
   "metadata": {},
   "outputs": [
    {
     "name": "stdout",
     "output_type": "stream",
     "text": [
      "\n",
      "--------------------------------------------------------\n",
      "Adaptive-Comfort-Control-Implemented Model (ACCIM) v0.7.5\n",
      "--------------------------------------------------------\n",
      "\n",
      "This tool allows to apply adaptive setpoint temperatures. \n",
      "For further information, please read the documentation: \n",
      "https://accim.readthedocs.io/en/master/\n",
      "For a visual understanding of the tool, please visit the following jupyter notebooks:\n",
      "-    Using addAccis() to apply adaptive setpoint temperatures\n",
      "https://accim.readthedocs.io/en/master/jupyter_notebooks/addAccis/using_addAccis.html\n",
      "-    Using rename_epw_files() to rename the EPWs for proper data analysis after simulation\n",
      "https://accim.readthedocs.io/en/master/jupyter_notebooks/rename_epw_files/using_rename_epw_files.html\n",
      "-    Using runEp() to directly run simulations with EnergyPlus\n",
      "https://accim.readthedocs.io/en/master/jupyter_notebooks/runEp/using_runEp.html\n",
      "-    Using the class Table() for data analysis\n",
      "https://accim.readthedocs.io/en/master/jupyter_notebooks/Table/using_Table.html\n",
      "-    Full example\n",
      "https://accim.readthedocs.io/en/master/jupyter_notebooks/full_example/full_example.html\n",
      "\n",
      "Starting with the process.\n",
      "Basic input data:\n",
      "ScriptType is: vrf_mm\n",
      "Supply Air Temperature Input Method is: temperature difference\n",
      "Output type is: standard\n",
      "Output frequencies are: \n",
      "['hourly']\n",
      "EnergyPlus version is: 23.1\n",
      "Temperature Control method is: temperature\n",
      "\n",
      "=======================START OF GENERIC IDF FILE GENERATION PROCESS=======================\n",
      "\n",
      "Starting with file:\n",
      "The occupied zones in the model <besos.IDF_class.IDF object at 0x0000011C0F841BE0> are:\n",
      "BLOCK1:ZONE2\n",
      "BLOCK1:ZONE1\n",
      "The windows and doors in the model <besos.IDF_class.IDF object at 0x0000011C0F841BE0> are:\n",
      "Block1_Zone2_Wall_3_0_0_0_0_0_Win\n",
      "Block1_Zone2_Wall_4_0_0_0_0_0_Win\n",
      "Block1_Zone2_Wall_5_0_0_0_0_0_Win\n",
      "Block1_Zone1_Wall_2_0_0_0_0_0_Win\n",
      "Block1_Zone1_Wall_3_0_0_0_0_0_Win\n",
      "Block1_Zone1_Wall_5_0_0_0_0_0_Win\n",
      "The zones in the model <besos.IDF_class.IDF object at 0x0000011C0F841BE0> are:\n",
      "BLOCK1_ZONE2\n",
      "BLOCK1_ZONE1\n",
      "The people objects in the model have been amended.\n",
      "BLOCK1:ZONE2 Thermostat has been added\n",
      "BLOCK1:ZONE1 Thermostat has been added\n",
      "On Schedule already was in the model\n",
      "TypOperativeTempControlSch Schedule already was in the model\n",
      "All ZoneHVAC:IdealLoadsAirSystem Heating and Cooling availability schedules has been set to on\n",
      "On 24/7 Schedule already was in the model\n",
      "Control type schedule: Always 4 Schedule has been added\n",
      "Relative humidity setpoint schedule: Always 50.00 Schedule has been added\n",
      "Heating Fanger comfort setpoint: Always -0.5 Schedule has been added\n",
      "Cooling Fanger comfort setpoint: Always  0.1 Schedule has been added\n",
      "Zone CO2 setpoint: Always 900ppm Schedule has been added\n",
      "Min CO2 concentration: Always 600ppm Schedule has been added\n",
      "Generic contaminant setpoint: Always 0.5ppm Schedule has been added\n",
      "Air distribution effectiveness (always 1) Schedule has been added\n",
      "VRF Heating Cooling (Northern Hemisphere) Schedule has been added\n",
      "DefaultFanEffRatioCurve Curve:Cubic Object has been added\n",
      "VRFTUCoolCapFT Curve:Cubic Object has been added\n",
      "VRFTUHeatCapFT Curve:Cubic Object has been added\n",
      "VRFCoolCapFTBoundary Curve:Cubic Object has been added\n",
      "VRFCoolEIRFTBoundary Curve:Cubic Object has been added\n",
      "CoolingEIRLowPLR Curve:Cubic Object has been added\n",
      "VRFHeatCapFTBoundary Curve:Cubic Object has been added\n",
      "VRFHeatEIRFTBoundary Curve:Cubic Object has been added\n",
      "HeatingEIRLowPLR Curve:Cubic Object has been added\n",
      "DefaultFanPowerRatioCurve Curve:Exponent Object has been added\n",
      "DXHtgCoilDefrostEIRFT Curve:Biquadratic Object has been added\n",
      "VRFCoolCapFT Curve:Biquadratic Object has been added\n",
      "VRFCoolCapFTHi Curve:Biquadratic Object has been added\n",
      "VRFCoolEIRFT Curve:Biquadratic Object has been added\n",
      "VRFCoolEIRFTHi Curve:Biquadratic Object has been added\n",
      "VRFHeatCapFT Curve:Biquadratic Object has been added\n",
      "VRFHeatCapFTHi Curve:Biquadratic Object has been added\n",
      "VRFHeatEIRFT Curve:Biquadratic Object has been added\n",
      "VRFHeatEIRFTHi Curve:Biquadratic Object has been added\n",
      "CoolingLengthCorrectionFactor Curve:Biquadratic Object has been added\n",
      "VRF Piping Correction Factor for Length in Heating Mode Curve:Biquadratic Object has been added\n",
      "VRF Heat Recovery Cooling Capacity Modifier Curve:Biquadratic Object has been added\n",
      "VRF Heat Recovery Cooling Energy Modifier Curve:Biquadratic Object has been added\n",
      "VRF Heat Recovery Heating Capacity Modifier Curve:Biquadratic Object has been added\n",
      "VRF Heat Recovery Heating Energy Modifier Curve:Biquadratic Object has been added\n",
      "VRFACCoolCapFFF Curve:Quadratic Object has been added\n",
      "CoolingEIRHiPLR Curve:Quadratic Object has been added\n",
      "VRFCPLFFPLR Curve:Quadratic Object has been added\n",
      "HeatingEIRHiPLR Curve:Quadratic Object has been added\n",
      "CoolingCombRatio Curve:Linear Object has been added\n",
      "HeatingCombRatio Curve:Linear Object has been added\n",
      "VRF Outdoor Unit_BLOCK1:ZONE2 AirConditioner:VariableRefrigerantFlow Object has been added\n",
      "VRF Outdoor Unit_BLOCK1:ZONE1 AirConditioner:VariableRefrigerantFlow Object has been added\n",
      "VRF Outdoor Unit_BLOCK1:ZONE2 Outdoor Air Node Object has been added\n",
      "VRF Outdoor Unit_BLOCK1:ZONE2 Zone List Object has been added\n",
      "VRF Outdoor Unit_BLOCK1:ZONE1 Outdoor Air Node Object has been added\n",
      "VRF Outdoor Unit_BLOCK1:ZONE1 Zone List Object has been added\n",
      "BLOCK1:ZONE2 Sizing:Zone Object has been added\n",
      "BLOCK1:ZONE1 Sizing:Zone Object has been added\n",
      "BLOCK1:ZONE2 Design Specification Outdoor Air Object has been added\n",
      "BLOCK1:ZONE1 Design Specification Outdoor Air Object has been added\n",
      "BLOCK1:ZONE2 Design Specification Zone Air Distribution Object has been added\n",
      "BLOCK1:ZONE1 Design Specification Zone Air Distribution Object has been added\n",
      "BLOCK1:ZONE2 Nodelist Objects has been added\n",
      "BLOCK1:ZONE1 Nodelist Objects has been added\n",
      "BLOCK1:ZONE2 ZoneHVAC:EquipmentConnections Objects has been added\n",
      "BLOCK1:ZONE1 ZoneHVAC:EquipmentConnections Objects has been added\n",
      "BLOCK1:ZONE2 ZoneHVAC:EquipmentList Objects has been added\n",
      "BLOCK1:ZONE1 ZoneHVAC:EquipmentList Objects has been added\n",
      "BLOCK1:ZONE2 ZoneHVAC:TerminalUnit:VariableRefrigerantFlow Object has been added\n",
      "BLOCK1:ZONE1 ZoneHVAC:TerminalUnit:VariableRefrigerantFlow Object has been added\n",
      "BLOCK1:ZONE2 Coil:Cooling:DX:VariableRefrigerantFlow Object has been added\n",
      "BLOCK1:ZONE1 Coil:Cooling:DX:VariableRefrigerantFlow Object has been added\n",
      "BLOCK1:ZONE2 Coil:Heating:DX:VariableRefrigerantFlow Object has been added\n",
      "BLOCK1:ZONE1 Coil:Heating:DX:VariableRefrigerantFlow Object has been added\n",
      "BLOCK1:ZONE2 Fan:ConstantVolume Object has been added\n",
      "BLOCK1:ZONE1 Fan:ConstantVolume Object has been added\n",
      "Vent_SP_temp Schedule has been added\n",
      "AHST_Sch_BLOCK1_ZONE2 Schedule has been added\n",
      "ACST_Sch_BLOCK1_ZONE2 Schedule has been added\n",
      "AHST_Sch_BLOCK1_ZONE1 Schedule has been added\n",
      "ACST_Sch_BLOCK1_ZONE1 Schedule has been added\n",
      "Added - SetComfTemp Program\n",
      "Added - CountHours_BLOCK1_ZONE2 Program\n",
      "Added - CountHours_BLOCK1_ZONE1 Program\n",
      "Added - SetAppLimits Program\n",
      "Added - ApplyCAT Program\n",
      "Added - SetAST Program\n",
      "Added - SetASTnoTol Program\n",
      "Added - CountHoursNoApp_BLOCK1_ZONE2 Program\n",
      "Added - SetGeoVarBLOCK1_ZONE2 Program\n",
      "Added - CountHoursNoApp_BLOCK1_ZONE1 Program\n",
      "Added - SetGeoVarBLOCK1_ZONE1 Program\n",
      "Added - SetInputData Program\n",
      "Added - SetVOFinputData Program\n",
      "Added - SetVST Program\n",
      "Added - ApplyAST_BLOCK1_ZONE2 Program\n",
      "Added - ApplyAST_BLOCK1_ZONE1 Program\n",
      "Added - SetMyVOF_Block1_Zone2_Wall_3_0_0_0_0_0_Win Program\n",
      "Added - SetWindowOperation_Block1_Zone2_Wall_3_0_0_0_0_0_Win Program\n",
      "Added - SetMyVOF_Block1_Zone2_Wall_4_0_0_0_0_0_Win Program\n",
      "Added - SetWindowOperation_Block1_Zone2_Wall_4_0_0_0_0_0_Win Program\n",
      "Added - SetMyVOF_Block1_Zone2_Wall_5_0_0_0_0_0_Win Program\n",
      "Added - SetWindowOperation_Block1_Zone2_Wall_5_0_0_0_0_0_Win Program\n",
      "Added - SetMyVOF_Block1_Zone1_Wall_2_0_0_0_0_0_Win Program\n",
      "Added - SetWindowOperation_Block1_Zone1_Wall_2_0_0_0_0_0_Win Program\n",
      "Added - SetMyVOF_Block1_Zone1_Wall_3_0_0_0_0_0_Win Program\n",
      "Added - SetWindowOperation_Block1_Zone1_Wall_3_0_0_0_0_0_Win Program\n",
      "Added - SetMyVOF_Block1_Zone1_Wall_5_0_0_0_0_0_Win Program\n",
      "Added - SetWindowOperation_Block1_Zone1_Wall_5_0_0_0_0_0_Win Program\n",
      "Added - Comfort Temperature Output Variable\n",
      "Added - Adaptive Cooling Setpoint Temperature Output Variable\n",
      "Added - Adaptive Heating Setpoint Temperature Output Variable\n",
      "Added - Adaptive Cooling Setpoint Temperature_No Tolerance Output Variable\n",
      "Added - Adaptive Heating Setpoint Temperature_No Tolerance Output Variable\n",
      "Added - z_test_ComfStand Output Variable\n",
      "Added - z_test_ACSTaul Output Variable\n",
      "Added - z_test_ACSTall Output Variable\n",
      "Added - z_test_AHSTaul Output Variable\n",
      "Added - z_test_AHSTall Output Variable\n",
      "Added - z_test_CAT Output Variable\n",
      "Added - z_test_ACSToffset Output Variable\n",
      "Added - z_test_AHSToffset Output Variable\n",
      "Added - z_test_ComfMod Output Variable\n",
      "Added - z_test_ACSTtol Output Variable\n",
      "Added - z_test_SetpointAcc Output Variable\n",
      "Added - z_test_CustAST_m Output Variable\n",
      "Added - z_test_CustAST_n Output Variable\n",
      "Added - z_test_AHSTtol Output Variable\n",
      "Added - Ventilation Setpoint Temperature Output Variable\n",
      "Added - Minimum Outdoor Temperature for ventilation Output Variable\n",
      "Added - Minimum Outdoor Temperature Difference for ventilation Output Variable\n",
      "Added - Maximum Outdoor Temperature Difference for ventilation Output Variable\n",
      "Added - Multiplier for Ventilation Opening Factor Output Variable\n",
      "Added - Comfortable Hours_No Applicability_BLOCK1_ZONE2 Output Variable\n",
      "Added - Comfortable Hours_No Applicability_BLOCK1_ZONE1 Output Variable\n",
      "Added - Comfortable Hours_Applicability_BLOCK1_ZONE2 Output Variable\n",
      "Added - Comfortable Hours_Applicability_BLOCK1_ZONE1 Output Variable\n",
      "Added - Occupied Comfortable Hours_No Applicability_BLOCK1_ZONE2 Output Variable\n",
      "Added - Occupied Comfortable Hours_No Applicability_BLOCK1_ZONE1 Output Variable\n",
      "Added - Occupied Discomfortable Hours_No Applicability_BLOCK1_ZONE2 Output Variable\n",
      "Added - Occupied Discomfortable Hours_No Applicability_BLOCK1_ZONE1 Output Variable\n",
      "Added - Occupied Hours_BLOCK1_ZONE2 Output Variable\n",
      "Added - Occupied Hours_BLOCK1_ZONE1 Output Variable\n",
      "Added - Discomfortable Applicable Hot Hours_BLOCK1_ZONE2 Output Variable\n",
      "Added - Discomfortable Applicable Hot Hours_BLOCK1_ZONE1 Output Variable\n",
      "Added - Discomfortable Applicable Cold Hours_BLOCK1_ZONE2 Output Variable\n",
      "Added - Discomfortable Applicable Cold Hours_BLOCK1_ZONE1 Output Variable\n",
      "Added - Discomfortable Non Applicable Hot Hours_BLOCK1_ZONE2 Output Variable\n",
      "Added - Discomfortable Non Applicable Hot Hours_BLOCK1_ZONE1 Output Variable\n",
      "Added - Discomfortable Non Applicable Cold Hours_BLOCK1_ZONE2 Output Variable\n",
      "Added - Discomfortable Non Applicable Cold Hours_BLOCK1_ZONE1 Output Variable\n",
      "Added - Zone Floor Area_BLOCK1_ZONE2 Output Variable\n",
      "Added - Zone Floor Area_BLOCK1_ZONE1 Output Variable\n",
      "Added - Zone Air Volume_BLOCK1_ZONE2 Output Variable\n",
      "Added - Zone Air Volume_BLOCK1_ZONE1 Output Variable\n",
      "Added - People Occupant Count_BLOCK1_ZONE2 Output Variable\n",
      "Added - People Occupant Count_BLOCK1_ZONE1 Output Variable\n",
      "Added - Ventilation Hours_BLOCK1_ZONE2 Output Variable\n",
      "Added - Ventilation Hours_BLOCK1_ZONE1 Output Variable\n",
      "Global variables objects have been added\n",
      "Internal variables objects have been added\n",
      "Added - RMOT Sensor\n",
      "Added - PMOT Sensor\n",
      "Added - Occ_count_BLOCK1_ZONE2 Sensor\n",
      "Added - Occ_count_BLOCK1_ZONE1 Sensor\n",
      "Added - BLOCK1_ZONE2_OpT Sensor\n",
      "Added - BLOCK1_ZONE2_WindSpeed Sensor\n",
      "Added - BLOCK1_ZONE2_OutT Sensor\n",
      "Added - BLOCK1_ZONE1_OpT Sensor\n",
      "Added - BLOCK1_ZONE1_WindSpeed Sensor\n",
      "Added - BLOCK1_ZONE1_OutT Sensor\n",
      "Added - Block1_Zone2_Wall_3_0_0_0_0_0_Win_OpT Sensor\n",
      "Added - Block1_Zone2_Wall_3_0_0_0_0_0_Win_WindSpeed Sensor\n",
      "Added - Block1_Zone2_Wall_3_0_0_0_0_0_Win_OutT Sensor\n",
      "Added - Block1_Zone2_Wall_3_0_0_0_0_0_Win_Occ_count Sensor\n",
      "Added - Block1_Zone2_Wall_4_0_0_0_0_0_Win_OpT Sensor\n",
      "Added - Block1_Zone2_Wall_4_0_0_0_0_0_Win_WindSpeed Sensor\n",
      "Added - Block1_Zone2_Wall_4_0_0_0_0_0_Win_OutT Sensor\n",
      "Added - Block1_Zone2_Wall_4_0_0_0_0_0_Win_Occ_count Sensor\n",
      "Added - Block1_Zone2_Wall_5_0_0_0_0_0_Win_OpT Sensor\n",
      "Added - Block1_Zone2_Wall_5_0_0_0_0_0_Win_WindSpeed Sensor\n",
      "Added - Block1_Zone2_Wall_5_0_0_0_0_0_Win_OutT Sensor\n",
      "Added - Block1_Zone2_Wall_5_0_0_0_0_0_Win_Occ_count Sensor\n",
      "Added - Block1_Zone1_Wall_2_0_0_0_0_0_Win_OpT Sensor\n",
      "Added - Block1_Zone1_Wall_2_0_0_0_0_0_Win_WindSpeed Sensor\n",
      "Added - Block1_Zone1_Wall_2_0_0_0_0_0_Win_OutT Sensor\n",
      "Added - Block1_Zone1_Wall_2_0_0_0_0_0_Win_Occ_count Sensor\n",
      "Added - Block1_Zone1_Wall_3_0_0_0_0_0_Win_OpT Sensor\n",
      "Added - Block1_Zone1_Wall_3_0_0_0_0_0_Win_WindSpeed Sensor\n",
      "Added - Block1_Zone1_Wall_3_0_0_0_0_0_Win_OutT Sensor\n",
      "Added - Block1_Zone1_Wall_3_0_0_0_0_0_Win_Occ_count Sensor\n",
      "Added - Block1_Zone1_Wall_5_0_0_0_0_0_Win_OpT Sensor\n",
      "Added - Block1_Zone1_Wall_5_0_0_0_0_0_Win_WindSpeed Sensor\n",
      "Added - Block1_Zone1_Wall_5_0_0_0_0_0_Win_OutT Sensor\n",
      "Added - Block1_Zone1_Wall_5_0_0_0_0_0_Win_Occ_count Sensor\n",
      "Added - OutT Sensor\n",
      "Added - AHST_Act_BLOCK1_ZONE2 Actuator\n",
      "Added - ACST_Act_BLOCK1:ZONE2 Actuator\n",
      "Added - AHST_Act_BLOCK1_ZONE1 Actuator\n",
      "Added - ACST_Act_BLOCK1:ZONE1 Actuator\n",
      "Added - Block1_Zone2_Wall_3_0_0_0_0_0_Win_VentOpenFact Actuator\n",
      "Added - Block1_Zone2_Wall_4_0_0_0_0_0_Win_VentOpenFact Actuator\n",
      "Added - Block1_Zone2_Wall_5_0_0_0_0_0_Win_VentOpenFact Actuator\n",
      "Added - Block1_Zone1_Wall_2_0_0_0_0_0_Win_VentOpenFact Actuator\n",
      "Added - Block1_Zone1_Wall_3_0_0_0_0_0_Win_VentOpenFact Actuator\n",
      "Added - Block1_Zone1_Wall_5_0_0_0_0_0_Win_VentOpenFact Actuator\n",
      "Added - BLOCK1_ZONE2_CoolCoil Sensor\n",
      "Added - BLOCK1_ZONE2_HeatCoil Sensor\n",
      "Added - BLOCK1_ZONE1_CoolCoil Sensor\n",
      "Added - BLOCK1_ZONE1_HeatCoil Sensor\n",
      "Added - Block1_Zone2_Wall_3_0_0_0_0_0_Win_CoolCoil Sensor\n",
      "Added - Block1_Zone2_Wall_3_0_0_0_0_0_Win_HeatCoil Sensor\n",
      "Added - Block1_Zone2_Wall_4_0_0_0_0_0_Win_CoolCoil Sensor\n",
      "Added - Block1_Zone2_Wall_4_0_0_0_0_0_Win_HeatCoil Sensor\n",
      "Added - Block1_Zone2_Wall_5_0_0_0_0_0_Win_CoolCoil Sensor\n",
      "Added - Block1_Zone2_Wall_5_0_0_0_0_0_Win_HeatCoil Sensor\n",
      "Added - Block1_Zone1_Wall_2_0_0_0_0_0_Win_CoolCoil Sensor\n",
      "Added - Block1_Zone1_Wall_2_0_0_0_0_0_Win_HeatCoil Sensor\n",
      "Added - Block1_Zone1_Wall_3_0_0_0_0_0_Win_CoolCoil Sensor\n",
      "Added - Block1_Zone1_Wall_3_0_0_0_0_0_Win_HeatCoil Sensor\n",
      "Added - Block1_Zone1_Wall_5_0_0_0_0_0_Win_CoolCoil Sensor\n",
      "Added - Block1_Zone1_Wall_5_0_0_0_0_0_Win_HeatCoil Sensor\n",
      "Added - SetComfTemp Program Calling Manager\n",
      "Added - CountHours_BLOCK1_ZONE2 Program Calling Manager\n",
      "Added - CountHours_BLOCK1_ZONE1 Program Calling Manager\n",
      "Added - SetAppLimits Program Calling Manager\n",
      "Added - ApplyCAT Program Calling Manager\n",
      "Added - SetAST Program Calling Manager\n",
      "Added - SetASTnoTol Program Calling Manager\n",
      "Added - CountHoursNoApp_BLOCK1_ZONE2 Program Calling Manager\n",
      "Added - SetGeoVarBLOCK1_ZONE2 Program Calling Manager\n",
      "Added - CountHoursNoApp_BLOCK1_ZONE1 Program Calling Manager\n",
      "Added - SetGeoVarBLOCK1_ZONE1 Program Calling Manager\n",
      "Added - SetInputData Program Calling Manager\n",
      "Added - SetVOFinputData Program Calling Manager\n",
      "Added - SetVST Program Calling Manager\n",
      "Added - ApplyAST_BLOCK1_ZONE2 Program Calling Manager\n",
      "Added - ApplyAST_BLOCK1_ZONE1 Program Calling Manager\n",
      "Added - SetMyVOF_Block1_Zone2_Wall_3_0_0_0_0_0_Win Program Calling Manager\n",
      "Added - SetWindowOperation_Block1_Zone2_Wall_3_0_0_0_0_0_Win Program Calling Manager\n",
      "Added - SetMyVOF_Block1_Zone2_Wall_4_0_0_0_0_0_Win Program Calling Manager\n",
      "Added - SetWindowOperation_Block1_Zone2_Wall_4_0_0_0_0_0_Win Program Calling Manager\n",
      "Added - SetMyVOF_Block1_Zone2_Wall_5_0_0_0_0_0_Win Program Calling Manager\n",
      "Added - SetWindowOperation_Block1_Zone2_Wall_5_0_0_0_0_0_Win Program Calling Manager\n",
      "Added - SetMyVOF_Block1_Zone1_Wall_2_0_0_0_0_0_Win Program Calling Manager\n",
      "Added - SetWindowOperation_Block1_Zone1_Wall_2_0_0_0_0_0_Win Program Calling Manager\n",
      "Added - SetMyVOF_Block1_Zone1_Wall_3_0_0_0_0_0_Win Program Calling Manager\n",
      "Added - SetWindowOperation_Block1_Zone1_Wall_3_0_0_0_0_0_Win Program Calling Manager\n",
      "Added - SetMyVOF_Block1_Zone1_Wall_5_0_0_0_0_0_Win Program Calling Manager\n",
      "Added - SetWindowOperation_Block1_Zone1_Wall_5_0_0_0_0_0_Win Program Calling Manager\n",
      "Added - Comfort Temperature Reporting FrequencyHourly Output:Variable data\n",
      "Added - Adaptive Cooling Setpoint Temperature Reporting FrequencyHourly Output:Variable data\n",
      "Added - Adaptive Heating Setpoint Temperature Reporting FrequencyHourly Output:Variable data\n",
      "Added - Adaptive Cooling Setpoint Temperature_No Tolerance Reporting FrequencyHourly Output:Variable data\n",
      "Added - Adaptive Heating Setpoint Temperature_No Tolerance Reporting FrequencyHourly Output:Variable data\n",
      "Added - z_test_ComfStand Reporting FrequencyHourly Output:Variable data\n",
      "Added - z_test_ACSTaul Reporting FrequencyHourly Output:Variable data\n",
      "Added - z_test_ACSTall Reporting FrequencyHourly Output:Variable data\n",
      "Added - z_test_AHSTaul Reporting FrequencyHourly Output:Variable data\n",
      "Added - z_test_AHSTall Reporting FrequencyHourly Output:Variable data\n",
      "Added - z_test_CAT Reporting FrequencyHourly Output:Variable data\n",
      "Added - z_test_ACSToffset Reporting FrequencyHourly Output:Variable data\n",
      "Added - z_test_AHSToffset Reporting FrequencyHourly Output:Variable data\n",
      "Added - z_test_ComfMod Reporting FrequencyHourly Output:Variable data\n",
      "Added - z_test_ACSTtol Reporting FrequencyHourly Output:Variable data\n",
      "Added - z_test_SetpointAcc Reporting FrequencyHourly Output:Variable data\n",
      "Added - z_test_CustAST_m Reporting FrequencyHourly Output:Variable data\n",
      "Added - z_test_CustAST_n Reporting FrequencyHourly Output:Variable data\n",
      "Added - z_test_AHSTtol Reporting FrequencyHourly Output:Variable data\n",
      "Added - Ventilation Setpoint Temperature Reporting FrequencyHourly Output:Variable data\n",
      "Added - Minimum Outdoor Temperature for ventilation Reporting FrequencyHourly Output:Variable data\n",
      "Added - Minimum Outdoor Temperature Difference for ventilation Reporting FrequencyHourly Output:Variable data\n",
      "Added - Maximum Outdoor Temperature Difference for ventilation Reporting FrequencyHourly Output:Variable data\n",
      "Added - Multiplier for Ventilation Opening Factor Reporting FrequencyHourly Output:Variable data\n",
      "Added - Comfortable Hours_No Applicability_BLOCK1_ZONE2 Reporting FrequencyHourly Output:Variable data\n",
      "Added - Comfortable Hours_No Applicability_BLOCK1_ZONE1 Reporting FrequencyHourly Output:Variable data\n",
      "Added - Comfortable Hours_Applicability_BLOCK1_ZONE2 Reporting FrequencyHourly Output:Variable data\n",
      "Added - Comfortable Hours_Applicability_BLOCK1_ZONE1 Reporting FrequencyHourly Output:Variable data\n",
      "Added - Occupied Comfortable Hours_No Applicability_BLOCK1_ZONE2 Reporting FrequencyHourly Output:Variable data\n",
      "Added - Occupied Comfortable Hours_No Applicability_BLOCK1_ZONE1 Reporting FrequencyHourly Output:Variable data\n",
      "Added - Occupied Discomfortable Hours_No Applicability_BLOCK1_ZONE2 Reporting FrequencyHourly Output:Variable data\n",
      "Added - Occupied Discomfortable Hours_No Applicability_BLOCK1_ZONE1 Reporting FrequencyHourly Output:Variable data\n",
      "Added - Occupied Hours_BLOCK1_ZONE2 Reporting FrequencyHourly Output:Variable data\n",
      "Added - Occupied Hours_BLOCK1_ZONE1 Reporting FrequencyHourly Output:Variable data\n",
      "Added - Discomfortable Applicable Hot Hours_BLOCK1_ZONE2 Reporting FrequencyHourly Output:Variable data\n",
      "Added - Discomfortable Applicable Hot Hours_BLOCK1_ZONE1 Reporting FrequencyHourly Output:Variable data\n",
      "Added - Discomfortable Applicable Cold Hours_BLOCK1_ZONE2 Reporting FrequencyHourly Output:Variable data\n",
      "Added - Discomfortable Applicable Cold Hours_BLOCK1_ZONE1 Reporting FrequencyHourly Output:Variable data\n",
      "Added - Discomfortable Non Applicable Hot Hours_BLOCK1_ZONE2 Reporting FrequencyHourly Output:Variable data\n",
      "Added - Discomfortable Non Applicable Hot Hours_BLOCK1_ZONE1 Reporting FrequencyHourly Output:Variable data\n",
      "Added - Discomfortable Non Applicable Cold Hours_BLOCK1_ZONE2 Reporting FrequencyHourly Output:Variable data\n",
      "Added - Discomfortable Non Applicable Cold Hours_BLOCK1_ZONE1 Reporting FrequencyHourly Output:Variable data\n",
      "Added - Zone Floor Area_BLOCK1_ZONE2 Reporting FrequencyHourly Output:Variable data\n",
      "Added - Zone Floor Area_BLOCK1_ZONE1 Reporting FrequencyHourly Output:Variable data\n",
      "Added - Zone Air Volume_BLOCK1_ZONE2 Reporting FrequencyHourly Output:Variable data\n",
      "Added - Zone Air Volume_BLOCK1_ZONE1 Reporting FrequencyHourly Output:Variable data\n",
      "Added - People Occupant Count_BLOCK1_ZONE2 Reporting FrequencyHourly Output:Variable data\n",
      "Added - People Occupant Count_BLOCK1_ZONE1 Reporting FrequencyHourly Output:Variable data\n",
      "Added - Ventilation Hours_BLOCK1_ZONE2 Reporting FrequencyHourly Output:Variable data\n",
      "Added - Ventilation Hours_BLOCK1_ZONE1 Reporting FrequencyHourly Output:Variable data\n",
      "Added - Zone Thermostat Operative Temperature Reporting FrequencyHourly Output:Variable data\n",
      "Added - Zone Thermostat Air Temperature Reporting FrequencyHourly Output:Variable data\n",
      "Added - Zone Operative Temperature Reporting FrequencyHourly Output:Variable data\n",
      "Added - Zone Thermal Comfort CEN 15251 Adaptive Model Running Average Outdoor Air Temperature Reporting FrequencyHourly Output:Variable data\n",
      "Added - Zone Thermal Comfort ASHRAE 55 Adaptive Model Running Average Outdoor Air Temperature Reporting FrequencyHourly Output:Variable data\n",
      "Added - Cooling Coil Total Cooling Rate Reporting FrequencyHourly Output:Variable data\n",
      "Added - Heating Coil Heating Rate Reporting FrequencyHourly Output:Variable data\n",
      "Added - Facility Total HVAC Electric Demand Power Reporting FrequencyHourly Output:Variable data\n",
      "Added - Facility Total HVAC Electricity Demand Rate Reporting FrequencyHourly Output:Variable data\n",
      "Added - AFN Surface Venting Window or Door Opening Factor Reporting FrequencyHourly Output:Variable data\n",
      "Added - AFN Zone Infiltration Air Change Rate Reporting FrequencyHourly Output:Variable data\n",
      "Added - AFN Zone Infiltration Volume Reporting FrequencyHourly Output:Variable data\n",
      "Added - AFN Zone Ventilation Air Change Rate Reporting FrequencyHourly Output:Variable data\n",
      "Added - AFN Zone Ventilation Volume Reporting FrequencyHourly Output:Variable data\n",
      "Added - Site Outdoor Air Drybulb Temperature Reporting FrequencyHourly Output:Variable data\n",
      "Added - Site Wind Speed Reporting FrequencyHourly Output:Variable data\n",
      "Added - Site Outdoor Air Relative Humidity Reporting FrequencyHourly Output:Variable data\n",
      "Added - AHST_Sch_BLOCK1_ZONE2 Reporting FrequencyHourly Output:Variable data\n",
      "Added - ACST_Sch_BLOCK1_ZONE2 Reporting FrequencyHourly Output:Variable data\n",
      "Added - AHST_Sch_BLOCK1_ZONE1 Reporting FrequencyHourly Output:Variable data\n",
      "Added - ACST_Sch_BLOCK1_ZONE1 Reporting FrequencyHourly Output:Variable data\n",
      "Added - VRF Heat Pump Cooling Electricity Energy Reporting FrequencyHourly Output:Variable data\n",
      "Added - VRF Heat Pump Heating Electricity Energy Reporting FrequencyHourly Output:Variable data\n",
      "Added - BLOCK1_ZONE2 VRF Indoor Unit DX Cooling Coil Reporting FrequencyHourly Output:Variable data\n",
      "Added - BLOCK1_ZONE2 VRF Indoor Unit DX Heating Coil Reporting Frequency Hourly Output:Variable data\n",
      "Added - BLOCK1_ZONE1 VRF Indoor Unit DX Cooling Coil Reporting FrequencyHourly Output:Variable data\n",
      "Added - BLOCK1_ZONE1 VRF Indoor Unit DX Heating Coil Reporting Frequency Hourly Output:Variable data\n",
      "Added - OutputControl:Files object\n",
      "Added - Output:VariableDictionary object\n",
      "\n",
      "=======================END OF OUTPUT IDF FILE GENERATION PROCESS=======================\n",
      "\n"
     ]
    }
   ],
   "source": [
    "parametric = OptimParamSimulation(\n",
    "    building=building,\n",
    "    parameters_type='accim custom model',\n",
    "    #output_type='standard', #\n",
    "    #output_keep_existing=False, #\n",
    "    #output_freqs=['hourly'], #\n",
    "    #ScriptType='vrf_mm', #\n",
    "    #SupplyAirTempInputMethod='temperature difference', #\n",
    "    #debugging=True, #\n",
    "    #verbosemode=False #\n",
    ")"
   ]
  },
  {
   "cell_type": "markdown",
   "id": "51eed0eb-7b3a-4428-8952-070a650acf61",
   "metadata": {},
   "source": [
    "An initial and generic version of the Adaptive-Comfort-Control-Implementation Script (ACCIS) has been added to the idf instance `building`. For instance, you can take a look at the parameter values accis currently has:"
   ]
  },
  {
   "cell_type": "code",
   "execution_count": 7,
   "id": "ad387b77-4998-4e51-979a-928fa52e551d",
   "metadata": {},
   "outputs": [
    {
     "data": {
      "text/plain": [
       "[\n",
       " ENERGYMANAGEMENTSYSTEM:PROGRAM,\n",
       "     SetInputData,             !- Name\n",
       "     set ComfStand = 1,        !- Program Line 1\n",
       "     set CAT = 1,              !- Program Line 2\n",
       "     set ComfMod = 2,          !- Program Line 3\n",
       "     set HVACmode = 2,         !- Program Line 4\n",
       "     set VentCtrl = 0,         !- Program Line 5\n",
       "     set VSToffset = 0,        !- Program Line 6\n",
       "     set MinOToffset = 7,      !- Program Line 7\n",
       "     set MaxWindSpeed = 6,     !- Program Line 8\n",
       "     set ACSTtol = -0.25,      !- Program Line 9\n",
       "     set AHSTtol = 0.25,       !- Program Line 10\n",
       "     set CoolSeasonStart = 121,    !- Program Line 11\n",
       "     set CoolSeasonEnd = 274;    !- Program Line 12]"
      ]
     },
     "execution_count": 7,
     "metadata": {},
     "output_type": "execute_result"
    }
   ],
   "source": [
    "[i for i in building.idfobjects['energymanagementsystem:program'] if i.Name.lower() == 'setinputdata']"
   ]
  },
  {
   "cell_type": "markdown",
   "id": "99605e82-4d01-4aee-835c-ab9c6c66faa4",
   "metadata": {},
   "source": [
    "## Setting the outputs"
   ]
  },
  {
   "cell_type": "markdown",
   "id": "8d3f905b-543d-4f32-b0dd-67ed99f77780",
   "metadata": {},
   "source": [
    "**If you have already read any of the other parametric simulation examples, you can skip this entire outputs section, since it is exactly the same.**"
   ]
  },
  {
   "cell_type": "markdown",
   "id": "bc714539-79c3-46e9-9caa-44a21fc413cb",
   "metadata": {},
   "source": [
    "### Outputs for the idf (i.e. the outputs for each simulation run)"
   ]
  },
  {
   "cell_type": "markdown",
   "id": "764b7626-0e63-4317-8bbf-28ac2fe68f68",
   "metadata": {},
   "source": [
    "First of all, we are going to set the outputs of the simulations that are going to be performed. This is an important step, especially if you are going to run hundreds or thousands of simulations."
   ]
  },
  {
   "cell_type": "markdown",
   "id": "b2f1d34a-dc0a-4aac-b01f-a7425b95090f",
   "metadata": {},
   "source": [
    "Let's take a look at the Output:Variable objects we currently have in the idf. The method `get_output_var_df_from_idf()` returns a pandas DataFrame which contains the information of the existing Output:Variable objects in the idf:"
   ]
  },
  {
   "cell_type": "code",
   "execution_count": 8,
   "id": "12ee78ba-c60b-4ef1-a6fb-51086a8a53fa",
   "metadata": {},
   "outputs": [
    {
     "data": {
      "text/html": [
       "<div>\n",
       "<style scoped>\n",
       "    .dataframe tbody tr th:only-of-type {\n",
       "        vertical-align: middle;\n",
       "    }\n",
       "\n",
       "    .dataframe tbody tr th {\n",
       "        vertical-align: top;\n",
       "    }\n",
       "\n",
       "    .dataframe thead th {\n",
       "        text-align: right;\n",
       "    }\n",
       "</style>\n",
       "<table border=\"1\" class=\"dataframe\">\n",
       "  <thead>\n",
       "    <tr style=\"text-align: right;\">\n",
       "      <th></th>\n",
       "      <th>key_value</th>\n",
       "      <th>variable_name</th>\n",
       "      <th>reporting_frequency</th>\n",
       "      <th>schedule_name</th>\n",
       "    </tr>\n",
       "  </thead>\n",
       "  <tbody>\n",
       "    <tr>\n",
       "      <th>0</th>\n",
       "      <td>*</td>\n",
       "      <td>Comfort Temperature</td>\n",
       "      <td>Hourly</td>\n",
       "      <td></td>\n",
       "    </tr>\n",
       "    <tr>\n",
       "      <th>1</th>\n",
       "      <td>*</td>\n",
       "      <td>Adaptive Cooling Setpoint Temperature</td>\n",
       "      <td>Hourly</td>\n",
       "      <td></td>\n",
       "    </tr>\n",
       "    <tr>\n",
       "      <th>2</th>\n",
       "      <td>*</td>\n",
       "      <td>Adaptive Heating Setpoint Temperature</td>\n",
       "      <td>Hourly</td>\n",
       "      <td></td>\n",
       "    </tr>\n",
       "    <tr>\n",
       "      <th>3</th>\n",
       "      <td>*</td>\n",
       "      <td>Adaptive Cooling Setpoint Temperature_No Toler...</td>\n",
       "      <td>Hourly</td>\n",
       "      <td></td>\n",
       "    </tr>\n",
       "    <tr>\n",
       "      <th>4</th>\n",
       "      <td>*</td>\n",
       "      <td>Adaptive Heating Setpoint Temperature_No Toler...</td>\n",
       "      <td>Hourly</td>\n",
       "      <td></td>\n",
       "    </tr>\n",
       "    <tr>\n",
       "      <th>...</th>\n",
       "      <td>...</td>\n",
       "      <td>...</td>\n",
       "      <td>...</td>\n",
       "      <td>...</td>\n",
       "    </tr>\n",
       "    <tr>\n",
       "      <th>72</th>\n",
       "      <td>*</td>\n",
       "      <td>VRF Heat Pump Heating Electricity Energy</td>\n",
       "      <td>Hourly</td>\n",
       "      <td></td>\n",
       "    </tr>\n",
       "    <tr>\n",
       "      <th>73</th>\n",
       "      <td>BLOCK1_ZONE2 VRF Indoor Unit DX Cooling Coil</td>\n",
       "      <td>Cooling Coil Total Cooling Rate</td>\n",
       "      <td>Hourly</td>\n",
       "      <td></td>\n",
       "    </tr>\n",
       "    <tr>\n",
       "      <th>74</th>\n",
       "      <td>BLOCK1_ZONE2 VRF Indoor Unit DX Heating Coil</td>\n",
       "      <td>Heating Coil Heating Rate</td>\n",
       "      <td>Hourly</td>\n",
       "      <td></td>\n",
       "    </tr>\n",
       "    <tr>\n",
       "      <th>75</th>\n",
       "      <td>BLOCK1_ZONE1 VRF Indoor Unit DX Cooling Coil</td>\n",
       "      <td>Cooling Coil Total Cooling Rate</td>\n",
       "      <td>Hourly</td>\n",
       "      <td></td>\n",
       "    </tr>\n",
       "    <tr>\n",
       "      <th>76</th>\n",
       "      <td>BLOCK1_ZONE1 VRF Indoor Unit DX Heating Coil</td>\n",
       "      <td>Heating Coil Heating Rate</td>\n",
       "      <td>Hourly</td>\n",
       "      <td></td>\n",
       "    </tr>\n",
       "  </tbody>\n",
       "</table>\n",
       "<p>77 rows × 4 columns</p>\n",
       "</div>"
      ],
      "text/plain": [
       "                                       key_value  \\\n",
       "0                                              *   \n",
       "1                                              *   \n",
       "2                                              *   \n",
       "3                                              *   \n",
       "4                                              *   \n",
       "..                                           ...   \n",
       "72                                             *   \n",
       "73  BLOCK1_ZONE2 VRF Indoor Unit DX Cooling Coil   \n",
       "74  BLOCK1_ZONE2 VRF Indoor Unit DX Heating Coil   \n",
       "75  BLOCK1_ZONE1 VRF Indoor Unit DX Cooling Coil   \n",
       "76  BLOCK1_ZONE1 VRF Indoor Unit DX Heating Coil   \n",
       "\n",
       "                                        variable_name reporting_frequency  \\\n",
       "0                                 Comfort Temperature              Hourly   \n",
       "1               Adaptive Cooling Setpoint Temperature              Hourly   \n",
       "2               Adaptive Heating Setpoint Temperature              Hourly   \n",
       "3   Adaptive Cooling Setpoint Temperature_No Toler...              Hourly   \n",
       "4   Adaptive Heating Setpoint Temperature_No Toler...              Hourly   \n",
       "..                                                ...                 ...   \n",
       "72           VRF Heat Pump Heating Electricity Energy              Hourly   \n",
       "73                    Cooling Coil Total Cooling Rate              Hourly   \n",
       "74                          Heating Coil Heating Rate              Hourly   \n",
       "75                    Cooling Coil Total Cooling Rate              Hourly   \n",
       "76                          Heating Coil Heating Rate              Hourly   \n",
       "\n",
       "   schedule_name  \n",
       "0                 \n",
       "1                 \n",
       "2                 \n",
       "3                 \n",
       "4                 \n",
       "..           ...  \n",
       "72                \n",
       "73                \n",
       "74                \n",
       "75                \n",
       "76                \n",
       "\n",
       "[77 rows x 4 columns]"
      ]
     },
     "execution_count": 8,
     "metadata": {},
     "output_type": "execute_result"
    }
   ],
   "source": [
    "df_output_variables_idf = parametric.get_output_var_df_from_idf()\n",
    "df_output_variables_idf"
   ]
  },
  {
   "cell_type": "markdown",
   "id": "ab1e81e8-c2f0-40c0-b868-0cf7ddb9954f",
   "metadata": {},
   "source": [
    "now, let's see the Output:Meter objects:"
   ]
  },
  {
   "cell_type": "code",
   "execution_count": 9,
   "id": "94c9844b-aacf-41fa-b1d4-ac7b491aa14e",
   "metadata": {},
   "outputs": [
    {
     "data": {
      "text/html": [
       "<div>\n",
       "<style scoped>\n",
       "    .dataframe tbody tr th:only-of-type {\n",
       "        vertical-align: middle;\n",
       "    }\n",
       "\n",
       "    .dataframe tbody tr th {\n",
       "        vertical-align: top;\n",
       "    }\n",
       "\n",
       "    .dataframe thead th {\n",
       "        text-align: right;\n",
       "    }\n",
       "</style>\n",
       "<table border=\"1\" class=\"dataframe\">\n",
       "  <thead>\n",
       "    <tr style=\"text-align: right;\">\n",
       "      <th></th>\n",
       "      <th>key_name</th>\n",
       "      <th>frequency</th>\n",
       "    </tr>\n",
       "  </thead>\n",
       "  <tbody>\n",
       "  </tbody>\n",
       "</table>\n",
       "</div>"
      ],
      "text/plain": [
       "Empty DataFrame\n",
       "Columns: [key_name, frequency]\n",
       "Index: []"
      ]
     },
     "execution_count": 9,
     "metadata": {},
     "output_type": "execute_result"
    }
   ],
   "source": [
    "df_output_meters_idf = parametric.get_output_meter_df_from_idf()\n",
    "df_output_meters_idf.head()"
   ]
  },
  {
   "cell_type": "markdown",
   "id": "093bdcab-a1aa-492a-8864-d2e4e1a0b72c",
   "metadata": {},
   "source": [
    "In this case, we can see there is no Output:Meter. However, there is a large number of Output:Variable objects which might result in heavy simulation outputs. So, let's get rid of some of them. We can drop the rows we want, and then input the modified DataFrame in the method `set_output_var_df_to_idf(outputs_df)`."
   ]
  },
  {
   "cell_type": "code",
   "execution_count": 10,
   "id": "9ccc7b08-119c-4f4c-bb45-9aac8201fe7e",
   "metadata": {},
   "outputs": [
    {
     "data": {
      "text/html": [
       "<div>\n",
       "<style scoped>\n",
       "    .dataframe tbody tr th:only-of-type {\n",
       "        vertical-align: middle;\n",
       "    }\n",
       "\n",
       "    .dataframe tbody tr th {\n",
       "        vertical-align: top;\n",
       "    }\n",
       "\n",
       "    .dataframe thead th {\n",
       "        text-align: right;\n",
       "    }\n",
       "</style>\n",
       "<table border=\"1\" class=\"dataframe\">\n",
       "  <thead>\n",
       "    <tr style=\"text-align: right;\">\n",
       "      <th></th>\n",
       "      <th>key_value</th>\n",
       "      <th>variable_name</th>\n",
       "      <th>reporting_frequency</th>\n",
       "      <th>schedule_name</th>\n",
       "    </tr>\n",
       "  </thead>\n",
       "  <tbody>\n",
       "    <tr>\n",
       "      <th>3</th>\n",
       "      <td>*</td>\n",
       "      <td>Adaptive Cooling Setpoint Temperature_No Toler...</td>\n",
       "      <td>Hourly</td>\n",
       "      <td></td>\n",
       "    </tr>\n",
       "    <tr>\n",
       "      <th>4</th>\n",
       "      <td>*</td>\n",
       "      <td>Adaptive Heating Setpoint Temperature_No Toler...</td>\n",
       "      <td>Hourly</td>\n",
       "      <td></td>\n",
       "    </tr>\n",
       "    <tr>\n",
       "      <th>52</th>\n",
       "      <td>*</td>\n",
       "      <td>Zone Operative Temperature</td>\n",
       "      <td>Hourly</td>\n",
       "      <td></td>\n",
       "    </tr>\n",
       "    <tr>\n",
       "      <th>54</th>\n",
       "      <td>*</td>\n",
       "      <td>Zone Thermal Comfort ASHRAE 55 Adaptive Model ...</td>\n",
       "      <td>Hourly</td>\n",
       "      <td></td>\n",
       "    </tr>\n",
       "  </tbody>\n",
       "</table>\n",
       "</div>"
      ],
      "text/plain": [
       "   key_value                                      variable_name  \\\n",
       "3          *  Adaptive Cooling Setpoint Temperature_No Toler...   \n",
       "4          *  Adaptive Heating Setpoint Temperature_No Toler...   \n",
       "52         *                         Zone Operative Temperature   \n",
       "54         *  Zone Thermal Comfort ASHRAE 55 Adaptive Model ...   \n",
       "\n",
       "   reporting_frequency schedule_name  \n",
       "3               Hourly                \n",
       "4               Hourly                \n",
       "52              Hourly                \n",
       "54              Hourly                "
      ]
     },
     "execution_count": 10,
     "metadata": {},
     "output_type": "execute_result"
    }
   ],
   "source": [
    "df_output_variables_idf = df_output_variables_idf[\n",
    "    (\n",
    "        df_output_variables_idf['variable_name'].str.contains('Setpoint Temperature_No Tolerance')\n",
    "        |\n",
    "        df_output_variables_idf['variable_name'].str.contains('Zone Operative Temperature')\n",
    "        |\n",
    "        df_output_variables_idf['variable_name'].str.contains('Zone Thermal Comfort ASHRAE 55 Adaptive Model Running Average Outdoor Air Temperature')\n",
    "\n",
    "    )\n",
    "]\n",
    "df_output_variables_idf"
   ]
  },
  {
   "cell_type": "markdown",
   "id": "643151b4-a20d-4d00-a1c9-5a78a56be916",
   "metadata": {},
   "source": [
    "Let's keep only the Output:Variable objects we have filtered using the `set_output_var_df_to_idf(outputs_df)`:"
   ]
  },
  {
   "cell_type": "code",
   "execution_count": 11,
   "id": "8958bc66-f42d-4fc0-9622-f2b3ffb03852",
   "metadata": {},
   "outputs": [],
   "source": [
    "parametric.set_output_var_df_to_idf(outputs_df=df_output_variables_idf)"
   ]
  },
  {
   "cell_type": "markdown",
   "id": "eacd9d6d-7fa1-4e6d-8bab-edbfa322140b",
   "metadata": {},
   "source": [
    "We have removed all rows except the adaptive heating and cooling setpoints, the operative temperature and the running mean outdoor temperature. Next optional step is adding Output:Meter objects. We can do that using the method `set_output_met_objects_to_idf(output_meters)`, where `output_meters` is a list of Output:Meter key names."
   ]
  },
  {
   "cell_type": "code",
   "execution_count": 12,
   "id": "addf36d3-b7c2-4254-bec5-322850a464d1",
   "metadata": {},
   "outputs": [],
   "source": [
    "output_meters = [\n",
    "    'Heating:Electricity',\n",
    "    'Cooling:Electricity',\n",
    "    #'Electricity:HVAC',\n",
    "]\n",
    "parametric.set_output_met_objects_to_idf(output_meters=output_meters)"
   ]
  },
  {
   "cell_type": "markdown",
   "id": "fa66a111-e72e-4ebd-8110-8222191d6c5d",
   "metadata": {},
   "source": [
    "Let's see Output:Meter objects we currently have after adding these:"
   ]
  },
  {
   "cell_type": "code",
   "execution_count": 13,
   "id": "41878d11-6dcc-4158-9ec4-a74aa9d2dafc",
   "metadata": {},
   "outputs": [
    {
     "data": {
      "text/html": [
       "<div>\n",
       "<style scoped>\n",
       "    .dataframe tbody tr th:only-of-type {\n",
       "        vertical-align: middle;\n",
       "    }\n",
       "\n",
       "    .dataframe tbody tr th {\n",
       "        vertical-align: top;\n",
       "    }\n",
       "\n",
       "    .dataframe thead th {\n",
       "        text-align: right;\n",
       "    }\n",
       "</style>\n",
       "<table border=\"1\" class=\"dataframe\">\n",
       "  <thead>\n",
       "    <tr style=\"text-align: right;\">\n",
       "      <th></th>\n",
       "      <th>key_name</th>\n",
       "      <th>frequency</th>\n",
       "    </tr>\n",
       "  </thead>\n",
       "  <tbody>\n",
       "    <tr>\n",
       "      <th>0</th>\n",
       "      <td>Heating:Electricity</td>\n",
       "      <td>hourly</td>\n",
       "    </tr>\n",
       "    <tr>\n",
       "      <th>1</th>\n",
       "      <td>Cooling:Electricity</td>\n",
       "      <td>hourly</td>\n",
       "    </tr>\n",
       "  </tbody>\n",
       "</table>\n",
       "</div>"
      ],
      "text/plain": [
       "              key_name frequency\n",
       "0  Heating:Electricity    hourly\n",
       "1  Cooling:Electricity    hourly"
      ]
     },
     "execution_count": 13,
     "metadata": {},
     "output_type": "execute_result"
    }
   ],
   "source": [
    "df_output_meters_idf = parametric.get_output_meter_df_from_idf()\n",
    "df_output_meters_idf.head()"
   ]
  },
  {
   "cell_type": "markdown",
   "id": "90fd8d9b-ecd8-4c79-9f37-775f2c2921ed",
   "metadata": {},
   "source": [
    "### Outputs to be read and shown in the parametric simulation or optimisation"
   ]
  },
  {
   "cell_type": "markdown",
   "id": "bb18fd43-e07e-42f1-ac75-020bcbe96d9a",
   "metadata": {},
   "source": [
    "To successfully run the parametric simulation or optimisation, it is advisable running a test simulation to know the outputs that each simulation will have. We can do that with the method `get_outputs_df_from_testsim()`, which returns a tuple containing 2 DataFrames containing respectively the Output:Meter and Output:Variable objects from the simulation. In this case, you won't find wildcards such as \"*\"."
   ]
  },
  {
   "cell_type": "code",
   "execution_count": 14,
   "id": "ff6093e9-840d-4142-ad79-98d78f4f13d1",
   "metadata": {},
   "outputs": [],
   "source": [
    "df_output_meters_testsim, df_output_variables_testsim = parametric.get_outputs_df_from_testsim()"
   ]
  },
  {
   "cell_type": "code",
   "execution_count": 15,
   "id": "61a88134-7997-42ce-88b0-ef4606cdfe61",
   "metadata": {},
   "outputs": [
    {
     "data": {
      "text/html": [
       "<div>\n",
       "<style scoped>\n",
       "    .dataframe tbody tr th:only-of-type {\n",
       "        vertical-align: middle;\n",
       "    }\n",
       "\n",
       "    .dataframe tbody tr th {\n",
       "        vertical-align: top;\n",
       "    }\n",
       "\n",
       "    .dataframe thead th {\n",
       "        text-align: right;\n",
       "    }\n",
       "</style>\n",
       "<table border=\"1\" class=\"dataframe\">\n",
       "  <thead>\n",
       "    <tr style=\"text-align: right;\">\n",
       "      <th></th>\n",
       "      <th>key_name</th>\n",
       "      <th>frequency</th>\n",
       "    </tr>\n",
       "  </thead>\n",
       "  <tbody>\n",
       "    <tr>\n",
       "      <th>0</th>\n",
       "      <td>Heating:Electricity</td>\n",
       "      <td>Hourly</td>\n",
       "    </tr>\n",
       "    <tr>\n",
       "      <th>1</th>\n",
       "      <td>Cooling:Electricity</td>\n",
       "      <td>Hourly</td>\n",
       "    </tr>\n",
       "  </tbody>\n",
       "</table>\n",
       "</div>"
      ],
      "text/plain": [
       "              key_name frequency\n",
       "0  Heating:Electricity    Hourly\n",
       "1  Cooling:Electricity    Hourly"
      ]
     },
     "execution_count": 15,
     "metadata": {},
     "output_type": "execute_result"
    }
   ],
   "source": [
    "df_output_meters_testsim"
   ]
  },
  {
   "cell_type": "code",
   "execution_count": 16,
   "id": "9dd7f778-e7b7-4474-ae02-fd6a8f154c1f",
   "metadata": {},
   "outputs": [
    {
     "data": {
      "text/html": [
       "<div>\n",
       "<style scoped>\n",
       "    .dataframe tbody tr th:only-of-type {\n",
       "        vertical-align: middle;\n",
       "    }\n",
       "\n",
       "    .dataframe tbody tr th {\n",
       "        vertical-align: top;\n",
       "    }\n",
       "\n",
       "    .dataframe thead th {\n",
       "        text-align: right;\n",
       "    }\n",
       "</style>\n",
       "<table border=\"1\" class=\"dataframe\">\n",
       "  <thead>\n",
       "    <tr style=\"text-align: right;\">\n",
       "      <th></th>\n",
       "      <th>key_value</th>\n",
       "      <th>variable_name</th>\n",
       "      <th>frequency</th>\n",
       "    </tr>\n",
       "  </thead>\n",
       "  <tbody>\n",
       "    <tr>\n",
       "      <th>0</th>\n",
       "      <td>EMS</td>\n",
       "      <td>Adaptive Cooling Setpoint Temperature_No Toler...</td>\n",
       "      <td>Hourly</td>\n",
       "    </tr>\n",
       "    <tr>\n",
       "      <th>1</th>\n",
       "      <td>EMS</td>\n",
       "      <td>Adaptive Heating Setpoint Temperature_No Toler...</td>\n",
       "      <td>Hourly</td>\n",
       "    </tr>\n",
       "    <tr>\n",
       "      <th>2</th>\n",
       "      <td>BLOCK1:ZONE2</td>\n",
       "      <td>Zone Operative Temperature</td>\n",
       "      <td>Hourly</td>\n",
       "    </tr>\n",
       "    <tr>\n",
       "      <th>3</th>\n",
       "      <td>BLOCK1:ZONE1</td>\n",
       "      <td>Zone Operative Temperature</td>\n",
       "      <td>Hourly</td>\n",
       "    </tr>\n",
       "    <tr>\n",
       "      <th>4</th>\n",
       "      <td>PEOPLE BLOCK1:ZONE2</td>\n",
       "      <td>Zone Thermal Comfort ASHRAE 55 Adaptive Model ...</td>\n",
       "      <td>Hourly</td>\n",
       "    </tr>\n",
       "    <tr>\n",
       "      <th>5</th>\n",
       "      <td>PEOPLE BLOCK1:ZONE1</td>\n",
       "      <td>Zone Thermal Comfort ASHRAE 55 Adaptive Model ...</td>\n",
       "      <td>Hourly</td>\n",
       "    </tr>\n",
       "  </tbody>\n",
       "</table>\n",
       "</div>"
      ],
      "text/plain": [
       "             key_value                                      variable_name  \\\n",
       "0                  EMS  Adaptive Cooling Setpoint Temperature_No Toler...   \n",
       "1                  EMS  Adaptive Heating Setpoint Temperature_No Toler...   \n",
       "2         BLOCK1:ZONE2                         Zone Operative Temperature   \n",
       "3         BLOCK1:ZONE1                         Zone Operative Temperature   \n",
       "4  PEOPLE BLOCK1:ZONE2  Zone Thermal Comfort ASHRAE 55 Adaptive Model ...   \n",
       "5  PEOPLE BLOCK1:ZONE1  Zone Thermal Comfort ASHRAE 55 Adaptive Model ...   \n",
       "\n",
       "  frequency  \n",
       "0    Hourly  \n",
       "1    Hourly  \n",
       "2    Hourly  \n",
       "3    Hourly  \n",
       "4    Hourly  \n",
       "5    Hourly  "
      ]
     },
     "execution_count": 16,
     "metadata": {},
     "output_type": "execute_result"
    }
   ],
   "source": [
    "df_output_variables_testsim"
   ]
  },
  {
   "cell_type": "markdown",
   "id": "b0ed4500-6054-4a00-ae63-54412bf70944",
   "metadata": {},
   "source": [
    "We can get DataFrames from the .rdd and .mdd files generated from the test simulation using the functions `get_rdd_file_as_df()` and `get_mdd_file_as_df()`. "
   ]
  },
  {
   "cell_type": "code",
   "execution_count": 17,
   "id": "e28454a5-8de7-4551-bf9b-4db3fa8f124f",
   "metadata": {},
   "outputs": [
    {
     "data": {
      "text/html": [
       "<div>\n",
       "<style scoped>\n",
       "    .dataframe tbody tr th:only-of-type {\n",
       "        vertical-align: middle;\n",
       "    }\n",
       "\n",
       "    .dataframe tbody tr th {\n",
       "        vertical-align: top;\n",
       "    }\n",
       "\n",
       "    .dataframe thead th {\n",
       "        text-align: right;\n",
       "    }\n",
       "</style>\n",
       "<table border=\"1\" class=\"dataframe\">\n",
       "  <thead>\n",
       "    <tr style=\"text-align: right;\">\n",
       "      <th></th>\n",
       "      <th>object</th>\n",
       "      <th>key_value</th>\n",
       "      <th>variable_name</th>\n",
       "      <th>frequency</th>\n",
       "      <th>units</th>\n",
       "    </tr>\n",
       "  </thead>\n",
       "  <tbody>\n",
       "    <tr>\n",
       "      <th>0</th>\n",
       "      <td>Output:Variable</td>\n",
       "      <td>*</td>\n",
       "      <td>Site Outdoor Air Drybulb Temperature</td>\n",
       "      <td>hourly</td>\n",
       "      <td>!- Zone Average [C]</td>\n",
       "    </tr>\n",
       "    <tr>\n",
       "      <th>1</th>\n",
       "      <td>Output:Variable</td>\n",
       "      <td>*</td>\n",
       "      <td>Site Outdoor Air Dewpoint Temperature</td>\n",
       "      <td>hourly</td>\n",
       "      <td>!- Zone Average [C]</td>\n",
       "    </tr>\n",
       "    <tr>\n",
       "      <th>2</th>\n",
       "      <td>Output:Variable</td>\n",
       "      <td>*</td>\n",
       "      <td>Site Outdoor Air Wetbulb Temperature</td>\n",
       "      <td>hourly</td>\n",
       "      <td>!- Zone Average [C]</td>\n",
       "    </tr>\n",
       "    <tr>\n",
       "      <th>3</th>\n",
       "      <td>Output:Variable</td>\n",
       "      <td>*</td>\n",
       "      <td>Site Outdoor Air Humidity Ratio</td>\n",
       "      <td>hourly</td>\n",
       "      <td>!- Zone Average [kgWater/kgDryAir]</td>\n",
       "    </tr>\n",
       "    <tr>\n",
       "      <th>4</th>\n",
       "      <td>Output:Variable</td>\n",
       "      <td>*</td>\n",
       "      <td>Site Outdoor Air Relative Humidity</td>\n",
       "      <td>hourly</td>\n",
       "      <td>!- Zone Average [%]</td>\n",
       "    </tr>\n",
       "    <tr>\n",
       "      <th>...</th>\n",
       "      <td>...</td>\n",
       "      <td>...</td>\n",
       "      <td>...</td>\n",
       "      <td>...</td>\n",
       "      <td>...</td>\n",
       "    </tr>\n",
       "    <tr>\n",
       "      <th>712</th>\n",
       "      <td>Output:Variable</td>\n",
       "      <td>*</td>\n",
       "      <td>Zone Ventilation When Unoccupied Time</td>\n",
       "      <td>hourly</td>\n",
       "      <td>!- HVAC Sum [hr]</td>\n",
       "    </tr>\n",
       "    <tr>\n",
       "      <th>713</th>\n",
       "      <td>Output:Variable</td>\n",
       "      <td>*</td>\n",
       "      <td>Facility Any Zone Ventilation Below Target Voz...</td>\n",
       "      <td>hourly</td>\n",
       "      <td>!- HVAC Sum [hr]</td>\n",
       "    </tr>\n",
       "    <tr>\n",
       "      <th>714</th>\n",
       "      <td>Output:Variable</td>\n",
       "      <td>*</td>\n",
       "      <td>Facility All Zones Ventilation At Target Voz Time</td>\n",
       "      <td>hourly</td>\n",
       "      <td>!- HVAC Sum [hr]</td>\n",
       "    </tr>\n",
       "    <tr>\n",
       "      <th>715</th>\n",
       "      <td>Output:Variable</td>\n",
       "      <td>*</td>\n",
       "      <td>Facility Any Zone Ventilation Above Target Voz...</td>\n",
       "      <td>hourly</td>\n",
       "      <td>!- HVAC Sum [hr]</td>\n",
       "    </tr>\n",
       "    <tr>\n",
       "      <th>716</th>\n",
       "      <td>Output:Variable</td>\n",
       "      <td>*</td>\n",
       "      <td>Facility Any Zone Ventilation When Unoccupied ...</td>\n",
       "      <td>hourly</td>\n",
       "      <td>!- HVAC Sum [hr]</td>\n",
       "    </tr>\n",
       "  </tbody>\n",
       "</table>\n",
       "<p>717 rows × 5 columns</p>\n",
       "</div>"
      ],
      "text/plain": [
       "              object key_value  \\\n",
       "0    Output:Variable         *   \n",
       "1    Output:Variable         *   \n",
       "2    Output:Variable         *   \n",
       "3    Output:Variable         *   \n",
       "4    Output:Variable         *   \n",
       "..               ...       ...   \n",
       "712  Output:Variable         *   \n",
       "713  Output:Variable         *   \n",
       "714  Output:Variable         *   \n",
       "715  Output:Variable         *   \n",
       "716  Output:Variable         *   \n",
       "\n",
       "                                         variable_name frequency  \\\n",
       "0                 Site Outdoor Air Drybulb Temperature    hourly   \n",
       "1                Site Outdoor Air Dewpoint Temperature    hourly   \n",
       "2                 Site Outdoor Air Wetbulb Temperature    hourly   \n",
       "3                      Site Outdoor Air Humidity Ratio    hourly   \n",
       "4                   Site Outdoor Air Relative Humidity    hourly   \n",
       "..                                                 ...       ...   \n",
       "712              Zone Ventilation When Unoccupied Time    hourly   \n",
       "713  Facility Any Zone Ventilation Below Target Voz...    hourly   \n",
       "714  Facility All Zones Ventilation At Target Voz Time    hourly   \n",
       "715  Facility Any Zone Ventilation Above Target Voz...    hourly   \n",
       "716  Facility Any Zone Ventilation When Unoccupied ...    hourly   \n",
       "\n",
       "                                   units  \n",
       "0                    !- Zone Average [C]  \n",
       "1                    !- Zone Average [C]  \n",
       "2                    !- Zone Average [C]  \n",
       "3     !- Zone Average [kgWater/kgDryAir]  \n",
       "4                    !- Zone Average [%]  \n",
       "..                                   ...  \n",
       "712                     !- HVAC Sum [hr]  \n",
       "713                     !- HVAC Sum [hr]  \n",
       "714                     !- HVAC Sum [hr]  \n",
       "715                     !- HVAC Sum [hr]  \n",
       "716                     !- HVAC Sum [hr]  \n",
       "\n",
       "[717 rows x 5 columns]"
      ]
     },
     "execution_count": 17,
     "metadata": {},
     "output_type": "execute_result"
    }
   ],
   "source": [
    "df_rdd = get_rdd_file_as_df()\n",
    "df_rdd"
   ]
  },
  {
   "cell_type": "code",
   "execution_count": 18,
   "id": "58649f6e-f08c-49e5-823a-376ff26eb83a",
   "metadata": {},
   "outputs": [
    {
     "data": {
      "text/html": [
       "<div>\n",
       "<style scoped>\n",
       "    .dataframe tbody tr th:only-of-type {\n",
       "        vertical-align: middle;\n",
       "    }\n",
       "\n",
       "    .dataframe tbody tr th {\n",
       "        vertical-align: top;\n",
       "    }\n",
       "\n",
       "    .dataframe thead th {\n",
       "        text-align: right;\n",
       "    }\n",
       "</style>\n",
       "<table border=\"1\" class=\"dataframe\">\n",
       "  <thead>\n",
       "    <tr style=\"text-align: right;\">\n",
       "      <th></th>\n",
       "      <th>object</th>\n",
       "      <th>meter_name</th>\n",
       "      <th>frequency</th>\n",
       "      <th>units</th>\n",
       "    </tr>\n",
       "  </thead>\n",
       "  <tbody>\n",
       "    <tr>\n",
       "      <th>0</th>\n",
       "      <td>Output:Meter</td>\n",
       "      <td>Electricity:Facility</td>\n",
       "      <td>hourly</td>\n",
       "      <td>!- [J]</td>\n",
       "    </tr>\n",
       "    <tr>\n",
       "      <th>1</th>\n",
       "      <td>Output:Meter:Cumulative</td>\n",
       "      <td>Electricity:Facility</td>\n",
       "      <td>hourly</td>\n",
       "      <td>!- [J]</td>\n",
       "    </tr>\n",
       "    <tr>\n",
       "      <th>2</th>\n",
       "      <td>Output:Meter</td>\n",
       "      <td>Electricity:Building</td>\n",
       "      <td>hourly</td>\n",
       "      <td>!- [J]</td>\n",
       "    </tr>\n",
       "    <tr>\n",
       "      <th>3</th>\n",
       "      <td>Output:Meter:Cumulative</td>\n",
       "      <td>Electricity:Building</td>\n",
       "      <td>hourly</td>\n",
       "      <td>!- [J]</td>\n",
       "    </tr>\n",
       "    <tr>\n",
       "      <th>4</th>\n",
       "      <td>Output:Meter</td>\n",
       "      <td>Electricity:Zone:BLOCK1:ZONE2</td>\n",
       "      <td>hourly</td>\n",
       "      <td>!- [J]</td>\n",
       "    </tr>\n",
       "    <tr>\n",
       "      <th>...</th>\n",
       "      <td>...</td>\n",
       "      <td>...</td>\n",
       "      <td>...</td>\n",
       "      <td>...</td>\n",
       "    </tr>\n",
       "    <tr>\n",
       "      <th>157</th>\n",
       "      <td>Output:Meter:Cumulative</td>\n",
       "      <td>General:HeatRecovery:EnergyTransfer</td>\n",
       "      <td>hourly</td>\n",
       "      <td>!- [J]</td>\n",
       "    </tr>\n",
       "    <tr>\n",
       "      <th>158</th>\n",
       "      <td>Output:Meter</td>\n",
       "      <td>Carbon Equivalent:Facility</td>\n",
       "      <td>hourly</td>\n",
       "      <td>!- [kg]</td>\n",
       "    </tr>\n",
       "    <tr>\n",
       "      <th>159</th>\n",
       "      <td>Output:Meter:Cumulative</td>\n",
       "      <td>Carbon Equivalent:Facility</td>\n",
       "      <td>hourly</td>\n",
       "      <td>!- [kg]</td>\n",
       "    </tr>\n",
       "    <tr>\n",
       "      <th>160</th>\n",
       "      <td>Output:Meter</td>\n",
       "      <td>CarbonEquivalentEmissions:Carbon Equivalent</td>\n",
       "      <td>hourly</td>\n",
       "      <td>!- [kg]</td>\n",
       "    </tr>\n",
       "    <tr>\n",
       "      <th>161</th>\n",
       "      <td>Output:Meter:Cumulative</td>\n",
       "      <td>CarbonEquivalentEmissions:Carbon Equivalent</td>\n",
       "      <td>hourly</td>\n",
       "      <td>!- [kg]</td>\n",
       "    </tr>\n",
       "  </tbody>\n",
       "</table>\n",
       "<p>162 rows × 4 columns</p>\n",
       "</div>"
      ],
      "text/plain": [
       "                      object                                   meter_name  \\\n",
       "0               Output:Meter                         Electricity:Facility   \n",
       "1    Output:Meter:Cumulative                         Electricity:Facility   \n",
       "2               Output:Meter                         Electricity:Building   \n",
       "3    Output:Meter:Cumulative                         Electricity:Building   \n",
       "4               Output:Meter                Electricity:Zone:BLOCK1:ZONE2   \n",
       "..                       ...                                          ...   \n",
       "157  Output:Meter:Cumulative          General:HeatRecovery:EnergyTransfer   \n",
       "158             Output:Meter                   Carbon Equivalent:Facility   \n",
       "159  Output:Meter:Cumulative                   Carbon Equivalent:Facility   \n",
       "160             Output:Meter  CarbonEquivalentEmissions:Carbon Equivalent   \n",
       "161  Output:Meter:Cumulative  CarbonEquivalentEmissions:Carbon Equivalent   \n",
       "\n",
       "    frequency     units  \n",
       "0      hourly    !- [J]  \n",
       "1      hourly    !- [J]  \n",
       "2      hourly    !- [J]  \n",
       "3      hourly    !- [J]  \n",
       "4      hourly    !- [J]  \n",
       "..        ...       ...  \n",
       "157    hourly    !- [J]  \n",
       "158    hourly   !- [kg]  \n",
       "159    hourly   !- [kg]  \n",
       "160    hourly   !- [kg]  \n",
       "161    hourly   !- [kg]  \n",
       "\n",
       "[162 rows x 4 columns]"
      ]
     },
     "execution_count": 18,
     "metadata": {},
     "output_type": "execute_result"
    }
   ],
   "source": [
    "df_mdd = get_mdd_file_as_df()\n",
    "df_mdd"
   ]
  },
  {
   "cell_type": "markdown",
   "id": "a84943b5-db09-4f19-95bb-f9583711d0a7",
   "metadata": {},
   "source": [
    "Also, we can parse the .mtd files as a list using the function `parse_mtd_file()`."
   ]
  },
  {
   "cell_type": "code",
   "execution_count": 19,
   "id": "df4da1a7-fcb2-4c59-b790-1bc9e3b128f3",
   "metadata": {},
   "outputs": [
    {
     "data": {
      "text/plain": [
       "[{'meter_id': '14',\n",
       "  'description': 'BLOCK1:ZONE2 GENERAL LIGHTING:Lights Electricity Energy [J]',\n",
       "  'on_meters': ['Electricity:Facility [J]',\n",
       "   'Electricity:Building [J]',\n",
       "   'Electricity:Zone:BLOCK1:ZONE2 [J]',\n",
       "   'Electricity:SpaceType:GENERAL [J]',\n",
       "   'InteriorLights:Electricity [J]',\n",
       "   'InteriorLights:Electricity:Zone:BLOCK1:ZONE2 [J]',\n",
       "   'InteriorLights:Electricity:SpaceType:GENERAL [J]',\n",
       "   'ELECTRIC EQUIPMENT#Block1:Zone2#GeneralLights:InteriorLights:Electricity [J]',\n",
       "   'ELECTRIC EQUIPMENT#Block1:Zone2#GeneralLights:InteriorLights:Electricity:Zone:BLOCK1:ZONE2 [J]',\n",
       "   'ELECTRIC EQUIPMENT#Block1:Zone2#GeneralLights:InteriorLights:Electricity:SpaceType:GENERAL [J]']},\n",
       " {'meter_id': '135',\n",
       "  'description': 'BLOCK1:ZONE1 GENERAL LIGHTING:Lights Electricity Energy [J]',\n",
       "  'on_meters': ['Electricity:Facility [J]',\n",
       "   'Electricity:Building [J]',\n",
       "   'Electricity:Zone:BLOCK1:ZONE1 [J]',\n",
       "   'Electricity:SpaceType:GENERAL [J]',\n",
       "   'InteriorLights:Electricity [J]',\n",
       "   'InteriorLights:Electricity:Zone:BLOCK1:ZONE1 [J]',\n",
       "   'InteriorLights:Electricity:SpaceType:GENERAL [J]',\n",
       "   'ELECTRIC EQUIPMENT#Block1:Zone1#GeneralLights:InteriorLights:Electricity [J]',\n",
       "   'ELECTRIC EQUIPMENT#Block1:Zone1#GeneralLights:InteriorLights:Electricity:Zone:BLOCK1:ZONE1 [J]',\n",
       "   'ELECTRIC EQUIPMENT#Block1:Zone1#GeneralLights:InteriorLights:Electricity:SpaceType:GENERAL [J]']}]"
      ]
     },
     "execution_count": 19,
     "metadata": {},
     "output_type": "execute_result"
    }
   ],
   "source": [
    "mtd_list = parse_mtd_file()\n",
    "mtd_list[0:2]"
   ]
  },
  {
   "cell_type": "markdown",
   "id": "76fa398d-15a0-4504-9f11-468bfd7c094f",
   "metadata": {},
   "source": [
    "Therefore, we have 2 DataFrames, one for the Output:Meter and another for the Output:Variable objects. Next step is setting the outputs for the parametric simulation. To do so, we'll need to pass the DataFrames into the method `set_outputs_for_simulation(df_output_meter, df_output_variable)`. If you have some knowledge about the python package besos, you might think of these dataframes as if each row was a `MeterReader` or `VariableReader` instances respectively for the Output:Meter and Output:Variable dataframes, and the arguments in these were the specified in the columns. The `MeterReader` class takes the arguments `key_name`, `frequency`, `name` and `func`, while `VariableReader` class takes the arguments  `key_value`, `variable_name`, `frequency`, `name` and `func`."
   ]
  },
  {
   "cell_type": "code",
   "execution_count": 20,
   "id": "2b133883-a0be-42a9-bc04-0e6054337b9b",
   "metadata": {},
   "outputs": [
    {
     "data": {
      "text/plain": [
       "['key_name', 'frequency']"
      ]
     },
     "execution_count": 20,
     "metadata": {},
     "output_type": "execute_result"
    }
   ],
   "source": [
    "[i for i in df_output_meters_testsim.columns]"
   ]
  },
  {
   "cell_type": "code",
   "execution_count": 21,
   "id": "c43b0496-1d36-4a0e-b2dc-9f77e41627ff",
   "metadata": {},
   "outputs": [
    {
     "data": {
      "text/plain": [
       "['key_value', 'variable_name', 'frequency']"
      ]
     },
     "execution_count": 21,
     "metadata": {},
     "output_type": "execute_result"
    }
   ],
   "source": [
    "[i for i in df_output_variables_testsim.columns]"
   ]
  },
  {
   "cell_type": "markdown",
   "id": "a03bd526-8bdf-4cce-af62-73ac36e9d0c3",
   "metadata": {},
   "source": [
    "If you take a look at the columns of the dataframes above, you can see the names are the arguments in the `MeterReader` and `VariableReader` classes, and only `name` and `func` are missing. That means, you can add these columns to input the `name` and `func` arguments as desired. **The only limitation is that you cannot return time series in optimisation**. In case of the Output:Meter dataframe, we won't add the `name` and `func` columns, which means the name will be the `key_name` and hourly results will be aggregated using the pd.Series.sum() function. However, in case of the Output:Variable dataframe, we will specify these: we want the average rather than the sum, therefore we will pass the name bound to the function `average_results`, and we will add '_average' as a suffix to the `variable_name` column. We will also remove the outputs for BLOCK1:ZONE2, which are the rows 2 and 4."
   ]
  },
  {
   "cell_type": "code",
   "execution_count": 22,
   "id": "0e8fecdc-4625-4d95-a87d-67071884963b",
   "metadata": {},
   "outputs": [
    {
     "data": {
      "text/html": [
       "<div>\n",
       "<style scoped>\n",
       "    .dataframe tbody tr th:only-of-type {\n",
       "        vertical-align: middle;\n",
       "    }\n",
       "\n",
       "    .dataframe tbody tr th {\n",
       "        vertical-align: top;\n",
       "    }\n",
       "\n",
       "    .dataframe thead th {\n",
       "        text-align: right;\n",
       "    }\n",
       "</style>\n",
       "<table border=\"1\" class=\"dataframe\">\n",
       "  <thead>\n",
       "    <tr style=\"text-align: right;\">\n",
       "      <th></th>\n",
       "      <th>key_value</th>\n",
       "      <th>variable_name</th>\n",
       "      <th>frequency</th>\n",
       "      <th>func</th>\n",
       "      <th>name</th>\n",
       "    </tr>\n",
       "  </thead>\n",
       "  <tbody>\n",
       "    <tr>\n",
       "      <th>0</th>\n",
       "      <td>EMS</td>\n",
       "      <td>Adaptive Cooling Setpoint Temperature_No Toler...</td>\n",
       "      <td>Hourly</td>\n",
       "      <td>&lt;function average_results at 0x0000011C201580D0&gt;</td>\n",
       "      <td>Adaptive Cooling Setpoint Temperature_No Toler...</td>\n",
       "    </tr>\n",
       "    <tr>\n",
       "      <th>1</th>\n",
       "      <td>EMS</td>\n",
       "      <td>Adaptive Heating Setpoint Temperature_No Toler...</td>\n",
       "      <td>Hourly</td>\n",
       "      <td>&lt;function average_results at 0x0000011C201580D0&gt;</td>\n",
       "      <td>Adaptive Heating Setpoint Temperature_No Toler...</td>\n",
       "    </tr>\n",
       "    <tr>\n",
       "      <th>3</th>\n",
       "      <td>BLOCK1:ZONE1</td>\n",
       "      <td>Zone Operative Temperature</td>\n",
       "      <td>Hourly</td>\n",
       "      <td>&lt;function average_results at 0x0000011C201580D0&gt;</td>\n",
       "      <td>Zone Operative Temperature_average</td>\n",
       "    </tr>\n",
       "    <tr>\n",
       "      <th>5</th>\n",
       "      <td>PEOPLE BLOCK1:ZONE1</td>\n",
       "      <td>Zone Thermal Comfort ASHRAE 55 Adaptive Model ...</td>\n",
       "      <td>Hourly</td>\n",
       "      <td>&lt;function average_results at 0x0000011C201580D0&gt;</td>\n",
       "      <td>Zone Thermal Comfort ASHRAE 55 Adaptive Model ...</td>\n",
       "    </tr>\n",
       "  </tbody>\n",
       "</table>\n",
       "</div>"
      ],
      "text/plain": [
       "             key_value                                      variable_name  \\\n",
       "0                  EMS  Adaptive Cooling Setpoint Temperature_No Toler...   \n",
       "1                  EMS  Adaptive Heating Setpoint Temperature_No Toler...   \n",
       "3         BLOCK1:ZONE1                         Zone Operative Temperature   \n",
       "5  PEOPLE BLOCK1:ZONE1  Zone Thermal Comfort ASHRAE 55 Adaptive Model ...   \n",
       "\n",
       "  frequency                                              func  \\\n",
       "0    Hourly  <function average_results at 0x0000011C201580D0>   \n",
       "1    Hourly  <function average_results at 0x0000011C201580D0>   \n",
       "3    Hourly  <function average_results at 0x0000011C201580D0>   \n",
       "5    Hourly  <function average_results at 0x0000011C201580D0>   \n",
       "\n",
       "                                                name  \n",
       "0  Adaptive Cooling Setpoint Temperature_No Toler...  \n",
       "1  Adaptive Heating Setpoint Temperature_No Toler...  \n",
       "3                 Zone Operative Temperature_average  \n",
       "5  Zone Thermal Comfort ASHRAE 55 Adaptive Model ...  "
      ]
     },
     "execution_count": 22,
     "metadata": {},
     "output_type": "execute_result"
    }
   ],
   "source": [
    "df_output_variables_testsim['func'] = average_results\n",
    "df_output_variables_testsim['name'] = df_output_variables_testsim['variable_name'] + '_average'\n",
    "df_output_variables_testsim = df_output_variables_testsim.drop(index=[2, 4])\n",
    "df_output_variables_testsim"
   ]
  },
  {
   "cell_type": "markdown",
   "id": "cec83d60-60bb-4a48-928f-336500ad45e4",
   "metadata": {},
   "source": [
    "Finally, let's set the outputs for parametric simulation and optimisation:"
   ]
  },
  {
   "cell_type": "code",
   "execution_count": 23,
   "id": "9000c1d4-5d65-405b-a139-3be098103846",
   "metadata": {},
   "outputs": [],
   "source": [
    "parametric.set_outputs_for_simulation(\n",
    "    df_output_meter=df_output_meters_testsim,\n",
    "    #df_output_variable=df_output_variables_testsim,\n",
    ")"
   ]
  },
  {
   "cell_type": "markdown",
   "id": "ce76ee7a-3816-4a54-a588-8df3fe0cd6a6",
   "metadata": {},
   "source": [
    "If you want to inspect the `VariableReader` and `MeterReader` objects, you can see the internal variable `sim_outputs`:"
   ]
  },
  {
   "cell_type": "code",
   "execution_count": 24,
   "id": "9f4abcee-ae3a-4c41-a338-2ada4419da15",
   "metadata": {},
   "outputs": [
    {
     "data": {
      "text/plain": [
       "[MeterReader(name='Heating:Electricity', class_name='Output:Meter', frequency='Hourly', func=<function sum_values at 0x0000011C21044790>, key_name='Heating:Electricity'),\n",
       " MeterReader(name='Cooling:Electricity', class_name='Output:Meter', frequency='Hourly', func=<function sum_values at 0x0000011C21044790>, key_name='Cooling:Electricity')]"
      ]
     },
     "execution_count": 24,
     "metadata": {},
     "output_type": "execute_result"
    }
   ],
   "source": [
    "parametric.sim_outputs"
   ]
  },
  {
   "cell_type": "markdown",
   "id": "b5dd98bb-6b1d-4b3c-b762-3c9a0c015f63",
   "metadata": {},
   "source": [
    "## Setting the parameters"
   ]
  },
  {
   "cell_type": "markdown",
   "id": "4804beed-52e5-432a-a999-685c222d668d",
   "metadata": {},
   "source": [
    "At the top of the script, when you instantiated the class `OptimParamSimulation`, you already specified which type of parameters you were going to use. Now, the parameters we're about to set, must match the `parameters_type` argument. At this point, you may not know which parameters you can use, so you can call the method `get_available_parameters()`, which will return a list of available parameters:"
   ]
  },
  {
   "cell_type": "code",
   "execution_count": 25,
   "id": "004029fa-ff72-4f43-a9c3-e004757463e4",
   "metadata": {},
   "outputs": [
    {
     "data": {
      "text/plain": [
       "['CustAST_ACSTaul',\n",
       " 'CustAST_ACSTall',\n",
       " 'CustAST_AHSTaul',\n",
       " 'CustAST_AHSTall',\n",
       " 'CustAST_ASTaul',\n",
       " 'CustAST_ASTall',\n",
       " 'CustAST_m',\n",
       " 'CustAST_n',\n",
       " 'CustAST_ACSToffset',\n",
       " 'CustAST_AHSToffset',\n",
       " 'CustAST_ASToffset']"
      ]
     },
     "execution_count": 25,
     "metadata": {},
     "output_type": "execute_result"
    }
   ],
   "source": [
    "available_parameters = parametric.get_available_parameters()\n",
    "available_parameters"
   ]
  },
  {
   "cell_type": "markdown",
   "id": "612a4d67",
   "metadata": {},
   "source": [
    "If you don't know what are these, please refer to the [documentation](https://accim.readthedocs.io/en/master/4_detailed%20use.html)."
   ]
  },
  {
   "cell_type": "markdown",
   "id": "5d240ace",
   "metadata": {},
   "source": [
    "To use the custom model, the following parameters must be defined, either by including them in the parameters to vary, or manually defined:"
   ]
  },
  {
   "cell_type": "code",
   "execution_count": 26,
   "id": "4dd9e89d",
   "metadata": {},
   "outputs": [
    {
     "data": {
      "text/plain": [
       "['CustAST_ACSTaul',\n",
       " 'CustAST_ACSTall',\n",
       " 'CustAST_AHSTaul',\n",
       " 'CustAST_AHSTall',\n",
       " 'CustAST_m',\n",
       " 'CustAST_n',\n",
       " 'CustAST_ACSToffset',\n",
       " 'CustAST_AHSToffset']"
      ]
     },
     "execution_count": 26,
     "metadata": {},
     "output_type": "execute_result"
    }
   ],
   "source": [
    "[i for i in available_parameters if '_AST' not in i]"
   ]
  },
  {
   "cell_type": "markdown",
   "id": "8bef627e",
   "metadata": {},
   "source": [
    "The remaining parameters, which are:"
   ]
  },
  {
   "cell_type": "code",
   "execution_count": 27,
   "id": "8aefe530",
   "metadata": {},
   "outputs": [
    {
     "data": {
      "text/plain": [
       "['CustAST_ASTaul', 'CustAST_ASTall', 'CustAST_ASToffset']"
      ]
     },
     "execution_count": 27,
     "metadata": {},
     "output_type": "execute_result"
    }
   ],
   "source": [
    "[i for i in available_parameters if '_AST' in i]"
   ]
  },
  {
   "cell_type": "markdown",
   "id": "be7ad8b2",
   "metadata": {},
   "source": [
    "are used to set symmetrical comfort thresholds in case of 'CustAST_ASToffset' (i.e. a value of 3 means +3 is used as ACSToffset and -3 as AHSToffset), or in case of 'CustAST_ASTaul' and 'CustAST_ASTall', to set the same value to the applicability upper or lower limit for heating and cooling purposes (i.e. a value of 15 for CustAST_ASTall means 15 is used for CustAST_ACSTaul and CustAST_AHSTaul)"
   ]
  },
  {
   "cell_type": "markdown",
   "id": "45886126-30b8-4e53-b8c0-06135e6a3c38",
   "metadata": {},
   "source": [
    "Using the 'accim custom model' type, the values can be either a list of options or a range of values. Now, let's set the parameters using the method `set_parameters(accis_params_dict, additional_params)`. In this method, we set the parameters related to accim using the argument `accis_params_dict`, which takes a dictionary following the pattern {'parameter name': [1, 2, 3, etc]} in case of list of options, or {'parameter name': (min_value, max_value)} in case of the range of values. We can also add some other parameters not related to accim in the argument `additional_params`, which takes a list of parameters as if these were input straight to the besos EPProblem class."
   ]
  },
  {
   "cell_type": "markdown",
   "id": "72f11957",
   "metadata": {},
   "source": [
    "### Example 1"
   ]
  },
  {
   "cell_type": "markdown",
   "id": "4c40cf7e",
   "metadata": {},
   "source": [
    "An example using ranges, could be:"
   ]
  },
  {
   "cell_type": "code",
   "execution_count": 28,
   "id": "8741dd19",
   "metadata": {},
   "outputs": [
    {
     "name": "stderr",
     "output_type": "stream",
     "text": [
      "C:\\Users\\usuario\\AppData\\Local\\Programs\\Python\\Python39\\lib\\site-packages\\besos\\parameters.py:441: UserWarning: This parameter's descriptor is already named CustAST_m.The name used as an input (CustAST_m) will be discarded.\n",
      "  warnings.warn(\n",
      "C:\\Users\\usuario\\AppData\\Local\\Programs\\Python\\Python39\\lib\\site-packages\\besos\\parameters.py:441: UserWarning: This parameter's descriptor is already named CustAST_n.The name used as an input (CustAST_n) will be discarded.\n",
      "  warnings.warn(\n",
      "C:\\Users\\usuario\\AppData\\Local\\Programs\\Python\\Python39\\lib\\site-packages\\besos\\parameters.py:441: UserWarning: This parameter's descriptor is already named CustAST_ASToffset.The name used as an input (CustAST_ASToffset) will be discarded.\n",
      "  warnings.warn(\n",
      "C:\\Users\\usuario\\AppData\\Local\\Programs\\Python\\Python39\\lib\\site-packages\\besos\\parameters.py:441: UserWarning: This parameter's descriptor is already named CustAST_ASTall.The name used as an input (CustAST_ASTall) will be discarded.\n",
      "  warnings.warn(\n",
      "C:\\Users\\usuario\\AppData\\Local\\Programs\\Python\\Python39\\lib\\site-packages\\besos\\parameters.py:441: UserWarning: This parameter's descriptor is already named CustAST_ASTaul.The name used as an input (CustAST_ASTaul) will be discarded.\n",
      "  warnings.warn(\n"
     ]
    }
   ],
   "source": [
    "accis_parameters = {\n",
    "    'CustAST_m': (0.01, 0.99),\n",
    "    'CustAST_n': (5, 23),\n",
    "    'CustAST_ASToffset': (2, 4),\n",
    "    'CustAST_ASTall': (10, 15),\n",
    "    'CustAST_ASTaul': (30, 35),\n",
    "}\n",
    "parametric.set_parameters(accis_params_dict=accis_parameters)"
   ]
  },
  {
   "cell_type": "markdown",
   "id": "8094968a",
   "metadata": {},
   "source": [
    "In this case, all parameters have been defined. Otherwise, we would be requested to continue with default values or to input them. Let's see Example 2."
   ]
  },
  {
   "cell_type": "markdown",
   "id": "ae684824",
   "metadata": {},
   "source": [
    "### Example 2"
   ]
  },
  {
   "cell_type": "markdown",
   "id": "41850c3a",
   "metadata": {},
   "source": [
    "A different option might be using m, n and ASToffset as parameters, and setting ASTall and ASTaul to some specific value so that these don't vary."
   ]
  },
  {
   "cell_type": "code",
   "execution_count": 29,
   "id": "0d3e6bc3",
   "metadata": {},
   "outputs": [
    {
     "name": "stdout",
     "output_type": "stream",
     "text": [
      "The following parameters are not included in the parameters to be set, and have not been defined yet (i.e. the value is 0): ['ACSTaul', 'ACSTall', 'AHSTaul', 'AHSTall']\n",
      "If you want, default values can be set for these parameters. The default values are:\n",
      "ACSTaul: 33.5\n",
      "ACSTall: 10\n",
      "AHSTaul: 33.5\n",
      "AHSTall: 10\n"
     ]
    },
    {
     "name": "stdin",
     "output_type": "stream",
     "text": [
      "Do you want to continue with default values? [y/n]:  n\n",
      "Enter the value for argument ACSTaul:  35\n",
      "Enter the value for argument ACSTall:  5\n",
      "Enter the value for argument AHSTaul:  35\n",
      "Enter the value for argument AHSTall:  5\n"
     ]
    }
   ],
   "source": [
    "accis_parameters = {\n",
    "    'CustAST_m': (0.01, 0.99),\n",
    "    'CustAST_n': (5, 23),\n",
    "    'CustAST_ASToffset': (2, 4),\n",
    "}\n",
    "parametric.set_parameters(accis_params_dict=accis_parameters)"
   ]
  },
  {
   "cell_type": "markdown",
   "id": "d5ecdd37",
   "metadata": {},
   "source": [
    "Let's take a look at the values that the arguments currently have:"
   ]
  },
  {
   "cell_type": "code",
   "execution_count": 30,
   "id": "c4e8c450",
   "metadata": {},
   "outputs": [
    {
     "data": {
      "text/plain": [
       "{'ACSToffset': 0,\n",
       " 'AHSToffset': 0,\n",
       " 'm': 0,\n",
       " 'n': 0,\n",
       " 'ACSTaul': 35.0,\n",
       " 'ACSTall': 5.0,\n",
       " 'AHSTaul': 35.0,\n",
       " 'AHSTall': 5.0}"
      ]
     },
     "execution_count": 30,
     "metadata": {},
     "output_type": "execute_result"
    }
   ],
   "source": [
    "args = get_accim_args(building)\n",
    "args['CustAST']"
   ]
  },
  {
   "cell_type": "markdown",
   "id": "72f13367",
   "metadata": {},
   "source": [
    "As you can see, 'm', 'n', 'ACSToffset' and 'AHSToffset' have the value 0, because these are the arguments included in the parameters, and their values will vary depending on the sample we specify later, and the values for the applicabiliy upper and lower limits have the values we just input."
   ]
  },
  {
   "cell_type": "markdown",
   "id": "e34b063a",
   "metadata": {},
   "source": [
    "So, let's continue with Example 2, dropping CustAST_ASToffset and using default values for the non-defined arguments:"
   ]
  },
  {
   "cell_type": "code",
   "execution_count": 31,
   "id": "2f31e1ba",
   "metadata": {},
   "outputs": [
    {
     "name": "stdout",
     "output_type": "stream",
     "text": [
      "The following parameters are not included in the parameters to be set, and have not been defined yet (i.e. the value is 0): ['ACSToffset', 'AHSToffset', 'ACSTaul', 'ACSTall', 'AHSTaul', 'AHSTall']\n",
      "If you want, default values can be set for these parameters. The default values are:\n",
      "ACSToffset: 3.5\n",
      "AHSToffset: -3.5\n",
      "ACSTaul: 33.5\n",
      "ACSTall: 10\n",
      "AHSTaul: 33.5\n",
      "AHSTall: 10\n"
     ]
    },
    {
     "name": "stdin",
     "output_type": "stream",
     "text": [
      "Do you want to continue with default values? [y/n]:  y\n"
     ]
    }
   ],
   "source": [
    "accis_parameters = {\n",
    "    'CustAST_m': (0.01, 0.99),\n",
    "    'CustAST_n': (5, 23),\n",
    "}\n",
    "parametric.set_parameters(accis_params_dict=accis_parameters)"
   ]
  },
  {
   "cell_type": "markdown",
   "id": "1fbe5874",
   "metadata": {},
   "source": [
    "You can also modify the value of any argument of accim at any time. Let's see the current values:"
   ]
  },
  {
   "cell_type": "code",
   "execution_count": 32,
   "id": "af5d2e38",
   "metadata": {},
   "outputs": [
    {
     "data": {
      "text/plain": [
       "0"
      ]
     },
     "execution_count": 32,
     "metadata": {},
     "output_type": "execute_result"
    }
   ],
   "source": [
    "args = get_accim_args(building)\n",
    "args['SetInputData']['VentCtrl']"
   ]
  },
  {
   "cell_type": "code",
   "execution_count": 33,
   "id": "4fc72038",
   "metadata": {},
   "outputs": [
    {
     "data": {
      "text/plain": [
       "{'MaxTempDiffVOF': 6, 'MinTempDiffVOF': 1, 'MultiplierVOF': 0.25}"
      ]
     },
     "execution_count": 33,
     "metadata": {},
     "output_type": "execute_result"
    }
   ],
   "source": [
    "args['SetVOFinputData']"
   ]
  },
  {
   "cell_type": "markdown",
   "id": "bf6f38a7",
   "metadata": {},
   "source": [
    "Now, let's modify some of them, to avoid excessive cooling from natural ventilation:"
   ]
  },
  {
   "cell_type": "code",
   "execution_count": 34,
   "id": "485df55b",
   "metadata": {},
   "outputs": [],
   "source": [
    "bf.modify_VentCtrl(building, 2)\n",
    "bf.modify_MaxTempDiffVOF(building, 6)\n",
    "bf.modify_MinTempDiffVOF(building, 1)\n",
    "args_new = accim.utils.get_accim_args(building)"
   ]
  },
  {
   "cell_type": "code",
   "execution_count": 35,
   "id": "facd1059",
   "metadata": {},
   "outputs": [
    {
     "data": {
      "text/plain": [
       "2"
      ]
     },
     "execution_count": 35,
     "metadata": {},
     "output_type": "execute_result"
    }
   ],
   "source": [
    "args_new['SetInputData']['VentCtrl']"
   ]
  },
  {
   "cell_type": "code",
   "execution_count": 36,
   "id": "d1df84a2",
   "metadata": {},
   "outputs": [
    {
     "data": {
      "text/plain": [
       "{'MaxTempDiffVOF': 6, 'MinTempDiffVOF': 1, 'MultiplierVOF': 0.25}"
      ]
     },
     "execution_count": 36,
     "metadata": {},
     "output_type": "execute_result"
    }
   ],
   "source": [
    "args_new['SetVOFinputData']"
   ]
  },
  {
   "cell_type": "markdown",
   "id": "b2e1e8a5-4af9-4d23-82b9-af45b49ba26d",
   "metadata": {},
   "source": [
    "If you want to inspect the `Parameter` objects, you can see the internal variable `parameters_list`:"
   ]
  },
  {
   "cell_type": "code",
   "execution_count": 37,
   "id": "4b72a5b5-417f-410b-b30a-bf6550dbb364",
   "metadata": {},
   "outputs": [
    {
     "data": {
      "text/plain": [
       "[Parameter(selector=GenericSelector(set=<function modify_CustAST_m at 0x0000011C201564C0>), value_descriptors=[RangeParameter(name='CustAST_m', min=0.01, max=0.99)]),\n",
       " Parameter(selector=GenericSelector(set=<function modify_CustAST_n at 0x0000011C20156550>), value_descriptors=[RangeParameter(name='CustAST_n', min=5, max=23)])]"
      ]
     },
     "execution_count": 37,
     "metadata": {},
     "output_type": "execute_result"
    }
   ],
   "source": [
    "parametric.parameters_list"
   ]
  },
  {
   "cell_type": "markdown",
   "id": "16b3b170-683d-49b3-9d6b-4d3772245647",
   "metadata": {},
   "source": [
    "## Running the optimisation"
   ]
  },
  {
   "cell_type": "markdown",
   "id": "e36956e3-781b-4fe1-980f-ad9fbca21fba",
   "metadata": {},
   "source": [
    "### Setting the problem"
   ]
  },
  {
   "cell_type": "markdown",
   "id": "60150ec0-8c63-4097-bd4f-c8263dc22d47",
   "metadata": {},
   "source": [
    "First, let's set the problem. To do so, use the `set_problem()` method. In case of the parametric simulation you don't need to input any argument. However, in case of the optimisation, you must input the arguments `minimize_outputs`, `constraints` and `constraint_bounds`, similarly as you would do in the besos `EPProblem` class."
   ]
  },
  {
   "cell_type": "code",
   "execution_count": 38,
   "id": "cd2c3ebc-99ea-46a2-94cf-37b3ddd77630",
   "metadata": {},
   "outputs": [],
   "source": [
    "parametric.set_problem(\n",
    "    minimize_outputs=[True, True]\n",
    ")"
   ]
  },
  {
   "cell_type": "markdown",
   "id": "cc1eac32-9784-441f-98e3-0382053ba14d",
   "metadata": {},
   "source": [
    "Again, you can inspect the `EPProblem` class instance in the internal variable `problem`:"
   ]
  },
  {
   "cell_type": "code",
   "execution_count": 39,
   "id": "a4f80f41-febc-47e0-b610-8c07893a5c20",
   "metadata": {},
   "outputs": [
    {
     "data": {
      "text/plain": [
       "EPProblem(inputs=[Parameter(selector=GenericSelector(set=<function modify_CustAST_m at 0x0000011C201564C0>), value_descriptors=[RangeParameter(name='CustAST_m', min=0.01, max=0.99)]), Parameter(selector=GenericSelector(set=<function modify_CustAST_n at 0x0000011C20156550>), value_descriptors=[RangeParameter(name='CustAST_n', min=5, max=23)])], outputs=[MeterReader(name='Heating:Electricity', class_name='Output:Meter', frequency='Hourly', func=<function sum_values at 0x0000011C21044790>, key_name='Heating:Electricity'), MeterReader(name='Cooling:Electricity', class_name='Output:Meter', frequency='Hourly', func=<function sum_values at 0x0000011C21044790>, key_name='Cooling:Electricity')], minimize_outputs=[True, True], converters={'outputs': <class 'besos.objectives.MeterReader'>, 'constraints': <class 'besos.objectives.MeterReader'>})"
      ]
     },
     "execution_count": 39,
     "metadata": {},
     "output_type": "execute_result"
    }
   ],
   "source": [
    "parametric.problem"
   ]
  },
  {
   "cell_type": "markdown",
   "id": "c0c976c6-eed1-4727-a274-975585466130",
   "metadata": {},
   "source": [
    "### Running the simulations"
   ]
  },
  {
   "cell_type": "markdown",
   "id": "302f66b3-55ba-468b-91bb-d0c7a53f4387",
   "metadata": {},
   "source": [
    "Now, we're ready to run the simulations, by means of the `run_optimisation(algorithm, epw, out_dir, evaluations, population_size)` method. After calling the method, the outputs (a DataFrame) is saved in the internal variable `outputs_optimisation`. We want to run the parametric simulations with both Sydney and Seville climate files, therefore the filenames are input in a list in the `epws` argument. The simulation outputs will be saved in a directory named 'notebook_temp_dir'."
   ]
  },
  {
   "cell_type": "code",
   "execution_count": 40,
   "id": "5e5a19ab-d2a3-44ac-9d2d-01672ac8db08",
   "metadata": {},
   "outputs": [
    {
     "name": "stdout",
     "output_type": "stream",
     "text": [
      "Running EnergyPlus with stdout output suppressed...\n",
      "Running EnergyPlus with stdout output suppressed...\n",
      "Running EnergyPlus with stdout output suppressed...\n",
      "Running EnergyPlus with stdout output suppressed...\n",
      "Running EnergyPlus with stdout output suppressed...\n",
      "Running EnergyPlus with stdout output suppressed...\n",
      "Running EnergyPlus with stdout output suppressed...\n",
      "Running EnergyPlus with stdout output suppressed...\n",
      "Running EnergyPlus with stdout output suppressed...\n",
      "Running EnergyPlus with stdout output suppressed...\n",
      "Running EnergyPlus with stdout output suppressed...\n",
      "Running EnergyPlus with stdout output suppressed...\n",
      "Running EnergyPlus with stdout output suppressed...\n",
      "Running EnergyPlus with stdout output suppressed...\n",
      "Running EnergyPlus with stdout output suppressed...\n",
      "Running EnergyPlus with stdout output suppressed...\n",
      "Running EnergyPlus with stdout output suppressed...\n",
      "Running EnergyPlus with stdout output suppressed...\n",
      "Running EnergyPlus with stdout output suppressed...\n",
      "Running EnergyPlus with stdout output suppressed...\n"
     ]
    }
   ],
   "source": [
    "parametric.run_optimisation(\n",
    "    algorithm='NSGAII',\n",
    "    epws=['Seville.epw', 'Sydney.epw'],\n",
    "    out_dir='notebook_temp_dir',\n",
    "    evaluations=5,\n",
    "    population_size=10,\n",
    "    #keep_input=True, # To keep the input values of parameters, as entered in df argument. Default is True.\n",
    ")"
   ]
  },
  {
   "cell_type": "markdown",
   "id": "8f768acb-e813-4d4d-91d7-7b96a98ecaad",
   "metadata": {},
   "source": [
    "Let's take a look at the simulation results"
   ]
  },
  {
   "cell_type": "code",
   "execution_count": 41,
   "id": "9461f205-acd1-4532-b691-9dd7d9778873",
   "metadata": {},
   "outputs": [
    {
     "data": {
      "text/html": [
       "<div>\n",
       "<style scoped>\n",
       "    .dataframe tbody tr th:only-of-type {\n",
       "        vertical-align: middle;\n",
       "    }\n",
       "\n",
       "    .dataframe tbody tr th {\n",
       "        vertical-align: top;\n",
       "    }\n",
       "\n",
       "    .dataframe thead th {\n",
       "        text-align: right;\n",
       "    }\n",
       "</style>\n",
       "<table border=\"1\" class=\"dataframe\">\n",
       "  <thead>\n",
       "    <tr style=\"text-align: right;\">\n",
       "      <th></th>\n",
       "      <th>index</th>\n",
       "      <th>CustAST_m</th>\n",
       "      <th>CustAST_n</th>\n",
       "      <th>Heating:Electricity</th>\n",
       "      <th>Cooling:Electricity</th>\n",
       "      <th>violation</th>\n",
       "      <th>pareto-optimal</th>\n",
       "      <th>epw</th>\n",
       "    </tr>\n",
       "  </thead>\n",
       "  <tbody>\n",
       "    <tr>\n",
       "      <th>0</th>\n",
       "      <td>0</td>\n",
       "      <td>0.038643</td>\n",
       "      <td>21.114150</td>\n",
       "      <td>2.533636e+08</td>\n",
       "      <td>4.136350e+10</td>\n",
       "      <td>0</td>\n",
       "      <td>True</td>\n",
       "      <td>Seville</td>\n",
       "    </tr>\n",
       "    <tr>\n",
       "      <th>1</th>\n",
       "      <td>1</td>\n",
       "      <td>0.047712</td>\n",
       "      <td>11.458991</td>\n",
       "      <td>0.000000e+00</td>\n",
       "      <td>8.410271e+10</td>\n",
       "      <td>0</td>\n",
       "      <td>True</td>\n",
       "      <td>Seville</td>\n",
       "    </tr>\n",
       "    <tr>\n",
       "      <th>2</th>\n",
       "      <td>2</td>\n",
       "      <td>0.123806</td>\n",
       "      <td>15.263909</td>\n",
       "      <td>9.244463e+07</td>\n",
       "      <td>6.027568e+10</td>\n",
       "      <td>0</td>\n",
       "      <td>True</td>\n",
       "      <td>Seville</td>\n",
       "    </tr>\n",
       "    <tr>\n",
       "      <th>3</th>\n",
       "      <td>3</td>\n",
       "      <td>0.243516</td>\n",
       "      <td>13.360607</td>\n",
       "      <td>6.953092e+07</td>\n",
       "      <td>6.090746e+10</td>\n",
       "      <td>0</td>\n",
       "      <td>True</td>\n",
       "      <td>Seville</td>\n",
       "    </tr>\n",
       "    <tr>\n",
       "      <th>4</th>\n",
       "      <td>4</td>\n",
       "      <td>0.622743</td>\n",
       "      <td>21.272486</td>\n",
       "      <td>5.181856e+08</td>\n",
       "      <td>1.355220e+10</td>\n",
       "      <td>0</td>\n",
       "      <td>True</td>\n",
       "      <td>Seville</td>\n",
       "    </tr>\n",
       "    <tr>\n",
       "      <th>5</th>\n",
       "      <td>5</td>\n",
       "      <td>0.755742</td>\n",
       "      <td>13.282665</td>\n",
       "      <td>4.943784e+08</td>\n",
       "      <td>2.268625e+10</td>\n",
       "      <td>0</td>\n",
       "      <td>True</td>\n",
       "      <td>Seville</td>\n",
       "    </tr>\n",
       "    <tr>\n",
       "      <th>6</th>\n",
       "      <td>6</td>\n",
       "      <td>0.793732</td>\n",
       "      <td>9.111400</td>\n",
       "      <td>4.341189e+08</td>\n",
       "      <td>2.873717e+10</td>\n",
       "      <td>0</td>\n",
       "      <td>True</td>\n",
       "      <td>Seville</td>\n",
       "    </tr>\n",
       "    <tr>\n",
       "      <th>7</th>\n",
       "      <td>7</td>\n",
       "      <td>0.902663</td>\n",
       "      <td>16.580840</td>\n",
       "      <td>6.624036e+08</td>\n",
       "      <td>1.352954e+10</td>\n",
       "      <td>0</td>\n",
       "      <td>True</td>\n",
       "      <td>Seville</td>\n",
       "    </tr>\n",
       "    <tr>\n",
       "      <th>8</th>\n",
       "      <td>8</td>\n",
       "      <td>0.935054</td>\n",
       "      <td>8.076060</td>\n",
       "      <td>4.983079e+08</td>\n",
       "      <td>2.558722e+10</td>\n",
       "      <td>0</td>\n",
       "      <td>False</td>\n",
       "      <td>Seville</td>\n",
       "    </tr>\n",
       "    <tr>\n",
       "      <th>9</th>\n",
       "      <td>9</td>\n",
       "      <td>0.936496</td>\n",
       "      <td>8.505129</td>\n",
       "      <td>5.226576e+08</td>\n",
       "      <td>2.472527e+10</td>\n",
       "      <td>0</td>\n",
       "      <td>False</td>\n",
       "      <td>Seville</td>\n",
       "    </tr>\n",
       "    <tr>\n",
       "      <th>10</th>\n",
       "      <td>0</td>\n",
       "      <td>0.014151</td>\n",
       "      <td>15.170983</td>\n",
       "      <td>1.377476e+06</td>\n",
       "      <td>6.892576e+10</td>\n",
       "      <td>0</td>\n",
       "      <td>True</td>\n",
       "      <td>Sydney</td>\n",
       "    </tr>\n",
       "    <tr>\n",
       "      <th>11</th>\n",
       "      <td>1</td>\n",
       "      <td>0.067321</td>\n",
       "      <td>14.127544</td>\n",
       "      <td>0.000000e+00</td>\n",
       "      <td>7.023822e+10</td>\n",
       "      <td>0</td>\n",
       "      <td>True</td>\n",
       "      <td>Sydney</td>\n",
       "    </tr>\n",
       "    <tr>\n",
       "      <th>12</th>\n",
       "      <td>2</td>\n",
       "      <td>0.124309</td>\n",
       "      <td>12.687872</td>\n",
       "      <td>0.000000e+00</td>\n",
       "      <td>7.294256e+10</td>\n",
       "      <td>0</td>\n",
       "      <td>False</td>\n",
       "      <td>Sydney</td>\n",
       "    </tr>\n",
       "    <tr>\n",
       "      <th>13</th>\n",
       "      <td>3</td>\n",
       "      <td>0.236018</td>\n",
       "      <td>21.577823</td>\n",
       "      <td>7.298078e+08</td>\n",
       "      <td>1.268291e+10</td>\n",
       "      <td>0</td>\n",
       "      <td>True</td>\n",
       "      <td>Sydney</td>\n",
       "    </tr>\n",
       "    <tr>\n",
       "      <th>14</th>\n",
       "      <td>4</td>\n",
       "      <td>0.304058</td>\n",
       "      <td>21.701917</td>\n",
       "      <td>8.813302e+08</td>\n",
       "      <td>1.118357e+10</td>\n",
       "      <td>0</td>\n",
       "      <td>True</td>\n",
       "      <td>Sydney</td>\n",
       "    </tr>\n",
       "    <tr>\n",
       "      <th>15</th>\n",
       "      <td>5</td>\n",
       "      <td>0.566850</td>\n",
       "      <td>12.549072</td>\n",
       "      <td>5.332589e+08</td>\n",
       "      <td>1.856303e+10</td>\n",
       "      <td>0</td>\n",
       "      <td>False</td>\n",
       "      <td>Sydney</td>\n",
       "    </tr>\n",
       "    <tr>\n",
       "      <th>16</th>\n",
       "      <td>6</td>\n",
       "      <td>0.622337</td>\n",
       "      <td>18.829085</td>\n",
       "      <td>5.578308e+08</td>\n",
       "      <td>1.344846e+10</td>\n",
       "      <td>0</td>\n",
       "      <td>True</td>\n",
       "      <td>Sydney</td>\n",
       "    </tr>\n",
       "    <tr>\n",
       "      <th>17</th>\n",
       "      <td>7</td>\n",
       "      <td>0.815377</td>\n",
       "      <td>15.122011</td>\n",
       "      <td>4.991443e+08</td>\n",
       "      <td>1.462586e+10</td>\n",
       "      <td>0</td>\n",
       "      <td>True</td>\n",
       "      <td>Sydney</td>\n",
       "    </tr>\n",
       "    <tr>\n",
       "      <th>18</th>\n",
       "      <td>8</td>\n",
       "      <td>0.923680</td>\n",
       "      <td>10.790879</td>\n",
       "      <td>9.649732e+08</td>\n",
       "      <td>1.197458e+10</td>\n",
       "      <td>0</td>\n",
       "      <td>False</td>\n",
       "      <td>Sydney</td>\n",
       "    </tr>\n",
       "    <tr>\n",
       "      <th>19</th>\n",
       "      <td>9</td>\n",
       "      <td>0.966568</td>\n",
       "      <td>20.384126</td>\n",
       "      <td>5.172598e+09</td>\n",
       "      <td>4.574595e+09</td>\n",
       "      <td>0</td>\n",
       "      <td>True</td>\n",
       "      <td>Sydney</td>\n",
       "    </tr>\n",
       "  </tbody>\n",
       "</table>\n",
       "</div>"
      ],
      "text/plain": [
       "    index  CustAST_m  CustAST_n  Heating:Electricity  Cooling:Electricity  \\\n",
       "0       0   0.038643  21.114150         2.533636e+08         4.136350e+10   \n",
       "1       1   0.047712  11.458991         0.000000e+00         8.410271e+10   \n",
       "2       2   0.123806  15.263909         9.244463e+07         6.027568e+10   \n",
       "3       3   0.243516  13.360607         6.953092e+07         6.090746e+10   \n",
       "4       4   0.622743  21.272486         5.181856e+08         1.355220e+10   \n",
       "5       5   0.755742  13.282665         4.943784e+08         2.268625e+10   \n",
       "6       6   0.793732   9.111400         4.341189e+08         2.873717e+10   \n",
       "7       7   0.902663  16.580840         6.624036e+08         1.352954e+10   \n",
       "8       8   0.935054   8.076060         4.983079e+08         2.558722e+10   \n",
       "9       9   0.936496   8.505129         5.226576e+08         2.472527e+10   \n",
       "10      0   0.014151  15.170983         1.377476e+06         6.892576e+10   \n",
       "11      1   0.067321  14.127544         0.000000e+00         7.023822e+10   \n",
       "12      2   0.124309  12.687872         0.000000e+00         7.294256e+10   \n",
       "13      3   0.236018  21.577823         7.298078e+08         1.268291e+10   \n",
       "14      4   0.304058  21.701917         8.813302e+08         1.118357e+10   \n",
       "15      5   0.566850  12.549072         5.332589e+08         1.856303e+10   \n",
       "16      6   0.622337  18.829085         5.578308e+08         1.344846e+10   \n",
       "17      7   0.815377  15.122011         4.991443e+08         1.462586e+10   \n",
       "18      8   0.923680  10.790879         9.649732e+08         1.197458e+10   \n",
       "19      9   0.966568  20.384126         5.172598e+09         4.574595e+09   \n",
       "\n",
       "    violation  pareto-optimal      epw  \n",
       "0           0            True  Seville  \n",
       "1           0            True  Seville  \n",
       "2           0            True  Seville  \n",
       "3           0            True  Seville  \n",
       "4           0            True  Seville  \n",
       "5           0            True  Seville  \n",
       "6           0            True  Seville  \n",
       "7           0            True  Seville  \n",
       "8           0           False  Seville  \n",
       "9           0           False  Seville  \n",
       "10          0            True   Sydney  \n",
       "11          0            True   Sydney  \n",
       "12          0           False   Sydney  \n",
       "13          0            True   Sydney  \n",
       "14          0            True   Sydney  \n",
       "15          0           False   Sydney  \n",
       "16          0            True   Sydney  \n",
       "17          0            True   Sydney  \n",
       "18          0           False   Sydney  \n",
       "19          0            True   Sydney  "
      ]
     },
     "execution_count": 41,
     "metadata": {},
     "output_type": "execute_result"
    }
   ],
   "source": [
    "parametric.outputs_optimisation"
   ]
  },
  {
   "cell_type": "markdown",
   "id": "efa37b3d-45f9-4bbd-b2c2-3f36b743ee0b",
   "metadata": {},
   "source": [
    "We can see the columns are the following:"
   ]
  },
  {
   "cell_type": "markdown",
   "id": "907ca41e-e151-4e90-a37b-ed0b596e1852",
   "metadata": {},
   "source": [
    "- the parameters, which are:"
   ]
  },
  {
   "cell_type": "code",
   "execution_count": 42,
   "id": "c733f7a2-fd24-4b14-9ab1-98075d261401",
   "metadata": {},
   "outputs": [
    {
     "data": {
      "text/plain": [
       "['CustAST_m', 'CustAST_n']"
      ]
     },
     "execution_count": 42,
     "metadata": {},
     "output_type": "execute_result"
    }
   ],
   "source": [
    "[i.value_descriptors[0].name for i in parametric.parameters_list]"
   ]
  },
  {
   "cell_type": "markdown",
   "id": "c30f391f-08a0-488e-8dd3-67aa9189790c",
   "metadata": {},
   "source": [
    "- the outputs, which are:"
   ]
  },
  {
   "cell_type": "code",
   "execution_count": 43,
   "id": "405d7408-599d-4493-a497-5bfe686db381",
   "metadata": {},
   "outputs": [
    {
     "data": {
      "text/plain": [
       "['Heating:Electricity', 'Cooling:Electricity']"
      ]
     },
     "execution_count": 43,
     "metadata": {},
     "output_type": "execute_result"
    }
   ],
   "source": [
    "[i.name for i in parametric.sim_outputs]"
   ]
  },
  {
   "cell_type": "markdown",
   "id": "cf172d66-6883-481c-9779-a3382616924e",
   "metadata": {},
   "source": [
    "- the violation column, for those simulations in which constraints have been exceeded\n",
    "- the pareto-optimal column, which shows True for the optimal values\n",
    "- the epw for each simulation, in the column 'epw'"
   ]
  },
  {
   "cell_type": "markdown",
   "id": "e2f6302e-8105-482b-a984-c4bc03ac8086",
   "metadata": {},
   "source": [
    "### Visualising the results"
   ]
  },
  {
   "cell_type": "markdown",
   "id": "d7b2ad11-4f2b-46d0-8a59-3e7e842b2ae9",
   "metadata": {},
   "source": [
    "At this point, if you have some knowledge of pandas and some package to plot the data (e.g. matplotlib or seaborn), you can carry out your own analysis and visualization. We're going to do some example below."
   ]
  },
  {
   "cell_type": "code",
   "execution_count": 44,
   "id": "3b08c431-5c10-47bc-b8d9-bbed174fb35c",
   "metadata": {},
   "outputs": [
    {
     "data": {
      "text/plain": [
       "<seaborn.axisgrid.FacetGrid at 0x11c39ea0ca0>"
      ]
     },
     "execution_count": 44,
     "metadata": {},
     "output_type": "execute_result"
    },
    {
     "data": {
      "image/png": "[encoded data removed]",
      "text/plain": [
       "<Figure size 684.875x300 with 2 Axes>"
      ]
     },
     "metadata": {},
     "output_type": "display_data"
    }
   ],
   "source": [
    "g = sns.FacetGrid(\n",
    "    data=parametric.outputs_optimisation,\n",
    "    col='epw'\n",
    ")\n",
    "\n",
    "g.map_dataframe(\n",
    "    sns.scatterplot,\n",
    "    x='Heating:Electricity',\n",
    "    y='Cooling:Electricity',\n",
    "    hue='pareto-optimal',\n",
    ")\n",
    "g.add_legend(title='Pareto')"
   ]
  },
  {
   "cell_type": "markdown",
   "id": "e0b253ef-b8ee-402b-a741-b4b89181e589",
   "metadata": {},
   "source": [
    "We're done with the example, so let's remove all new files, so that we can re-run it again."
   ]
  },
  {
   "cell_type": "code",
   "execution_count": 45,
   "id": "abefda96-72f4-4e8a-8d2a-5337647c480b",
   "metadata": {},
   "outputs": [
    {
     "data": {
      "text/plain": [
       "{'available_outputs', 'notebook_temp_dir'}"
      ]
     },
     "execution_count": 45,
     "metadata": {},
     "output_type": "execute_result"
    }
   ],
   "source": [
    "current_files = [i for i in listdir()]\n",
    "new_files = set(current_files) - set(original_files)\n",
    "new_files"
   ]
  },
  {
   "cell_type": "code",
   "execution_count": 46,
   "id": "f9dbc462-7f2b-40e2-b7b0-41e9243b3b59",
   "metadata": {},
   "outputs": [],
   "source": [
    "import os\n",
    "import shutil\n",
    "for item in new_files:\n",
    "    item_path = os.path.join(os.getcwd(), item)\n",
    "    if os.path.isfile(item_path):\n",
    "        os.remove(item_path)\n",
    "    elif os.path.isdir(item_path):\n",
    "        shutil.rmtree(item_path)"
   ]
  }
 ],
 "metadata": {
  "kernelspec": {
   "display_name": "Python 3 (ipykernel)",
   "language": "python",
   "name": "python3"
  },
  "language_info": {
   "codemirror_mode": {
    "name": "ipython",
    "version": 3
   },
   "file_extension": ".py",
   "mimetype": "text/x-python",
   "name": "python",
   "nbconvert_exporter": "python",
   "pygments_lexer": "ipython3",
   "version": "3.9.13"
  }
 },
 "nbformat": 4,
 "nbformat_minor": 5
}
