{
 "cells": [
  {
   "cell_type": "markdown",
   "id": "2cf45ee0-4144-4034-99a9-311270c74d30",
   "metadata": {},
   "source": [
    "# Parametric simulation using accim custom models"
   ]
  },
  {
   "cell_type": "code",
   "execution_count": 1,
   "id": "f71c6322-10f1-4fde-bc8d-358163b8619b",
   "metadata": {},
   "outputs": [],
   "source": [
    "#todo import qgrid to manually change output dfs"
   ]
  },
  {
   "cell_type": "code",
   "execution_count": 2,
   "id": "a8361222-b96d-4121-9560-1480e3ee4f44",
   "metadata": {},
   "outputs": [],
   "source": [
    "import accim\n",
    "import accim.parametric_and_optimisation.funcs_for_besos.param_accis as bf\n",
    "from accim.parametric_and_optimisation.objectives import return_time_series\n",
    "from accim.parametric_and_optimisation.utils import make_all_combinations\n",
    "from besos import eppy_funcs as ef\n",
    "import matplotlib.pyplot as plt\n",
    "import seaborn as sns\n",
    "from accim.utils import print_available_outputs_mod, get_accim_args\n",
    "from accim.parametric_and_optimisation.main import OptimParamSimulation, get_rdd_file_as_df, get_mdd_file_as_df, parse_mtd_file\n",
    "from os import listdir\n"
   ]
  },
  {
   "cell_type": "markdown",
   "id": "c699ceba-f765-47c5-b5fd-b0cee5522b3a",
   "metadata": {},
   "source": [
    "Let's have a look at the files we currently have in the path:"
   ]
  },
  {
   "cell_type": "code",
   "execution_count": 3,
   "id": "233674c3-f15d-4917-aa47-430ae91486d6",
   "metadata": {},
   "outputs": [
    {
     "data": {
      "text/plain": [
       "['.ipynb_checkpoints',\n",
       " 'param_sim_accim_custom_model.ipynb',\n",
       " 'Seville.epw',\n",
       " 'Sydney.epw',\n",
       " 'TestModel.idf']"
      ]
     },
     "execution_count": 3,
     "metadata": {},
     "output_type": "execute_result"
    }
   ],
   "source": [
    "original_files = [i for i in listdir()]\n",
    "original_files"
   ]
  },
  {
   "cell_type": "markdown",
   "id": "16e31d87-3a87-40c1-aeef-d6ea1171291a",
   "metadata": {},
   "source": [
    "Firstly, the IDF must be read using besos's `get_building` function."
   ]
  },
  {
   "cell_type": "code",
   "execution_count": 4,
   "id": "7d6e13f6-7466-4e96-a559-8c771895c1ac",
   "metadata": {},
   "outputs": [],
   "source": [
    "building = ef.get_building('TestModel.idf')"
   ]
  },
  {
   "cell_type": "markdown",
   "id": "affcedd2-3206-4178-bb93-3ae151e04301",
   "metadata": {},
   "source": [
    "For this analysis, we want to use the HVAC system in all hours of the year, so that temperature is always comfortable. Therefore, we are going to set the occupancy to always on by means of the function `accim.utils.set_occupancy_to_always`, in which we input the IDF class instance we read in the previous cell."
   ]
  },
  {
   "cell_type": "code",
   "execution_count": 5,
   "id": "f5c2feb1-ca1e-4b8a-bc50-1f116cca9fa4",
   "metadata": {},
   "outputs": [
    {
     "name": "stdout",
     "output_type": "stream",
     "text": [
      "On 24/7 Schedule:Compact object was already in the model.\n",
      "People Block1:Zone2 Number of People Schedule Name has been set to always occupied.\n",
      "People Block1:Zone1 Number of People Schedule Name has been set to always occupied.\n"
     ]
    }
   ],
   "source": [
    "accim.utils.set_occupancy_to_always(idf_object=building)"
   ]
  },
  {
   "cell_type": "markdown",
   "id": "29827b0f-9086-4e26-873b-db2f7818a18a",
   "metadata": {},
   "source": [
    "Now, let's start with the settings for the parametric analysis. First, let's instantiate the class `OptimParamSimulation`, and let's pass the IDF instance in the argument `building`. Argument `parameters_type` can take 3 different strings:\n",
    "- \"accim predefined model\", in which models are those previously defined in accim (ComfStand=0 to ComfStand=22);\n",
    "- \"accim custom model\", in which key parameters of the adaptive comfort model are defined in the relevant arguments;\n",
    "- \"apmv setpoints\", in which setpoints are based on the aPMV (Adaptive Predicted Mean Vote) instead of the PMV index;\n",
    "\n",
    "In this case, we're going to use the 'accim custom model' type, in which we can define the adaptive comfort model."
   ]
  },
  {
   "cell_type": "code",
   "execution_count": 6,
   "id": "2a5fa261-bfee-4b08-a8fe-c62f46a481eb",
   "metadata": {},
   "outputs": [
    {
     "name": "stdout",
     "output_type": "stream",
     "text": [
      "\n",
      "--------------------------------------------------------\n",
      "Adaptive-Comfort-Control-Implemented Model (ACCIM) v0.7.5\n",
      "--------------------------------------------------------\n",
      "\n",
      "This tool allows to apply adaptive setpoint temperatures. \n",
      "For further information, please read the documentation: \n",
      "https://accim.readthedocs.io/en/master/\n",
      "For a visual understanding of the tool, please visit the following jupyter notebooks:\n",
      "-    Using addAccis() to apply adaptive setpoint temperatures\n",
      "https://accim.readthedocs.io/en/master/jupyter_notebooks/addAccis/using_addAccis.html\n",
      "-    Using rename_epw_files() to rename the EPWs for proper data analysis after simulation\n",
      "https://accim.readthedocs.io/en/master/jupyter_notebooks/rename_epw_files/using_rename_epw_files.html\n",
      "-    Using runEp() to directly run simulations with EnergyPlus\n",
      "https://accim.readthedocs.io/en/master/jupyter_notebooks/runEp/using_runEp.html\n",
      "-    Using the class Table() for data analysis\n",
      "https://accim.readthedocs.io/en/master/jupyter_notebooks/Table/using_Table.html\n",
      "-    Full example\n",
      "https://accim.readthedocs.io/en/master/jupyter_notebooks/full_example/full_example.html\n",
      "\n",
      "Starting with the process.\n",
      "Basic input data:\n",
      "ScriptType is: vrf_mm\n",
      "Supply Air Temperature Input Method is: temperature difference\n",
      "Output type is: standard\n",
      "Output frequencies are: \n",
      "['hourly']\n",
      "EnergyPlus version is: 23.1\n",
      "Temperature Control method is: temperature\n",
      "\n",
      "=======================START OF GENERIC IDF FILE GENERATION PROCESS=======================\n",
      "\n",
      "Starting with file:\n",
      "The occupied zones in the model <besos.IDF_class.IDF object at 0x00000231C2189910> are:\n",
      "BLOCK1:ZONE2\n",
      "BLOCK1:ZONE1\n",
      "The windows and doors in the model <besos.IDF_class.IDF object at 0x00000231C2189910> are:\n",
      "Block1_Zone2_Wall_3_0_0_0_0_0_Win\n",
      "Block1_Zone2_Wall_4_0_0_0_0_0_Win\n",
      "Block1_Zone2_Wall_5_0_0_0_0_0_Win\n",
      "Block1_Zone1_Wall_2_0_0_0_0_0_Win\n",
      "Block1_Zone1_Wall_3_0_0_0_0_0_Win\n",
      "Block1_Zone1_Wall_5_0_0_0_0_0_Win\n",
      "The zones in the model <besos.IDF_class.IDF object at 0x00000231C2189910> are:\n",
      "BLOCK1_ZONE2\n",
      "BLOCK1_ZONE1\n",
      "The people objects in the model have been amended.\n",
      "BLOCK1:ZONE2 Thermostat has been added\n",
      "BLOCK1:ZONE1 Thermostat has been added\n",
      "On Schedule already was in the model\n",
      "TypOperativeTempControlSch Schedule already was in the model\n",
      "All ZoneHVAC:IdealLoadsAirSystem Heating and Cooling availability schedules has been set to on\n",
      "On 24/7 Schedule already was in the model\n",
      "Control type schedule: Always 4 Schedule has been added\n",
      "Relative humidity setpoint schedule: Always 50.00 Schedule has been added\n",
      "Heating Fanger comfort setpoint: Always -0.5 Schedule has been added\n",
      "Cooling Fanger comfort setpoint: Always  0.1 Schedule has been added\n",
      "Zone CO2 setpoint: Always 900ppm Schedule has been added\n",
      "Min CO2 concentration: Always 600ppm Schedule has been added\n",
      "Generic contaminant setpoint: Always 0.5ppm Schedule has been added\n",
      "Air distribution effectiveness (always 1) Schedule has been added\n",
      "VRF Heating Cooling (Northern Hemisphere) Schedule has been added\n",
      "DefaultFanEffRatioCurve Curve:Cubic Object has been added\n",
      "VRFTUCoolCapFT Curve:Cubic Object has been added\n",
      "VRFTUHeatCapFT Curve:Cubic Object has been added\n",
      "VRFCoolCapFTBoundary Curve:Cubic Object has been added\n",
      "VRFCoolEIRFTBoundary Curve:Cubic Object has been added\n",
      "CoolingEIRLowPLR Curve:Cubic Object has been added\n",
      "VRFHeatCapFTBoundary Curve:Cubic Object has been added\n",
      "VRFHeatEIRFTBoundary Curve:Cubic Object has been added\n",
      "HeatingEIRLowPLR Curve:Cubic Object has been added\n",
      "DefaultFanPowerRatioCurve Curve:Exponent Object has been added\n",
      "DXHtgCoilDefrostEIRFT Curve:Biquadratic Object has been added\n",
      "VRFCoolCapFT Curve:Biquadratic Object has been added\n",
      "VRFCoolCapFTHi Curve:Biquadratic Object has been added\n",
      "VRFCoolEIRFT Curve:Biquadratic Object has been added\n",
      "VRFCoolEIRFTHi Curve:Biquadratic Object has been added\n",
      "VRFHeatCapFT Curve:Biquadratic Object has been added\n",
      "VRFHeatCapFTHi Curve:Biquadratic Object has been added\n",
      "VRFHeatEIRFT Curve:Biquadratic Object has been added\n",
      "VRFHeatEIRFTHi Curve:Biquadratic Object has been added\n",
      "CoolingLengthCorrectionFactor Curve:Biquadratic Object has been added\n",
      "VRF Piping Correction Factor for Length in Heating Mode Curve:Biquadratic Object has been added\n",
      "VRF Heat Recovery Cooling Capacity Modifier Curve:Biquadratic Object has been added\n",
      "VRF Heat Recovery Cooling Energy Modifier Curve:Biquadratic Object has been added\n",
      "VRF Heat Recovery Heating Capacity Modifier Curve:Biquadratic Object has been added\n",
      "VRF Heat Recovery Heating Energy Modifier Curve:Biquadratic Object has been added\n",
      "VRFACCoolCapFFF Curve:Quadratic Object has been added\n",
      "CoolingEIRHiPLR Curve:Quadratic Object has been added\n",
      "VRFCPLFFPLR Curve:Quadratic Object has been added\n",
      "HeatingEIRHiPLR Curve:Quadratic Object has been added\n",
      "CoolingCombRatio Curve:Linear Object has been added\n",
      "HeatingCombRatio Curve:Linear Object has been added\n",
      "VRF Outdoor Unit_BLOCK1:ZONE2 AirConditioner:VariableRefrigerantFlow Object has been added\n",
      "VRF Outdoor Unit_BLOCK1:ZONE1 AirConditioner:VariableRefrigerantFlow Object has been added\n",
      "VRF Outdoor Unit_BLOCK1:ZONE2 Outdoor Air Node Object has been added\n",
      "VRF Outdoor Unit_BLOCK1:ZONE2 Zone List Object has been added\n",
      "VRF Outdoor Unit_BLOCK1:ZONE1 Outdoor Air Node Object has been added\n",
      "VRF Outdoor Unit_BLOCK1:ZONE1 Zone List Object has been added\n",
      "BLOCK1:ZONE2 Sizing:Zone Object has been added\n",
      "BLOCK1:ZONE1 Sizing:Zone Object has been added\n",
      "BLOCK1:ZONE2 Design Specification Outdoor Air Object has been added\n",
      "BLOCK1:ZONE1 Design Specification Outdoor Air Object has been added\n",
      "BLOCK1:ZONE2 Design Specification Zone Air Distribution Object has been added\n",
      "BLOCK1:ZONE1 Design Specification Zone Air Distribution Object has been added\n",
      "BLOCK1:ZONE2 Nodelist Objects has been added\n",
      "BLOCK1:ZONE1 Nodelist Objects has been added\n",
      "BLOCK1:ZONE2 ZoneHVAC:EquipmentConnections Objects has been added\n",
      "BLOCK1:ZONE1 ZoneHVAC:EquipmentConnections Objects has been added\n",
      "BLOCK1:ZONE2 ZoneHVAC:EquipmentList Objects has been added\n",
      "BLOCK1:ZONE1 ZoneHVAC:EquipmentList Objects has been added\n",
      "BLOCK1:ZONE2 ZoneHVAC:TerminalUnit:VariableRefrigerantFlow Object has been added\n",
      "BLOCK1:ZONE1 ZoneHVAC:TerminalUnit:VariableRefrigerantFlow Object has been added\n",
      "BLOCK1:ZONE2 Coil:Cooling:DX:VariableRefrigerantFlow Object has been added\n",
      "BLOCK1:ZONE1 Coil:Cooling:DX:VariableRefrigerantFlow Object has been added\n",
      "BLOCK1:ZONE2 Coil:Heating:DX:VariableRefrigerantFlow Object has been added\n",
      "BLOCK1:ZONE1 Coil:Heating:DX:VariableRefrigerantFlow Object has been added\n",
      "BLOCK1:ZONE2 Fan:ConstantVolume Object has been added\n",
      "BLOCK1:ZONE1 Fan:ConstantVolume Object has been added\n",
      "Vent_SP_temp Schedule has been added\n",
      "AHST_Sch_BLOCK1_ZONE2 Schedule has been added\n",
      "ACST_Sch_BLOCK1_ZONE2 Schedule has been added\n",
      "AHST_Sch_BLOCK1_ZONE1 Schedule has been added\n",
      "ACST_Sch_BLOCK1_ZONE1 Schedule has been added\n",
      "Added - SetComfTemp Program\n",
      "Added - CountHours_BLOCK1_ZONE2 Program\n",
      "Added - CountHours_BLOCK1_ZONE1 Program\n",
      "Added - SetAppLimits Program\n",
      "Added - ApplyCAT Program\n",
      "Added - SetAST Program\n",
      "Added - SetASTnoTol Program\n",
      "Added - CountHoursNoApp_BLOCK1_ZONE2 Program\n",
      "Added - SetGeoVarBLOCK1_ZONE2 Program\n",
      "Added - CountHoursNoApp_BLOCK1_ZONE1 Program\n",
      "Added - SetGeoVarBLOCK1_ZONE1 Program\n",
      "Added - SetInputData Program\n",
      "Added - SetVOFinputData Program\n",
      "Added - SetVST Program\n",
      "Added - ApplyAST_BLOCK1_ZONE2 Program\n",
      "Added - ApplyAST_BLOCK1_ZONE1 Program\n",
      "Added - SetMyVOF_Block1_Zone2_Wall_3_0_0_0_0_0_Win Program\n",
      "Added - SetWindowOperation_Block1_Zone2_Wall_3_0_0_0_0_0_Win Program\n",
      "Added - SetMyVOF_Block1_Zone2_Wall_4_0_0_0_0_0_Win Program\n",
      "Added - SetWindowOperation_Block1_Zone2_Wall_4_0_0_0_0_0_Win Program\n",
      "Added - SetMyVOF_Block1_Zone2_Wall_5_0_0_0_0_0_Win Program\n",
      "Added - SetWindowOperation_Block1_Zone2_Wall_5_0_0_0_0_0_Win Program\n",
      "Added - SetMyVOF_Block1_Zone1_Wall_2_0_0_0_0_0_Win Program\n",
      "Added - SetWindowOperation_Block1_Zone1_Wall_2_0_0_0_0_0_Win Program\n",
      "Added - SetMyVOF_Block1_Zone1_Wall_3_0_0_0_0_0_Win Program\n",
      "Added - SetWindowOperation_Block1_Zone1_Wall_3_0_0_0_0_0_Win Program\n",
      "Added - SetMyVOF_Block1_Zone1_Wall_5_0_0_0_0_0_Win Program\n",
      "Added - SetWindowOperation_Block1_Zone1_Wall_5_0_0_0_0_0_Win Program\n",
      "Added - Comfort Temperature Output Variable\n",
      "Added - Adaptive Cooling Setpoint Temperature Output Variable\n",
      "Added - Adaptive Heating Setpoint Temperature Output Variable\n",
      "Added - Adaptive Cooling Setpoint Temperature_No Tolerance Output Variable\n",
      "Added - Adaptive Heating Setpoint Temperature_No Tolerance Output Variable\n",
      "Added - z_test_ComfStand Output Variable\n",
      "Added - z_test_ACSTaul Output Variable\n",
      "Added - z_test_ACSTall Output Variable\n",
      "Added - z_test_AHSTaul Output Variable\n",
      "Added - z_test_AHSTall Output Variable\n",
      "Added - z_test_CAT Output Variable\n",
      "Added - z_test_ACSToffset Output Variable\n",
      "Added - z_test_AHSToffset Output Variable\n",
      "Added - z_test_ComfMod Output Variable\n",
      "Added - z_test_ACSTtol Output Variable\n",
      "Added - z_test_SetpointAcc Output Variable\n",
      "Added - z_test_CustAST_m Output Variable\n",
      "Added - z_test_CustAST_n Output Variable\n",
      "Added - z_test_AHSTtol Output Variable\n",
      "Added - Ventilation Setpoint Temperature Output Variable\n",
      "Added - Minimum Outdoor Temperature for ventilation Output Variable\n",
      "Added - Minimum Outdoor Temperature Difference for ventilation Output Variable\n",
      "Added - Maximum Outdoor Temperature Difference for ventilation Output Variable\n",
      "Added - Multiplier for Ventilation Opening Factor Output Variable\n",
      "Added - Comfortable Hours_No Applicability_BLOCK1_ZONE2 Output Variable\n",
      "Added - Comfortable Hours_No Applicability_BLOCK1_ZONE1 Output Variable\n",
      "Added - Comfortable Hours_Applicability_BLOCK1_ZONE2 Output Variable\n",
      "Added - Comfortable Hours_Applicability_BLOCK1_ZONE1 Output Variable\n",
      "Added - Occupied Comfortable Hours_No Applicability_BLOCK1_ZONE2 Output Variable\n",
      "Added - Occupied Comfortable Hours_No Applicability_BLOCK1_ZONE1 Output Variable\n",
      "Added - Occupied Discomfortable Hours_No Applicability_BLOCK1_ZONE2 Output Variable\n",
      "Added - Occupied Discomfortable Hours_No Applicability_BLOCK1_ZONE1 Output Variable\n",
      "Added - Occupied Hours_BLOCK1_ZONE2 Output Variable\n",
      "Added - Occupied Hours_BLOCK1_ZONE1 Output Variable\n",
      "Added - Discomfortable Applicable Hot Hours_BLOCK1_ZONE2 Output Variable\n",
      "Added - Discomfortable Applicable Hot Hours_BLOCK1_ZONE1 Output Variable\n",
      "Added - Discomfortable Applicable Cold Hours_BLOCK1_ZONE2 Output Variable\n",
      "Added - Discomfortable Applicable Cold Hours_BLOCK1_ZONE1 Output Variable\n",
      "Added - Discomfortable Non Applicable Hot Hours_BLOCK1_ZONE2 Output Variable\n",
      "Added - Discomfortable Non Applicable Hot Hours_BLOCK1_ZONE1 Output Variable\n",
      "Added - Discomfortable Non Applicable Cold Hours_BLOCK1_ZONE2 Output Variable\n",
      "Added - Discomfortable Non Applicable Cold Hours_BLOCK1_ZONE1 Output Variable\n",
      "Added - Zone Floor Area_BLOCK1_ZONE2 Output Variable\n",
      "Added - Zone Floor Area_BLOCK1_ZONE1 Output Variable\n",
      "Added - Zone Air Volume_BLOCK1_ZONE2 Output Variable\n",
      "Added - Zone Air Volume_BLOCK1_ZONE1 Output Variable\n",
      "Added - People Occupant Count_BLOCK1_ZONE2 Output Variable\n",
      "Added - People Occupant Count_BLOCK1_ZONE1 Output Variable\n",
      "Added - Ventilation Hours_BLOCK1_ZONE2 Output Variable\n",
      "Added - Ventilation Hours_BLOCK1_ZONE1 Output Variable\n",
      "Global variables objects have been added\n",
      "Internal variables objects have been added\n",
      "Added - RMOT Sensor\n",
      "Added - PMOT Sensor\n",
      "Added - Occ_count_BLOCK1_ZONE2 Sensor\n",
      "Added - Occ_count_BLOCK1_ZONE1 Sensor\n",
      "Added - BLOCK1_ZONE2_OpT Sensor\n",
      "Added - BLOCK1_ZONE2_WindSpeed Sensor\n",
      "Added - BLOCK1_ZONE2_OutT Sensor\n",
      "Added - BLOCK1_ZONE1_OpT Sensor\n",
      "Added - BLOCK1_ZONE1_WindSpeed Sensor\n",
      "Added - BLOCK1_ZONE1_OutT Sensor\n",
      "Added - Block1_Zone2_Wall_3_0_0_0_0_0_Win_OpT Sensor\n",
      "Added - Block1_Zone2_Wall_3_0_0_0_0_0_Win_WindSpeed Sensor\n",
      "Added - Block1_Zone2_Wall_3_0_0_0_0_0_Win_OutT Sensor\n",
      "Added - Block1_Zone2_Wall_3_0_0_0_0_0_Win_Occ_count Sensor\n",
      "Added - Block1_Zone2_Wall_4_0_0_0_0_0_Win_OpT Sensor\n",
      "Added - Block1_Zone2_Wall_4_0_0_0_0_0_Win_WindSpeed Sensor\n",
      "Added - Block1_Zone2_Wall_4_0_0_0_0_0_Win_OutT Sensor\n",
      "Added - Block1_Zone2_Wall_4_0_0_0_0_0_Win_Occ_count Sensor\n",
      "Added - Block1_Zone2_Wall_5_0_0_0_0_0_Win_OpT Sensor\n",
      "Added - Block1_Zone2_Wall_5_0_0_0_0_0_Win_WindSpeed Sensor\n",
      "Added - Block1_Zone2_Wall_5_0_0_0_0_0_Win_OutT Sensor\n",
      "Added - Block1_Zone2_Wall_5_0_0_0_0_0_Win_Occ_count Sensor\n",
      "Added - Block1_Zone1_Wall_2_0_0_0_0_0_Win_OpT Sensor\n",
      "Added - Block1_Zone1_Wall_2_0_0_0_0_0_Win_WindSpeed Sensor\n",
      "Added - Block1_Zone1_Wall_2_0_0_0_0_0_Win_OutT Sensor\n",
      "Added - Block1_Zone1_Wall_2_0_0_0_0_0_Win_Occ_count Sensor\n",
      "Added - Block1_Zone1_Wall_3_0_0_0_0_0_Win_OpT Sensor\n",
      "Added - Block1_Zone1_Wall_3_0_0_0_0_0_Win_WindSpeed Sensor\n",
      "Added - Block1_Zone1_Wall_3_0_0_0_0_0_Win_OutT Sensor\n",
      "Added - Block1_Zone1_Wall_3_0_0_0_0_0_Win_Occ_count Sensor\n",
      "Added - Block1_Zone1_Wall_5_0_0_0_0_0_Win_OpT Sensor\n",
      "Added - Block1_Zone1_Wall_5_0_0_0_0_0_Win_WindSpeed Sensor\n",
      "Added - Block1_Zone1_Wall_5_0_0_0_0_0_Win_OutT Sensor\n",
      "Added - Block1_Zone1_Wall_5_0_0_0_0_0_Win_Occ_count Sensor\n",
      "Added - OutT Sensor\n",
      "Added - AHST_Act_BLOCK1_ZONE2 Actuator\n",
      "Added - ACST_Act_BLOCK1:ZONE2 Actuator\n",
      "Added - AHST_Act_BLOCK1_ZONE1 Actuator\n",
      "Added - ACST_Act_BLOCK1:ZONE1 Actuator\n",
      "Added - Block1_Zone2_Wall_3_0_0_0_0_0_Win_VentOpenFact Actuator\n",
      "Added - Block1_Zone2_Wall_4_0_0_0_0_0_Win_VentOpenFact Actuator\n",
      "Added - Block1_Zone2_Wall_5_0_0_0_0_0_Win_VentOpenFact Actuator\n",
      "Added - Block1_Zone1_Wall_2_0_0_0_0_0_Win_VentOpenFact Actuator\n",
      "Added - Block1_Zone1_Wall_3_0_0_0_0_0_Win_VentOpenFact Actuator\n",
      "Added - Block1_Zone1_Wall_5_0_0_0_0_0_Win_VentOpenFact Actuator\n",
      "Added - BLOCK1_ZONE2_CoolCoil Sensor\n",
      "Added - BLOCK1_ZONE2_HeatCoil Sensor\n",
      "Added - BLOCK1_ZONE1_CoolCoil Sensor\n",
      "Added - BLOCK1_ZONE1_HeatCoil Sensor\n",
      "Added - Block1_Zone2_Wall_3_0_0_0_0_0_Win_CoolCoil Sensor\n",
      "Added - Block1_Zone2_Wall_3_0_0_0_0_0_Win_HeatCoil Sensor\n",
      "Added - Block1_Zone2_Wall_4_0_0_0_0_0_Win_CoolCoil Sensor\n",
      "Added - Block1_Zone2_Wall_4_0_0_0_0_0_Win_HeatCoil Sensor\n",
      "Added - Block1_Zone2_Wall_5_0_0_0_0_0_Win_CoolCoil Sensor\n",
      "Added - Block1_Zone2_Wall_5_0_0_0_0_0_Win_HeatCoil Sensor\n",
      "Added - Block1_Zone1_Wall_2_0_0_0_0_0_Win_CoolCoil Sensor\n",
      "Added - Block1_Zone1_Wall_2_0_0_0_0_0_Win_HeatCoil Sensor\n",
      "Added - Block1_Zone1_Wall_3_0_0_0_0_0_Win_CoolCoil Sensor\n",
      "Added - Block1_Zone1_Wall_3_0_0_0_0_0_Win_HeatCoil Sensor\n",
      "Added - Block1_Zone1_Wall_5_0_0_0_0_0_Win_CoolCoil Sensor\n",
      "Added - Block1_Zone1_Wall_5_0_0_0_0_0_Win_HeatCoil Sensor\n",
      "Added - SetComfTemp Program Calling Manager\n",
      "Added - CountHours_BLOCK1_ZONE2 Program Calling Manager\n",
      "Added - CountHours_BLOCK1_ZONE1 Program Calling Manager\n",
      "Added - SetAppLimits Program Calling Manager\n",
      "Added - ApplyCAT Program Calling Manager\n",
      "Added - SetAST Program Calling Manager\n",
      "Added - SetASTnoTol Program Calling Manager\n",
      "Added - CountHoursNoApp_BLOCK1_ZONE2 Program Calling Manager\n",
      "Added - SetGeoVarBLOCK1_ZONE2 Program Calling Manager\n",
      "Added - CountHoursNoApp_BLOCK1_ZONE1 Program Calling Manager\n",
      "Added - SetGeoVarBLOCK1_ZONE1 Program Calling Manager\n",
      "Added - SetInputData Program Calling Manager\n",
      "Added - SetVOFinputData Program Calling Manager\n",
      "Added - SetVST Program Calling Manager\n",
      "Added - ApplyAST_BLOCK1_ZONE2 Program Calling Manager\n",
      "Added - ApplyAST_BLOCK1_ZONE1 Program Calling Manager\n",
      "Added - SetMyVOF_Block1_Zone2_Wall_3_0_0_0_0_0_Win Program Calling Manager\n",
      "Added - SetWindowOperation_Block1_Zone2_Wall_3_0_0_0_0_0_Win Program Calling Manager\n",
      "Added - SetMyVOF_Block1_Zone2_Wall_4_0_0_0_0_0_Win Program Calling Manager\n",
      "Added - SetWindowOperation_Block1_Zone2_Wall_4_0_0_0_0_0_Win Program Calling Manager\n",
      "Added - SetMyVOF_Block1_Zone2_Wall_5_0_0_0_0_0_Win Program Calling Manager\n",
      "Added - SetWindowOperation_Block1_Zone2_Wall_5_0_0_0_0_0_Win Program Calling Manager\n",
      "Added - SetMyVOF_Block1_Zone1_Wall_2_0_0_0_0_0_Win Program Calling Manager\n",
      "Added - SetWindowOperation_Block1_Zone1_Wall_2_0_0_0_0_0_Win Program Calling Manager\n",
      "Added - SetMyVOF_Block1_Zone1_Wall_3_0_0_0_0_0_Win Program Calling Manager\n",
      "Added - SetWindowOperation_Block1_Zone1_Wall_3_0_0_0_0_0_Win Program Calling Manager\n",
      "Added - SetMyVOF_Block1_Zone1_Wall_5_0_0_0_0_0_Win Program Calling Manager\n",
      "Added - SetWindowOperation_Block1_Zone1_Wall_5_0_0_0_0_0_Win Program Calling Manager\n",
      "Added - Comfort Temperature Reporting FrequencyHourly Output:Variable data\n",
      "Added - Adaptive Cooling Setpoint Temperature Reporting FrequencyHourly Output:Variable data\n",
      "Added - Adaptive Heating Setpoint Temperature Reporting FrequencyHourly Output:Variable data\n",
      "Added - Adaptive Cooling Setpoint Temperature_No Tolerance Reporting FrequencyHourly Output:Variable data\n",
      "Added - Adaptive Heating Setpoint Temperature_No Tolerance Reporting FrequencyHourly Output:Variable data\n",
      "Added - z_test_ComfStand Reporting FrequencyHourly Output:Variable data\n",
      "Added - z_test_ACSTaul Reporting FrequencyHourly Output:Variable data\n",
      "Added - z_test_ACSTall Reporting FrequencyHourly Output:Variable data\n",
      "Added - z_test_AHSTaul Reporting FrequencyHourly Output:Variable data\n",
      "Added - z_test_AHSTall Reporting FrequencyHourly Output:Variable data\n",
      "Added - z_test_CAT Reporting FrequencyHourly Output:Variable data\n",
      "Added - z_test_ACSToffset Reporting FrequencyHourly Output:Variable data\n",
      "Added - z_test_AHSToffset Reporting FrequencyHourly Output:Variable data\n",
      "Added - z_test_ComfMod Reporting FrequencyHourly Output:Variable data\n",
      "Added - z_test_ACSTtol Reporting FrequencyHourly Output:Variable data\n",
      "Added - z_test_SetpointAcc Reporting FrequencyHourly Output:Variable data\n",
      "Added - z_test_CustAST_m Reporting FrequencyHourly Output:Variable data\n",
      "Added - z_test_CustAST_n Reporting FrequencyHourly Output:Variable data\n",
      "Added - z_test_AHSTtol Reporting FrequencyHourly Output:Variable data\n",
      "Added - Ventilation Setpoint Temperature Reporting FrequencyHourly Output:Variable data\n",
      "Added - Minimum Outdoor Temperature for ventilation Reporting FrequencyHourly Output:Variable data\n",
      "Added - Minimum Outdoor Temperature Difference for ventilation Reporting FrequencyHourly Output:Variable data\n",
      "Added - Maximum Outdoor Temperature Difference for ventilation Reporting FrequencyHourly Output:Variable data\n",
      "Added - Multiplier for Ventilation Opening Factor Reporting FrequencyHourly Output:Variable data\n",
      "Added - Comfortable Hours_No Applicability_BLOCK1_ZONE2 Reporting FrequencyHourly Output:Variable data\n",
      "Added - Comfortable Hours_No Applicability_BLOCK1_ZONE1 Reporting FrequencyHourly Output:Variable data\n",
      "Added - Comfortable Hours_Applicability_BLOCK1_ZONE2 Reporting FrequencyHourly Output:Variable data\n",
      "Added - Comfortable Hours_Applicability_BLOCK1_ZONE1 Reporting FrequencyHourly Output:Variable data\n",
      "Added - Occupied Comfortable Hours_No Applicability_BLOCK1_ZONE2 Reporting FrequencyHourly Output:Variable data\n",
      "Added - Occupied Comfortable Hours_No Applicability_BLOCK1_ZONE1 Reporting FrequencyHourly Output:Variable data\n",
      "Added - Occupied Discomfortable Hours_No Applicability_BLOCK1_ZONE2 Reporting FrequencyHourly Output:Variable data\n",
      "Added - Occupied Discomfortable Hours_No Applicability_BLOCK1_ZONE1 Reporting FrequencyHourly Output:Variable data\n",
      "Added - Occupied Hours_BLOCK1_ZONE2 Reporting FrequencyHourly Output:Variable data\n",
      "Added - Occupied Hours_BLOCK1_ZONE1 Reporting FrequencyHourly Output:Variable data\n",
      "Added - Discomfortable Applicable Hot Hours_BLOCK1_ZONE2 Reporting FrequencyHourly Output:Variable data\n",
      "Added - Discomfortable Applicable Hot Hours_BLOCK1_ZONE1 Reporting FrequencyHourly Output:Variable data\n",
      "Added - Discomfortable Applicable Cold Hours_BLOCK1_ZONE2 Reporting FrequencyHourly Output:Variable data\n",
      "Added - Discomfortable Applicable Cold Hours_BLOCK1_ZONE1 Reporting FrequencyHourly Output:Variable data\n",
      "Added - Discomfortable Non Applicable Hot Hours_BLOCK1_ZONE2 Reporting FrequencyHourly Output:Variable data\n",
      "Added - Discomfortable Non Applicable Hot Hours_BLOCK1_ZONE1 Reporting FrequencyHourly Output:Variable data\n",
      "Added - Discomfortable Non Applicable Cold Hours_BLOCK1_ZONE2 Reporting FrequencyHourly Output:Variable data\n",
      "Added - Discomfortable Non Applicable Cold Hours_BLOCK1_ZONE1 Reporting FrequencyHourly Output:Variable data\n",
      "Added - Zone Floor Area_BLOCK1_ZONE2 Reporting FrequencyHourly Output:Variable data\n",
      "Added - Zone Floor Area_BLOCK1_ZONE1 Reporting FrequencyHourly Output:Variable data\n",
      "Added - Zone Air Volume_BLOCK1_ZONE2 Reporting FrequencyHourly Output:Variable data\n",
      "Added - Zone Air Volume_BLOCK1_ZONE1 Reporting FrequencyHourly Output:Variable data\n",
      "Added - People Occupant Count_BLOCK1_ZONE2 Reporting FrequencyHourly Output:Variable data\n",
      "Added - People Occupant Count_BLOCK1_ZONE1 Reporting FrequencyHourly Output:Variable data\n",
      "Added - Ventilation Hours_BLOCK1_ZONE2 Reporting FrequencyHourly Output:Variable data\n",
      "Added - Ventilation Hours_BLOCK1_ZONE1 Reporting FrequencyHourly Output:Variable data\n",
      "Added - Zone Thermostat Operative Temperature Reporting FrequencyHourly Output:Variable data\n",
      "Added - Zone Thermostat Air Temperature Reporting FrequencyHourly Output:Variable data\n",
      "Added - Zone Operative Temperature Reporting FrequencyHourly Output:Variable data\n",
      "Added - Zone Thermal Comfort CEN 15251 Adaptive Model Running Average Outdoor Air Temperature Reporting FrequencyHourly Output:Variable data\n",
      "Added - Zone Thermal Comfort ASHRAE 55 Adaptive Model Running Average Outdoor Air Temperature Reporting FrequencyHourly Output:Variable data\n",
      "Added - Cooling Coil Total Cooling Rate Reporting FrequencyHourly Output:Variable data\n",
      "Added - Heating Coil Heating Rate Reporting FrequencyHourly Output:Variable data\n",
      "Added - Facility Total HVAC Electric Demand Power Reporting FrequencyHourly Output:Variable data\n",
      "Added - Facility Total HVAC Electricity Demand Rate Reporting FrequencyHourly Output:Variable data\n",
      "Added - AFN Surface Venting Window or Door Opening Factor Reporting FrequencyHourly Output:Variable data\n",
      "Added - AFN Zone Infiltration Air Change Rate Reporting FrequencyHourly Output:Variable data\n",
      "Added - AFN Zone Infiltration Volume Reporting FrequencyHourly Output:Variable data\n",
      "Added - AFN Zone Ventilation Air Change Rate Reporting FrequencyHourly Output:Variable data\n",
      "Added - AFN Zone Ventilation Volume Reporting FrequencyHourly Output:Variable data\n",
      "Added - Site Outdoor Air Drybulb Temperature Reporting FrequencyHourly Output:Variable data\n",
      "Added - Site Wind Speed Reporting FrequencyHourly Output:Variable data\n",
      "Added - Site Outdoor Air Relative Humidity Reporting FrequencyHourly Output:Variable data\n",
      "Added - AHST_Sch_BLOCK1_ZONE2 Reporting FrequencyHourly Output:Variable data\n",
      "Added - ACST_Sch_BLOCK1_ZONE2 Reporting FrequencyHourly Output:Variable data\n",
      "Added - AHST_Sch_BLOCK1_ZONE1 Reporting FrequencyHourly Output:Variable data\n",
      "Added - ACST_Sch_BLOCK1_ZONE1 Reporting FrequencyHourly Output:Variable data\n",
      "Added - VRF Heat Pump Cooling Electricity Energy Reporting FrequencyHourly Output:Variable data\n",
      "Added - VRF Heat Pump Heating Electricity Energy Reporting FrequencyHourly Output:Variable data\n",
      "Added - BLOCK1_ZONE2 VRF Indoor Unit DX Cooling Coil Reporting FrequencyHourly Output:Variable data\n",
      "Added - BLOCK1_ZONE2 VRF Indoor Unit DX Heating Coil Reporting Frequency Hourly Output:Variable data\n",
      "Added - BLOCK1_ZONE1 VRF Indoor Unit DX Cooling Coil Reporting FrequencyHourly Output:Variable data\n",
      "Added - BLOCK1_ZONE1 VRF Indoor Unit DX Heating Coil Reporting Frequency Hourly Output:Variable data\n",
      "Added - OutputControl:Files object\n",
      "Added - Output:VariableDictionary object\n",
      "\n",
      "=======================END OF OUTPUT IDF FILE GENERATION PROCESS=======================\n",
      "\n"
     ]
    }
   ],
   "source": [
    "parametric = OptimParamSimulation(\n",
    "    building=building,\n",
    "    parameters_type='accim custom model',\n",
    "    #output_type='standard', #\n",
    "    #output_keep_existing=False, #\n",
    "    #output_freqs=['hourly'], #\n",
    "    #ScriptType='vrf_mm', #\n",
    "    #SupplyAirTempInputMethod='temperature difference', #\n",
    "    #debugging=True, #\n",
    "    #verbosemode=False #\n",
    ")"
   ]
  },
  {
   "cell_type": "markdown",
   "id": "51eed0eb-7b3a-4428-8952-070a650acf61",
   "metadata": {},
   "source": [
    "An initial and generic version of the Adaptive-Comfort-Control-Implementation Script (ACCIS) has been added to the idf instance `building`. For instance, you can take a look at the parameter values accis currently has:"
   ]
  },
  {
   "cell_type": "code",
   "execution_count": 7,
   "id": "ad387b77-4998-4e51-979a-928fa52e551d",
   "metadata": {},
   "outputs": [
    {
     "data": {
      "text/plain": [
       "[\n",
       " ENERGYMANAGEMENTSYSTEM:PROGRAM,\n",
       "     SetInputData,             !- Name\n",
       "     set ComfStand = 1,        !- Program Line 1\n",
       "     set CAT = 1,              !- Program Line 2\n",
       "     set ComfMod = 2,          !- Program Line 3\n",
       "     set HVACmode = 2,         !- Program Line 4\n",
       "     set VentCtrl = 0,         !- Program Line 5\n",
       "     set VSToffset = 0,        !- Program Line 6\n",
       "     set MinOToffset = 7,      !- Program Line 7\n",
       "     set MaxWindSpeed = 6,     !- Program Line 8\n",
       "     set ACSTtol = -0.25,      !- Program Line 9\n",
       "     set AHSTtol = 0.25,       !- Program Line 10\n",
       "     set CoolSeasonStart = 121,    !- Program Line 11\n",
       "     set CoolSeasonEnd = 274;    !- Program Line 12]"
      ]
     },
     "execution_count": 7,
     "metadata": {},
     "output_type": "execute_result"
    }
   ],
   "source": [
    "[i for i in building.idfobjects['energymanagementsystem:program'] if i.Name.lower() == 'setinputdata']"
   ]
  },
  {
   "cell_type": "markdown",
   "id": "99605e82-4d01-4aee-835c-ab9c6c66faa4",
   "metadata": {},
   "source": [
    "## Setting the outputs"
   ]
  },
  {
   "cell_type": "markdown",
   "id": "8d3f905b-543d-4f32-b0dd-67ed99f77780",
   "metadata": {},
   "source": [
    "**If you have already read any of the other parametric simulation examples, you can skip this entire outputs section, since it is exactly the same.**"
   ]
  },
  {
   "cell_type": "markdown",
   "id": "bc714539-79c3-46e9-9caa-44a21fc413cb",
   "metadata": {},
   "source": [
    "### Outputs for the idf (i.e. the outputs for each simulation run)"
   ]
  },
  {
   "cell_type": "markdown",
   "id": "764b7626-0e63-4317-8bbf-28ac2fe68f68",
   "metadata": {},
   "source": [
    "First of all, we are going to set the outputs of the simulations that are going to be performed. This is an important step, especially if you are going to run hundreds or thousands of simulations."
   ]
  },
  {
   "cell_type": "markdown",
   "id": "b2f1d34a-dc0a-4aac-b01f-a7425b95090f",
   "metadata": {},
   "source": [
    "Let's take a look at the Output:Variable objects we currently have in the idf. The method `get_output_var_df_from_idf()` returns a pandas DataFrame which contains the information of the existing Output:Variable objects in the idf:"
   ]
  },
  {
   "cell_type": "code",
   "execution_count": 8,
   "id": "12ee78ba-c60b-4ef1-a6fb-51086a8a53fa",
   "metadata": {},
   "outputs": [
    {
     "data": {
      "text/html": [
       "<div>\n",
       "<style scoped>\n",
       "    .dataframe tbody tr th:only-of-type {\n",
       "        vertical-align: middle;\n",
       "    }\n",
       "\n",
       "    .dataframe tbody tr th {\n",
       "        vertical-align: top;\n",
       "    }\n",
       "\n",
       "    .dataframe thead th {\n",
       "        text-align: right;\n",
       "    }\n",
       "</style>\n",
       "<table border=\"1\" class=\"dataframe\">\n",
       "  <thead>\n",
       "    <tr style=\"text-align: right;\">\n",
       "      <th></th>\n",
       "      <th>key_value</th>\n",
       "      <th>variable_name</th>\n",
       "      <th>reporting_frequency</th>\n",
       "      <th>schedule_name</th>\n",
       "    </tr>\n",
       "  </thead>\n",
       "  <tbody>\n",
       "    <tr>\n",
       "      <th>0</th>\n",
       "      <td>*</td>\n",
       "      <td>Comfort Temperature</td>\n",
       "      <td>Hourly</td>\n",
       "      <td></td>\n",
       "    </tr>\n",
       "    <tr>\n",
       "      <th>1</th>\n",
       "      <td>*</td>\n",
       "      <td>Adaptive Cooling Setpoint Temperature</td>\n",
       "      <td>Hourly</td>\n",
       "      <td></td>\n",
       "    </tr>\n",
       "    <tr>\n",
       "      <th>2</th>\n",
       "      <td>*</td>\n",
       "      <td>Adaptive Heating Setpoint Temperature</td>\n",
       "      <td>Hourly</td>\n",
       "      <td></td>\n",
       "    </tr>\n",
       "    <tr>\n",
       "      <th>3</th>\n",
       "      <td>*</td>\n",
       "      <td>Adaptive Cooling Setpoint Temperature_No Toler...</td>\n",
       "      <td>Hourly</td>\n",
       "      <td></td>\n",
       "    </tr>\n",
       "    <tr>\n",
       "      <th>4</th>\n",
       "      <td>*</td>\n",
       "      <td>Adaptive Heating Setpoint Temperature_No Toler...</td>\n",
       "      <td>Hourly</td>\n",
       "      <td></td>\n",
       "    </tr>\n",
       "    <tr>\n",
       "      <th>...</th>\n",
       "      <td>...</td>\n",
       "      <td>...</td>\n",
       "      <td>...</td>\n",
       "      <td>...</td>\n",
       "    </tr>\n",
       "    <tr>\n",
       "      <th>72</th>\n",
       "      <td>*</td>\n",
       "      <td>VRF Heat Pump Heating Electricity Energy</td>\n",
       "      <td>Hourly</td>\n",
       "      <td></td>\n",
       "    </tr>\n",
       "    <tr>\n",
       "      <th>73</th>\n",
       "      <td>BLOCK1_ZONE2 VRF Indoor Unit DX Cooling Coil</td>\n",
       "      <td>Cooling Coil Total Cooling Rate</td>\n",
       "      <td>Hourly</td>\n",
       "      <td></td>\n",
       "    </tr>\n",
       "    <tr>\n",
       "      <th>74</th>\n",
       "      <td>BLOCK1_ZONE2 VRF Indoor Unit DX Heating Coil</td>\n",
       "      <td>Heating Coil Heating Rate</td>\n",
       "      <td>Hourly</td>\n",
       "      <td></td>\n",
       "    </tr>\n",
       "    <tr>\n",
       "      <th>75</th>\n",
       "      <td>BLOCK1_ZONE1 VRF Indoor Unit DX Cooling Coil</td>\n",
       "      <td>Cooling Coil Total Cooling Rate</td>\n",
       "      <td>Hourly</td>\n",
       "      <td></td>\n",
       "    </tr>\n",
       "    <tr>\n",
       "      <th>76</th>\n",
       "      <td>BLOCK1_ZONE1 VRF Indoor Unit DX Heating Coil</td>\n",
       "      <td>Heating Coil Heating Rate</td>\n",
       "      <td>Hourly</td>\n",
       "      <td></td>\n",
       "    </tr>\n",
       "  </tbody>\n",
       "</table>\n",
       "<p>77 rows × 4 columns</p>\n",
       "</div>"
      ],
      "text/plain": [
       "                                       key_value  \\\n",
       "0                                              *   \n",
       "1                                              *   \n",
       "2                                              *   \n",
       "3                                              *   \n",
       "4                                              *   \n",
       "..                                           ...   \n",
       "72                                             *   \n",
       "73  BLOCK1_ZONE2 VRF Indoor Unit DX Cooling Coil   \n",
       "74  BLOCK1_ZONE2 VRF Indoor Unit DX Heating Coil   \n",
       "75  BLOCK1_ZONE1 VRF Indoor Unit DX Cooling Coil   \n",
       "76  BLOCK1_ZONE1 VRF Indoor Unit DX Heating Coil   \n",
       "\n",
       "                                        variable_name reporting_frequency  \\\n",
       "0                                 Comfort Temperature              Hourly   \n",
       "1               Adaptive Cooling Setpoint Temperature              Hourly   \n",
       "2               Adaptive Heating Setpoint Temperature              Hourly   \n",
       "3   Adaptive Cooling Setpoint Temperature_No Toler...              Hourly   \n",
       "4   Adaptive Heating Setpoint Temperature_No Toler...              Hourly   \n",
       "..                                                ...                 ...   \n",
       "72           VRF Heat Pump Heating Electricity Energy              Hourly   \n",
       "73                    Cooling Coil Total Cooling Rate              Hourly   \n",
       "74                          Heating Coil Heating Rate              Hourly   \n",
       "75                    Cooling Coil Total Cooling Rate              Hourly   \n",
       "76                          Heating Coil Heating Rate              Hourly   \n",
       "\n",
       "   schedule_name  \n",
       "0                 \n",
       "1                 \n",
       "2                 \n",
       "3                 \n",
       "4                 \n",
       "..           ...  \n",
       "72                \n",
       "73                \n",
       "74                \n",
       "75                \n",
       "76                \n",
       "\n",
       "[77 rows x 4 columns]"
      ]
     },
     "execution_count": 8,
     "metadata": {},
     "output_type": "execute_result"
    }
   ],
   "source": [
    "df_output_variables_idf = parametric.get_output_var_df_from_idf()\n",
    "df_output_variables_idf"
   ]
  },
  {
   "cell_type": "markdown",
   "id": "ab1e81e8-c2f0-40c0-b868-0cf7ddb9954f",
   "metadata": {},
   "source": [
    "now, let's see the Output:Meter objects:"
   ]
  },
  {
   "cell_type": "code",
   "execution_count": 9,
   "id": "94c9844b-aacf-41fa-b1d4-ac7b491aa14e",
   "metadata": {},
   "outputs": [
    {
     "data": {
      "text/html": [
       "<div>\n",
       "<style scoped>\n",
       "    .dataframe tbody tr th:only-of-type {\n",
       "        vertical-align: middle;\n",
       "    }\n",
       "\n",
       "    .dataframe tbody tr th {\n",
       "        vertical-align: top;\n",
       "    }\n",
       "\n",
       "    .dataframe thead th {\n",
       "        text-align: right;\n",
       "    }\n",
       "</style>\n",
       "<table border=\"1\" class=\"dataframe\">\n",
       "  <thead>\n",
       "    <tr style=\"text-align: right;\">\n",
       "      <th></th>\n",
       "      <th>key_name</th>\n",
       "      <th>frequency</th>\n",
       "    </tr>\n",
       "  </thead>\n",
       "  <tbody>\n",
       "  </tbody>\n",
       "</table>\n",
       "</div>"
      ],
      "text/plain": [
       "Empty DataFrame\n",
       "Columns: [key_name, frequency]\n",
       "Index: []"
      ]
     },
     "execution_count": 9,
     "metadata": {},
     "output_type": "execute_result"
    }
   ],
   "source": [
    "df_output_meters_idf = parametric.get_output_meter_df_from_idf()\n",
    "df_output_meters_idf.head()"
   ]
  },
  {
   "cell_type": "markdown",
   "id": "093bdcab-a1aa-492a-8864-d2e4e1a0b72c",
   "metadata": {},
   "source": [
    "In this case, we can see there is no Output:Meter. However, there is a large number of Output:Variable objects which might result in heavy simulation outputs. So, let's get rid of some of them. We can drop the rows we want, and then input the modified DataFrame in the method `set_output_var_df_to_idf(outputs_df)`."
   ]
  },
  {
   "cell_type": "code",
   "execution_count": 10,
   "id": "9ccc7b08-119c-4f4c-bb45-9aac8201fe7e",
   "metadata": {},
   "outputs": [
    {
     "data": {
      "text/html": [
       "<div>\n",
       "<style scoped>\n",
       "    .dataframe tbody tr th:only-of-type {\n",
       "        vertical-align: middle;\n",
       "    }\n",
       "\n",
       "    .dataframe tbody tr th {\n",
       "        vertical-align: top;\n",
       "    }\n",
       "\n",
       "    .dataframe thead th {\n",
       "        text-align: right;\n",
       "    }\n",
       "</style>\n",
       "<table border=\"1\" class=\"dataframe\">\n",
       "  <thead>\n",
       "    <tr style=\"text-align: right;\">\n",
       "      <th></th>\n",
       "      <th>key_value</th>\n",
       "      <th>variable_name</th>\n",
       "      <th>reporting_frequency</th>\n",
       "      <th>schedule_name</th>\n",
       "    </tr>\n",
       "  </thead>\n",
       "  <tbody>\n",
       "    <tr>\n",
       "      <th>3</th>\n",
       "      <td>*</td>\n",
       "      <td>Adaptive Cooling Setpoint Temperature_No Toler...</td>\n",
       "      <td>Hourly</td>\n",
       "      <td></td>\n",
       "    </tr>\n",
       "    <tr>\n",
       "      <th>4</th>\n",
       "      <td>*</td>\n",
       "      <td>Adaptive Heating Setpoint Temperature_No Toler...</td>\n",
       "      <td>Hourly</td>\n",
       "      <td></td>\n",
       "    </tr>\n",
       "    <tr>\n",
       "      <th>52</th>\n",
       "      <td>*</td>\n",
       "      <td>Zone Operative Temperature</td>\n",
       "      <td>Hourly</td>\n",
       "      <td></td>\n",
       "    </tr>\n",
       "    <tr>\n",
       "      <th>54</th>\n",
       "      <td>*</td>\n",
       "      <td>Zone Thermal Comfort ASHRAE 55 Adaptive Model ...</td>\n",
       "      <td>Hourly</td>\n",
       "      <td></td>\n",
       "    </tr>\n",
       "  </tbody>\n",
       "</table>\n",
       "</div>"
      ],
      "text/plain": [
       "   key_value                                      variable_name  \\\n",
       "3          *  Adaptive Cooling Setpoint Temperature_No Toler...   \n",
       "4          *  Adaptive Heating Setpoint Temperature_No Toler...   \n",
       "52         *                         Zone Operative Temperature   \n",
       "54         *  Zone Thermal Comfort ASHRAE 55 Adaptive Model ...   \n",
       "\n",
       "   reporting_frequency schedule_name  \n",
       "3               Hourly                \n",
       "4               Hourly                \n",
       "52              Hourly                \n",
       "54              Hourly                "
      ]
     },
     "execution_count": 10,
     "metadata": {},
     "output_type": "execute_result"
    }
   ],
   "source": [
    "df_output_variables_idf = df_output_variables_idf[\n",
    "    (\n",
    "        df_output_variables_idf['variable_name'].str.contains('Setpoint Temperature_No Tolerance')\n",
    "        |\n",
    "        df_output_variables_idf['variable_name'].str.contains('Zone Operative Temperature')\n",
    "        |\n",
    "        df_output_variables_idf['variable_name'].str.contains('Zone Thermal Comfort ASHRAE 55 Adaptive Model Running Average Outdoor Air Temperature')\n",
    "    )\n",
    "]\n",
    "df_output_variables_idf"
   ]
  },
  {
   "cell_type": "markdown",
   "id": "643151b4-a20d-4d00-a1c9-5a78a56be916",
   "metadata": {},
   "source": [
    "Let's keep only the Output:Variable objects we have filtered using the `set_output_var_df_to_idf(outputs_df)`:"
   ]
  },
  {
   "cell_type": "code",
   "execution_count": 11,
   "id": "8958bc66-f42d-4fc0-9622-f2b3ffb03852",
   "metadata": {},
   "outputs": [],
   "source": [
    "parametric.set_output_var_df_to_idf(outputs_df=df_output_variables_idf)"
   ]
  },
  {
   "cell_type": "markdown",
   "id": "eacd9d6d-7fa1-4e6d-8bab-edbfa322140b",
   "metadata": {},
   "source": [
    "We have removed all rows except the adaptive heating and cooling setpoints, the operative temperature and the running mean outdoor temperature. Next optional step is adding Output:Meter objects. We can do that using the method `set_output_met_objects_to_idf(output_meters)`, where `output_meters` is a list of Output:Meter key names."
   ]
  },
  {
   "cell_type": "code",
   "execution_count": 12,
   "id": "addf36d3-b7c2-4254-bec5-322850a464d1",
   "metadata": {},
   "outputs": [],
   "source": [
    "output_meters = [\n",
    "    'Heating:Electricity',\n",
    "    'Cooling:Electricity',\n",
    "    'Electricity:HVAC',\n",
    "]\n",
    "parametric.set_output_met_objects_to_idf(output_meters=output_meters)"
   ]
  },
  {
   "cell_type": "markdown",
   "id": "fa66a111-e72e-4ebd-8110-8222191d6c5d",
   "metadata": {},
   "source": [
    "Let's see Output:Meter objects we currently have after adding these:"
   ]
  },
  {
   "cell_type": "code",
   "execution_count": 13,
   "id": "41878d11-6dcc-4158-9ec4-a74aa9d2dafc",
   "metadata": {},
   "outputs": [
    {
     "data": {
      "text/html": [
       "<div>\n",
       "<style scoped>\n",
       "    .dataframe tbody tr th:only-of-type {\n",
       "        vertical-align: middle;\n",
       "    }\n",
       "\n",
       "    .dataframe tbody tr th {\n",
       "        vertical-align: top;\n",
       "    }\n",
       "\n",
       "    .dataframe thead th {\n",
       "        text-align: right;\n",
       "    }\n",
       "</style>\n",
       "<table border=\"1\" class=\"dataframe\">\n",
       "  <thead>\n",
       "    <tr style=\"text-align: right;\">\n",
       "      <th></th>\n",
       "      <th>key_name</th>\n",
       "      <th>frequency</th>\n",
       "    </tr>\n",
       "  </thead>\n",
       "  <tbody>\n",
       "    <tr>\n",
       "      <th>0</th>\n",
       "      <td>Heating:Electricity</td>\n",
       "      <td>hourly</td>\n",
       "    </tr>\n",
       "    <tr>\n",
       "      <th>1</th>\n",
       "      <td>Cooling:Electricity</td>\n",
       "      <td>hourly</td>\n",
       "    </tr>\n",
       "    <tr>\n",
       "      <th>2</th>\n",
       "      <td>Electricity:HVAC</td>\n",
       "      <td>hourly</td>\n",
       "    </tr>\n",
       "  </tbody>\n",
       "</table>\n",
       "</div>"
      ],
      "text/plain": [
       "              key_name frequency\n",
       "0  Heating:Electricity    hourly\n",
       "1  Cooling:Electricity    hourly\n",
       "2     Electricity:HVAC    hourly"
      ]
     },
     "execution_count": 13,
     "metadata": {},
     "output_type": "execute_result"
    }
   ],
   "source": [
    "df_output_meters_idf = parametric.get_output_meter_df_from_idf()\n",
    "df_output_meters_idf.head()"
   ]
  },
  {
   "cell_type": "markdown",
   "id": "90fd8d9b-ecd8-4c79-9f37-775f2c2921ed",
   "metadata": {},
   "source": [
    "### Outputs to be read and shown in the parametric simulation or optimisation"
   ]
  },
  {
   "cell_type": "markdown",
   "id": "bb18fd43-e07e-42f1-ac75-020bcbe96d9a",
   "metadata": {},
   "source": [
    "To successfully run the parametric simulation or optimisation, it is advisable running a test simulation to know the outputs that each simulation will have. We can do that with the method `get_outputs_df_from_testsim()`, which returns a tuple containing 2 DataFrames containing respectively the Output:Meter and Output:Variable objects from the simulation. In this case, you won't find wildcards such as \"*\"."
   ]
  },
  {
   "cell_type": "code",
   "execution_count": 14,
   "id": "ff6093e9-840d-4142-ad79-98d78f4f13d1",
   "metadata": {},
   "outputs": [
    {
     "name": "stdout",
     "output_type": "stream",
     "text": [
      "Solar distribution has been set to MinimalShadowing.\n",
      "Shading Calculation Update Frequency was previously set to 20 days, and it has been modified to 20 days.\n",
      "Maximum Figures in Shadow Overlap Calculations was previously set to 15000 days, and it has been modified to 200 days.\n",
      "Number of Timesteps per Hour was previously set to 6 days, and it has been modified to 2 days.\n"
     ]
    }
   ],
   "source": [
    "df_output_meters_testsim, df_output_variables_testsim = parametric.get_outputs_df_from_testsim()"
   ]
  },
  {
   "cell_type": "code",
   "execution_count": 15,
   "id": "61a88134-7997-42ce-88b0-ef4606cdfe61",
   "metadata": {},
   "outputs": [
    {
     "data": {
      "text/html": [
       "<div>\n",
       "<style scoped>\n",
       "    .dataframe tbody tr th:only-of-type {\n",
       "        vertical-align: middle;\n",
       "    }\n",
       "\n",
       "    .dataframe tbody tr th {\n",
       "        vertical-align: top;\n",
       "    }\n",
       "\n",
       "    .dataframe thead th {\n",
       "        text-align: right;\n",
       "    }\n",
       "</style>\n",
       "<table border=\"1\" class=\"dataframe\">\n",
       "  <thead>\n",
       "    <tr style=\"text-align: right;\">\n",
       "      <th></th>\n",
       "      <th>key_name</th>\n",
       "      <th>frequency</th>\n",
       "    </tr>\n",
       "  </thead>\n",
       "  <tbody>\n",
       "    <tr>\n",
       "      <th>0</th>\n",
       "      <td>Heating:Electricity</td>\n",
       "      <td>Hourly</td>\n",
       "    </tr>\n",
       "    <tr>\n",
       "      <th>1</th>\n",
       "      <td>Cooling:Electricity</td>\n",
       "      <td>Hourly</td>\n",
       "    </tr>\n",
       "    <tr>\n",
       "      <th>2</th>\n",
       "      <td>Electricity:HVAC</td>\n",
       "      <td>Hourly</td>\n",
       "    </tr>\n",
       "  </tbody>\n",
       "</table>\n",
       "</div>"
      ],
      "text/plain": [
       "              key_name frequency\n",
       "0  Heating:Electricity    Hourly\n",
       "1  Cooling:Electricity    Hourly\n",
       "2     Electricity:HVAC    Hourly"
      ]
     },
     "execution_count": 15,
     "metadata": {},
     "output_type": "execute_result"
    }
   ],
   "source": [
    "df_output_meters_testsim"
   ]
  },
  {
   "cell_type": "code",
   "execution_count": 16,
   "id": "9dd7f778-e7b7-4474-ae02-fd6a8f154c1f",
   "metadata": {},
   "outputs": [
    {
     "data": {
      "text/html": [
       "<div>\n",
       "<style scoped>\n",
       "    .dataframe tbody tr th:only-of-type {\n",
       "        vertical-align: middle;\n",
       "    }\n",
       "\n",
       "    .dataframe tbody tr th {\n",
       "        vertical-align: top;\n",
       "    }\n",
       "\n",
       "    .dataframe thead th {\n",
       "        text-align: right;\n",
       "    }\n",
       "</style>\n",
       "<table border=\"1\" class=\"dataframe\">\n",
       "  <thead>\n",
       "    <tr style=\"text-align: right;\">\n",
       "      <th></th>\n",
       "      <th>key_value</th>\n",
       "      <th>variable_name</th>\n",
       "      <th>frequency</th>\n",
       "    </tr>\n",
       "  </thead>\n",
       "  <tbody>\n",
       "    <tr>\n",
       "      <th>0</th>\n",
       "      <td>EMS</td>\n",
       "      <td>Adaptive Cooling Setpoint Temperature_No Toler...</td>\n",
       "      <td>Hourly</td>\n",
       "    </tr>\n",
       "    <tr>\n",
       "      <th>1</th>\n",
       "      <td>EMS</td>\n",
       "      <td>Adaptive Heating Setpoint Temperature_No Toler...</td>\n",
       "      <td>Hourly</td>\n",
       "    </tr>\n",
       "    <tr>\n",
       "      <th>2</th>\n",
       "      <td>BLOCK1:ZONE2</td>\n",
       "      <td>Zone Operative Temperature</td>\n",
       "      <td>Hourly</td>\n",
       "    </tr>\n",
       "    <tr>\n",
       "      <th>3</th>\n",
       "      <td>BLOCK1:ZONE1</td>\n",
       "      <td>Zone Operative Temperature</td>\n",
       "      <td>Hourly</td>\n",
       "    </tr>\n",
       "    <tr>\n",
       "      <th>4</th>\n",
       "      <td>PEOPLE BLOCK1:ZONE2</td>\n",
       "      <td>Zone Thermal Comfort ASHRAE 55 Adaptive Model ...</td>\n",
       "      <td>Hourly</td>\n",
       "    </tr>\n",
       "    <tr>\n",
       "      <th>5</th>\n",
       "      <td>PEOPLE BLOCK1:ZONE1</td>\n",
       "      <td>Zone Thermal Comfort ASHRAE 55 Adaptive Model ...</td>\n",
       "      <td>Hourly</td>\n",
       "    </tr>\n",
       "  </tbody>\n",
       "</table>\n",
       "</div>"
      ],
      "text/plain": [
       "             key_value                                      variable_name  \\\n",
       "0                  EMS  Adaptive Cooling Setpoint Temperature_No Toler...   \n",
       "1                  EMS  Adaptive Heating Setpoint Temperature_No Toler...   \n",
       "2         BLOCK1:ZONE2                         Zone Operative Temperature   \n",
       "3         BLOCK1:ZONE1                         Zone Operative Temperature   \n",
       "4  PEOPLE BLOCK1:ZONE2  Zone Thermal Comfort ASHRAE 55 Adaptive Model ...   \n",
       "5  PEOPLE BLOCK1:ZONE1  Zone Thermal Comfort ASHRAE 55 Adaptive Model ...   \n",
       "\n",
       "  frequency  \n",
       "0    Hourly  \n",
       "1    Hourly  \n",
       "2    Hourly  \n",
       "3    Hourly  \n",
       "4    Hourly  \n",
       "5    Hourly  "
      ]
     },
     "execution_count": 16,
     "metadata": {},
     "output_type": "execute_result"
    }
   ],
   "source": [
    "df_output_variables_testsim"
   ]
  },
  {
   "cell_type": "markdown",
   "id": "b0ed4500-6054-4a00-ae63-54412bf70944",
   "metadata": {},
   "source": [
    "We can get DataFrames from the .rdd and .mdd files generated from the test simulation using the functions `get_rdd_file_as_df()` and `get_mdd_file_as_df()`. "
   ]
  },
  {
   "cell_type": "code",
   "execution_count": 17,
   "id": "e28454a5-8de7-4551-bf9b-4db3fa8f124f",
   "metadata": {},
   "outputs": [
    {
     "data": {
      "text/html": [
       "<div>\n",
       "<style scoped>\n",
       "    .dataframe tbody tr th:only-of-type {\n",
       "        vertical-align: middle;\n",
       "    }\n",
       "\n",
       "    .dataframe tbody tr th {\n",
       "        vertical-align: top;\n",
       "    }\n",
       "\n",
       "    .dataframe thead th {\n",
       "        text-align: right;\n",
       "    }\n",
       "</style>\n",
       "<table border=\"1\" class=\"dataframe\">\n",
       "  <thead>\n",
       "    <tr style=\"text-align: right;\">\n",
       "      <th></th>\n",
       "      <th>object</th>\n",
       "      <th>key_value</th>\n",
       "      <th>variable_name</th>\n",
       "      <th>frequency</th>\n",
       "      <th>units</th>\n",
       "    </tr>\n",
       "  </thead>\n",
       "  <tbody>\n",
       "    <tr>\n",
       "      <th>0</th>\n",
       "      <td>Output:Variable</td>\n",
       "      <td>*</td>\n",
       "      <td>Site Outdoor Air Drybulb Temperature</td>\n",
       "      <td>hourly</td>\n",
       "      <td>!- Zone Average [C]</td>\n",
       "    </tr>\n",
       "    <tr>\n",
       "      <th>1</th>\n",
       "      <td>Output:Variable</td>\n",
       "      <td>*</td>\n",
       "      <td>Site Outdoor Air Dewpoint Temperature</td>\n",
       "      <td>hourly</td>\n",
       "      <td>!- Zone Average [C]</td>\n",
       "    </tr>\n",
       "    <tr>\n",
       "      <th>2</th>\n",
       "      <td>Output:Variable</td>\n",
       "      <td>*</td>\n",
       "      <td>Site Outdoor Air Wetbulb Temperature</td>\n",
       "      <td>hourly</td>\n",
       "      <td>!- Zone Average [C]</td>\n",
       "    </tr>\n",
       "    <tr>\n",
       "      <th>3</th>\n",
       "      <td>Output:Variable</td>\n",
       "      <td>*</td>\n",
       "      <td>Site Outdoor Air Humidity Ratio</td>\n",
       "      <td>hourly</td>\n",
       "      <td>!- Zone Average [kgWater/kgDryAir]</td>\n",
       "    </tr>\n",
       "    <tr>\n",
       "      <th>4</th>\n",
       "      <td>Output:Variable</td>\n",
       "      <td>*</td>\n",
       "      <td>Site Outdoor Air Relative Humidity</td>\n",
       "      <td>hourly</td>\n",
       "      <td>!- Zone Average [%]</td>\n",
       "    </tr>\n",
       "    <tr>\n",
       "      <th>...</th>\n",
       "      <td>...</td>\n",
       "      <td>...</td>\n",
       "      <td>...</td>\n",
       "      <td>...</td>\n",
       "      <td>...</td>\n",
       "    </tr>\n",
       "    <tr>\n",
       "      <th>712</th>\n",
       "      <td>Output:Variable</td>\n",
       "      <td>*</td>\n",
       "      <td>Zone Ventilation When Unoccupied Time</td>\n",
       "      <td>hourly</td>\n",
       "      <td>!- HVAC Sum [hr]</td>\n",
       "    </tr>\n",
       "    <tr>\n",
       "      <th>713</th>\n",
       "      <td>Output:Variable</td>\n",
       "      <td>*</td>\n",
       "      <td>Facility Any Zone Ventilation Below Target Voz...</td>\n",
       "      <td>hourly</td>\n",
       "      <td>!- HVAC Sum [hr]</td>\n",
       "    </tr>\n",
       "    <tr>\n",
       "      <th>714</th>\n",
       "      <td>Output:Variable</td>\n",
       "      <td>*</td>\n",
       "      <td>Facility All Zones Ventilation At Target Voz Time</td>\n",
       "      <td>hourly</td>\n",
       "      <td>!- HVAC Sum [hr]</td>\n",
       "    </tr>\n",
       "    <tr>\n",
       "      <th>715</th>\n",
       "      <td>Output:Variable</td>\n",
       "      <td>*</td>\n",
       "      <td>Facility Any Zone Ventilation Above Target Voz...</td>\n",
       "      <td>hourly</td>\n",
       "      <td>!- HVAC Sum [hr]</td>\n",
       "    </tr>\n",
       "    <tr>\n",
       "      <th>716</th>\n",
       "      <td>Output:Variable</td>\n",
       "      <td>*</td>\n",
       "      <td>Facility Any Zone Ventilation When Unoccupied ...</td>\n",
       "      <td>hourly</td>\n",
       "      <td>!- HVAC Sum [hr]</td>\n",
       "    </tr>\n",
       "  </tbody>\n",
       "</table>\n",
       "<p>717 rows × 5 columns</p>\n",
       "</div>"
      ],
      "text/plain": [
       "              object key_value  \\\n",
       "0    Output:Variable         *   \n",
       "1    Output:Variable         *   \n",
       "2    Output:Variable         *   \n",
       "3    Output:Variable         *   \n",
       "4    Output:Variable         *   \n",
       "..               ...       ...   \n",
       "712  Output:Variable         *   \n",
       "713  Output:Variable         *   \n",
       "714  Output:Variable         *   \n",
       "715  Output:Variable         *   \n",
       "716  Output:Variable         *   \n",
       "\n",
       "                                         variable_name frequency  \\\n",
       "0                 Site Outdoor Air Drybulb Temperature    hourly   \n",
       "1                Site Outdoor Air Dewpoint Temperature    hourly   \n",
       "2                 Site Outdoor Air Wetbulb Temperature    hourly   \n",
       "3                      Site Outdoor Air Humidity Ratio    hourly   \n",
       "4                   Site Outdoor Air Relative Humidity    hourly   \n",
       "..                                                 ...       ...   \n",
       "712              Zone Ventilation When Unoccupied Time    hourly   \n",
       "713  Facility Any Zone Ventilation Below Target Voz...    hourly   \n",
       "714  Facility All Zones Ventilation At Target Voz Time    hourly   \n",
       "715  Facility Any Zone Ventilation Above Target Voz...    hourly   \n",
       "716  Facility Any Zone Ventilation When Unoccupied ...    hourly   \n",
       "\n",
       "                                   units  \n",
       "0                    !- Zone Average [C]  \n",
       "1                    !- Zone Average [C]  \n",
       "2                    !- Zone Average [C]  \n",
       "3     !- Zone Average [kgWater/kgDryAir]  \n",
       "4                    !- Zone Average [%]  \n",
       "..                                   ...  \n",
       "712                     !- HVAC Sum [hr]  \n",
       "713                     !- HVAC Sum [hr]  \n",
       "714                     !- HVAC Sum [hr]  \n",
       "715                     !- HVAC Sum [hr]  \n",
       "716                     !- HVAC Sum [hr]  \n",
       "\n",
       "[717 rows x 5 columns]"
      ]
     },
     "execution_count": 17,
     "metadata": {},
     "output_type": "execute_result"
    }
   ],
   "source": [
    "df_rdd = get_rdd_file_as_df()\n",
    "df_rdd"
   ]
  },
  {
   "cell_type": "code",
   "execution_count": 18,
   "id": "58649f6e-f08c-49e5-823a-376ff26eb83a",
   "metadata": {},
   "outputs": [
    {
     "data": {
      "text/html": [
       "<div>\n",
       "<style scoped>\n",
       "    .dataframe tbody tr th:only-of-type {\n",
       "        vertical-align: middle;\n",
       "    }\n",
       "\n",
       "    .dataframe tbody tr th {\n",
       "        vertical-align: top;\n",
       "    }\n",
       "\n",
       "    .dataframe thead th {\n",
       "        text-align: right;\n",
       "    }\n",
       "</style>\n",
       "<table border=\"1\" class=\"dataframe\">\n",
       "  <thead>\n",
       "    <tr style=\"text-align: right;\">\n",
       "      <th></th>\n",
       "      <th>object</th>\n",
       "      <th>meter_name</th>\n",
       "      <th>frequency</th>\n",
       "      <th>units</th>\n",
       "    </tr>\n",
       "  </thead>\n",
       "  <tbody>\n",
       "    <tr>\n",
       "      <th>0</th>\n",
       "      <td>Output:Meter</td>\n",
       "      <td>Electricity:Facility</td>\n",
       "      <td>hourly</td>\n",
       "      <td>!- [J]</td>\n",
       "    </tr>\n",
       "    <tr>\n",
       "      <th>1</th>\n",
       "      <td>Output:Meter:Cumulative</td>\n",
       "      <td>Electricity:Facility</td>\n",
       "      <td>hourly</td>\n",
       "      <td>!- [J]</td>\n",
       "    </tr>\n",
       "    <tr>\n",
       "      <th>2</th>\n",
       "      <td>Output:Meter</td>\n",
       "      <td>Electricity:Building</td>\n",
       "      <td>hourly</td>\n",
       "      <td>!- [J]</td>\n",
       "    </tr>\n",
       "    <tr>\n",
       "      <th>3</th>\n",
       "      <td>Output:Meter:Cumulative</td>\n",
       "      <td>Electricity:Building</td>\n",
       "      <td>hourly</td>\n",
       "      <td>!- [J]</td>\n",
       "    </tr>\n",
       "    <tr>\n",
       "      <th>4</th>\n",
       "      <td>Output:Meter</td>\n",
       "      <td>Electricity:Zone:BLOCK1:ZONE2</td>\n",
       "      <td>hourly</td>\n",
       "      <td>!- [J]</td>\n",
       "    </tr>\n",
       "    <tr>\n",
       "      <th>...</th>\n",
       "      <td>...</td>\n",
       "      <td>...</td>\n",
       "      <td>...</td>\n",
       "      <td>...</td>\n",
       "    </tr>\n",
       "    <tr>\n",
       "      <th>157</th>\n",
       "      <td>Output:Meter:Cumulative</td>\n",
       "      <td>General:HeatRecovery:EnergyTransfer</td>\n",
       "      <td>hourly</td>\n",
       "      <td>!- [J]</td>\n",
       "    </tr>\n",
       "    <tr>\n",
       "      <th>158</th>\n",
       "      <td>Output:Meter</td>\n",
       "      <td>Carbon Equivalent:Facility</td>\n",
       "      <td>hourly</td>\n",
       "      <td>!- [kg]</td>\n",
       "    </tr>\n",
       "    <tr>\n",
       "      <th>159</th>\n",
       "      <td>Output:Meter:Cumulative</td>\n",
       "      <td>Carbon Equivalent:Facility</td>\n",
       "      <td>hourly</td>\n",
       "      <td>!- [kg]</td>\n",
       "    </tr>\n",
       "    <tr>\n",
       "      <th>160</th>\n",
       "      <td>Output:Meter</td>\n",
       "      <td>CarbonEquivalentEmissions:Carbon Equivalent</td>\n",
       "      <td>hourly</td>\n",
       "      <td>!- [kg]</td>\n",
       "    </tr>\n",
       "    <tr>\n",
       "      <th>161</th>\n",
       "      <td>Output:Meter:Cumulative</td>\n",
       "      <td>CarbonEquivalentEmissions:Carbon Equivalent</td>\n",
       "      <td>hourly</td>\n",
       "      <td>!- [kg]</td>\n",
       "    </tr>\n",
       "  </tbody>\n",
       "</table>\n",
       "<p>162 rows × 4 columns</p>\n",
       "</div>"
      ],
      "text/plain": [
       "                      object                                   meter_name  \\\n",
       "0               Output:Meter                         Electricity:Facility   \n",
       "1    Output:Meter:Cumulative                         Electricity:Facility   \n",
       "2               Output:Meter                         Electricity:Building   \n",
       "3    Output:Meter:Cumulative                         Electricity:Building   \n",
       "4               Output:Meter                Electricity:Zone:BLOCK1:ZONE2   \n",
       "..                       ...                                          ...   \n",
       "157  Output:Meter:Cumulative          General:HeatRecovery:EnergyTransfer   \n",
       "158             Output:Meter                   Carbon Equivalent:Facility   \n",
       "159  Output:Meter:Cumulative                   Carbon Equivalent:Facility   \n",
       "160             Output:Meter  CarbonEquivalentEmissions:Carbon Equivalent   \n",
       "161  Output:Meter:Cumulative  CarbonEquivalentEmissions:Carbon Equivalent   \n",
       "\n",
       "    frequency     units  \n",
       "0      hourly    !- [J]  \n",
       "1      hourly    !- [J]  \n",
       "2      hourly    !- [J]  \n",
       "3      hourly    !- [J]  \n",
       "4      hourly    !- [J]  \n",
       "..        ...       ...  \n",
       "157    hourly    !- [J]  \n",
       "158    hourly   !- [kg]  \n",
       "159    hourly   !- [kg]  \n",
       "160    hourly   !- [kg]  \n",
       "161    hourly   !- [kg]  \n",
       "\n",
       "[162 rows x 4 columns]"
      ]
     },
     "execution_count": 18,
     "metadata": {},
     "output_type": "execute_result"
    }
   ],
   "source": [
    "df_mdd = get_mdd_file_as_df()\n",
    "df_mdd"
   ]
  },
  {
   "cell_type": "markdown",
   "id": "a84943b5-db09-4f19-95bb-f9583711d0a7",
   "metadata": {},
   "source": [
    "Also, we can parse the .mtd files as a list using the function `parse_mtd_file()`."
   ]
  },
  {
   "cell_type": "code",
   "execution_count": 19,
   "id": "df4da1a7-fcb2-4c59-b790-1bc9e3b128f3",
   "metadata": {},
   "outputs": [
    {
     "data": {
      "text/plain": [
       "[{'meter_id': '14',\n",
       "  'description': 'BLOCK1:ZONE2 GENERAL LIGHTING:Lights Electricity Energy [J]',\n",
       "  'on_meters': ['Electricity:Facility [J]',\n",
       "   'Electricity:Building [J]',\n",
       "   'Electricity:Zone:BLOCK1:ZONE2 [J]',\n",
       "   'Electricity:SpaceType:GENERAL [J]',\n",
       "   'InteriorLights:Electricity [J]',\n",
       "   'InteriorLights:Electricity:Zone:BLOCK1:ZONE2 [J]',\n",
       "   'InteriorLights:Electricity:SpaceType:GENERAL [J]',\n",
       "   'ELECTRIC EQUIPMENT#Block1:Zone2#GeneralLights:InteriorLights:Electricity [J]',\n",
       "   'ELECTRIC EQUIPMENT#Block1:Zone2#GeneralLights:InteriorLights:Electricity:Zone:BLOCK1:ZONE2 [J]',\n",
       "   'ELECTRIC EQUIPMENT#Block1:Zone2#GeneralLights:InteriorLights:Electricity:SpaceType:GENERAL [J]']},\n",
       " {'meter_id': '135',\n",
       "  'description': 'BLOCK1:ZONE1 GENERAL LIGHTING:Lights Electricity Energy [J]',\n",
       "  'on_meters': ['Electricity:Facility [J]',\n",
       "   'Electricity:Building [J]',\n",
       "   'Electricity:Zone:BLOCK1:ZONE1 [J]',\n",
       "   'Electricity:SpaceType:GENERAL [J]',\n",
       "   'InteriorLights:Electricity [J]',\n",
       "   'InteriorLights:Electricity:Zone:BLOCK1:ZONE1 [J]',\n",
       "   'InteriorLights:Electricity:SpaceType:GENERAL [J]',\n",
       "   'ELECTRIC EQUIPMENT#Block1:Zone1#GeneralLights:InteriorLights:Electricity [J]',\n",
       "   'ELECTRIC EQUIPMENT#Block1:Zone1#GeneralLights:InteriorLights:Electricity:Zone:BLOCK1:ZONE1 [J]',\n",
       "   'ELECTRIC EQUIPMENT#Block1:Zone1#GeneralLights:InteriorLights:Electricity:SpaceType:GENERAL [J]']}]"
      ]
     },
     "execution_count": 19,
     "metadata": {},
     "output_type": "execute_result"
    }
   ],
   "source": [
    "mtd_list = parse_mtd_file()\n",
    "mtd_list[0:2]"
   ]
  },
  {
   "cell_type": "markdown",
   "id": "76fa398d-15a0-4504-9f11-468bfd7c094f",
   "metadata": {},
   "source": [
    "Therefore, we have 2 DataFrames, one for the Output:Meter and another for the Output:Variable objects. Next step is setting the outputs for the parametric simulation. To do so, we'll need to pass the DataFrames into the method `set_outputs_for_simulation(df_output_meter, df_output_variable)`. If you have some knowledge about the python package besos, you might think of these dataframes as if each row was a `MeterReader` or `VariableReader` instances respectively for the Output:Meter and Output:Variable dataframes, and the arguments in these were the specified in the columns. The `MeterReader` class takes the arguments `key_name`, `frequency`, `name` and `func`, while `VariableReader` class takes the arguments  `key_value`, `variable_name`, `frequency`, `name` and `func`."
   ]
  },
  {
   "cell_type": "code",
   "execution_count": 20,
   "id": "2b133883-a0be-42a9-bc04-0e6054337b9b",
   "metadata": {},
   "outputs": [
    {
     "data": {
      "text/plain": [
       "['key_name', 'frequency']"
      ]
     },
     "execution_count": 20,
     "metadata": {},
     "output_type": "execute_result"
    }
   ],
   "source": [
    "[i for i in df_output_meters_testsim.columns]"
   ]
  },
  {
   "cell_type": "code",
   "execution_count": 21,
   "id": "c43b0496-1d36-4a0e-b2dc-9f77e41627ff",
   "metadata": {},
   "outputs": [
    {
     "data": {
      "text/plain": [
       "['key_value', 'variable_name', 'frequency']"
      ]
     },
     "execution_count": 21,
     "metadata": {},
     "output_type": "execute_result"
    }
   ],
   "source": [
    "[i for i in df_output_variables_testsim.columns]"
   ]
  },
  {
   "cell_type": "markdown",
   "id": "a03bd526-8bdf-4cce-af62-73ac36e9d0c3",
   "metadata": {},
   "source": [
    "If you take a look at the columns of the dataframes above, you can see the names are the arguments in the `MeterReader` and `VariableReader` classes, and only `name` and `func` are missing. That means, you can add these columns to input the `name` and `func` arguments as desired. In case of the Output:Meter dataframe, we won't add the `name` and `func` columns, which means the name will be the `key_name` and hourly results will be aggregated using the pd.Series.sum() function. However, in case of the Output:Variable dataframe, we will specify these: we want the hourly values rather than the aggregation, therefore we will pass the name bound to the function `return_time_series`, and we will add '_time series' as a suffix to the `variable_name` column. We will also remove the outputs for BLOCK1:ZONE2, which are the rows 2 and 4."
   ]
  },
  {
   "cell_type": "code",
   "execution_count": 22,
   "id": "0e8fecdc-4625-4d95-a87d-67071884963b",
   "metadata": {},
   "outputs": [
    {
     "data": {
      "text/html": [
       "<div>\n",
       "<style scoped>\n",
       "    .dataframe tbody tr th:only-of-type {\n",
       "        vertical-align: middle;\n",
       "    }\n",
       "\n",
       "    .dataframe tbody tr th {\n",
       "        vertical-align: top;\n",
       "    }\n",
       "\n",
       "    .dataframe thead th {\n",
       "        text-align: right;\n",
       "    }\n",
       "</style>\n",
       "<table border=\"1\" class=\"dataframe\">\n",
       "  <thead>\n",
       "    <tr style=\"text-align: right;\">\n",
       "      <th></th>\n",
       "      <th>key_value</th>\n",
       "      <th>variable_name</th>\n",
       "      <th>frequency</th>\n",
       "      <th>func</th>\n",
       "      <th>name</th>\n",
       "    </tr>\n",
       "  </thead>\n",
       "  <tbody>\n",
       "    <tr>\n",
       "      <th>0</th>\n",
       "      <td>EMS</td>\n",
       "      <td>Adaptive Cooling Setpoint Temperature_No Toler...</td>\n",
       "      <td>Hourly</td>\n",
       "      <td>&lt;function return_time_series at 0x00000231D1A4...</td>\n",
       "      <td>Adaptive Cooling Setpoint Temperature_No Toler...</td>\n",
       "    </tr>\n",
       "    <tr>\n",
       "      <th>1</th>\n",
       "      <td>EMS</td>\n",
       "      <td>Adaptive Heating Setpoint Temperature_No Toler...</td>\n",
       "      <td>Hourly</td>\n",
       "      <td>&lt;function return_time_series at 0x00000231D1A4...</td>\n",
       "      <td>Adaptive Heating Setpoint Temperature_No Toler...</td>\n",
       "    </tr>\n",
       "    <tr>\n",
       "      <th>3</th>\n",
       "      <td>BLOCK1:ZONE1</td>\n",
       "      <td>Zone Operative Temperature</td>\n",
       "      <td>Hourly</td>\n",
       "      <td>&lt;function return_time_series at 0x00000231D1A4...</td>\n",
       "      <td>Zone Operative Temperature_time series</td>\n",
       "    </tr>\n",
       "    <tr>\n",
       "      <th>5</th>\n",
       "      <td>PEOPLE BLOCK1:ZONE1</td>\n",
       "      <td>Zone Thermal Comfort ASHRAE 55 Adaptive Model ...</td>\n",
       "      <td>Hourly</td>\n",
       "      <td>&lt;function return_time_series at 0x00000231D1A4...</td>\n",
       "      <td>Zone Thermal Comfort ASHRAE 55 Adaptive Model ...</td>\n",
       "    </tr>\n",
       "  </tbody>\n",
       "</table>\n",
       "</div>"
      ],
      "text/plain": [
       "             key_value                                      variable_name  \\\n",
       "0                  EMS  Adaptive Cooling Setpoint Temperature_No Toler...   \n",
       "1                  EMS  Adaptive Heating Setpoint Temperature_No Toler...   \n",
       "3         BLOCK1:ZONE1                         Zone Operative Temperature   \n",
       "5  PEOPLE BLOCK1:ZONE1  Zone Thermal Comfort ASHRAE 55 Adaptive Model ...   \n",
       "\n",
       "  frequency                                               func  \\\n",
       "0    Hourly  <function return_time_series at 0x00000231D1A4...   \n",
       "1    Hourly  <function return_time_series at 0x00000231D1A4...   \n",
       "3    Hourly  <function return_time_series at 0x00000231D1A4...   \n",
       "5    Hourly  <function return_time_series at 0x00000231D1A4...   \n",
       "\n",
       "                                                name  \n",
       "0  Adaptive Cooling Setpoint Temperature_No Toler...  \n",
       "1  Adaptive Heating Setpoint Temperature_No Toler...  \n",
       "3             Zone Operative Temperature_time series  \n",
       "5  Zone Thermal Comfort ASHRAE 55 Adaptive Model ...  "
      ]
     },
     "execution_count": 22,
     "metadata": {},
     "output_type": "execute_result"
    }
   ],
   "source": [
    "df_output_variables_testsim['func'] = return_time_series\n",
    "df_output_variables_testsim['name'] = df_output_variables_testsim['variable_name'] + '_time series'\n",
    "df_output_variables_testsim = df_output_variables_testsim.drop(index=[2, 4])\n",
    "df_output_variables_testsim"
   ]
  },
  {
   "cell_type": "markdown",
   "id": "cec83d60-60bb-4a48-928f-336500ad45e4",
   "metadata": {},
   "source": [
    "Finally, let's set the outputs for parametric simulation and optimisation:"
   ]
  },
  {
   "cell_type": "code",
   "execution_count": 23,
   "id": "9000c1d4-5d65-405b-a139-3be098103846",
   "metadata": {},
   "outputs": [],
   "source": [
    "parametric.set_outputs_for_simulation(\n",
    "    df_output_meter=df_output_meters_testsim,\n",
    "    df_output_variable=df_output_variables_testsim,\n",
    ")"
   ]
  },
  {
   "cell_type": "markdown",
   "id": "ce76ee7a-3816-4a54-a588-8df3fe0cd6a6",
   "metadata": {},
   "source": [
    "If you want to inspect the `VariableReader` and `MeterReader` objects, you can see the internal variable `sim_outputs`:"
   ]
  },
  {
   "cell_type": "code",
   "execution_count": 24,
   "id": "9f4abcee-ae3a-4c41-a338-2ada4419da15",
   "metadata": {},
   "outputs": [
    {
     "data": {
      "text/plain": [
       "[MeterReader(name='Heating:Electricity', class_name='Output:Meter', frequency='Hourly', func=<function sum_values at 0x00000231D388AAF0>, key_name='Heating:Electricity'),\n",
       " MeterReader(name='Cooling:Electricity', class_name='Output:Meter', frequency='Hourly', func=<function sum_values at 0x00000231D388AAF0>, key_name='Cooling:Electricity'),\n",
       " MeterReader(name='Electricity:HVAC', class_name='Output:Meter', frequency='Hourly', func=<function sum_values at 0x00000231D388AAF0>, key_name='Electricity:HVAC'),\n",
       " VariableReader(name='Adaptive Cooling Setpoint Temperature_No Tolerance_time series', class_name='Output:Variable', frequency='Hourly', func=<function return_time_series at 0x00000231D1A4BC10>, key_value='EMS', variable_name='Adaptive Cooling Setpoint Temperature_No Tolerance'),\n",
       " VariableReader(name='Adaptive Heating Setpoint Temperature_No Tolerance_time series', class_name='Output:Variable', frequency='Hourly', func=<function return_time_series at 0x00000231D1A4BC10>, key_value='EMS', variable_name='Adaptive Heating Setpoint Temperature_No Tolerance'),\n",
       " VariableReader(name='Zone Operative Temperature_time series', class_name='Output:Variable', frequency='Hourly', func=<function return_time_series at 0x00000231D1A4BC10>, key_value='BLOCK1:ZONE1', variable_name='Zone Operative Temperature'),\n",
       " VariableReader(name='Zone Thermal Comfort ASHRAE 55 Adaptive Model Running Average Outdoor Air Temperature_time series', class_name='Output:Variable', frequency='Hourly', func=<function return_time_series at 0x00000231D1A4BC10>, key_value='PEOPLE BLOCK1:ZONE1', variable_name='Zone Thermal Comfort ASHRAE 55 Adaptive Model Running Average Outdoor Air Temperature')]"
      ]
     },
     "execution_count": 24,
     "metadata": {},
     "output_type": "execute_result"
    }
   ],
   "source": [
    "parametric.sim_outputs"
   ]
  },
  {
   "cell_type": "markdown",
   "id": "b5dd98bb-6b1d-4b3c-b762-3c9a0c015f63",
   "metadata": {},
   "source": [
    "## Setting the parameters"
   ]
  },
  {
   "cell_type": "markdown",
   "id": "4804beed-52e5-432a-a999-685c222d668d",
   "metadata": {},
   "source": [
    "At the top of the script, when you instantiated the class `OptimParamSimulation`, you already specified which type of parameters you were going to use. Now, the parameters we're about to set, must match the `parameters_type` argument. At this point, you may not know which parameters you can use, so you can call the method `get_available_parameters()`, which will return a list of available parameters:"
   ]
  },
  {
   "cell_type": "code",
   "execution_count": 25,
   "id": "004029fa-ff72-4f43-a9c3-e004757463e4",
   "metadata": {},
   "outputs": [
    {
     "data": {
      "text/plain": [
       "['CustAST_ACSTaul',\n",
       " 'CustAST_ACSTall',\n",
       " 'CustAST_AHSTaul',\n",
       " 'CustAST_AHSTall',\n",
       " 'CustAST_ASTaul',\n",
       " 'CustAST_ASTall',\n",
       " 'CustAST_m',\n",
       " 'CustAST_n',\n",
       " 'CustAST_ACSToffset',\n",
       " 'CustAST_AHSToffset',\n",
       " 'CustAST_ASToffset']"
      ]
     },
     "execution_count": 25,
     "metadata": {},
     "output_type": "execute_result"
    }
   ],
   "source": [
    "available_parameters = parametric.get_available_parameters()\n",
    "available_parameters"
   ]
  },
  {
   "cell_type": "markdown",
   "id": "612a4d67",
   "metadata": {},
   "source": [
    "If you don't know what are these, please refer to the [documentation](https://accim.readthedocs.io/en/master/4_detailed%20use.html)."
   ]
  },
  {
   "cell_type": "markdown",
   "id": "5d240ace",
   "metadata": {},
   "source": [
    "Tu use the custom model, the following parameters must be defined, either by including them in the parameters to vary, or manually defined:"
   ]
  },
  {
   "cell_type": "code",
   "execution_count": 26,
   "id": "4dd9e89d",
   "metadata": {},
   "outputs": [
    {
     "data": {
      "text/plain": [
       "['CustAST_ACSTaul',\n",
       " 'CustAST_ACSTall',\n",
       " 'CustAST_AHSTaul',\n",
       " 'CustAST_AHSTall',\n",
       " 'CustAST_m',\n",
       " 'CustAST_n',\n",
       " 'CustAST_ACSToffset',\n",
       " 'CustAST_AHSToffset']"
      ]
     },
     "execution_count": 26,
     "metadata": {},
     "output_type": "execute_result"
    }
   ],
   "source": [
    "[i for i in available_parameters if '_AST' not in i]"
   ]
  },
  {
   "cell_type": "markdown",
   "id": "8bef627e",
   "metadata": {},
   "source": [
    "The remaining parameters, which are:"
   ]
  },
  {
   "cell_type": "code",
   "execution_count": 27,
   "id": "8aefe530",
   "metadata": {},
   "outputs": [
    {
     "data": {
      "text/plain": [
       "['CustAST_ASTaul', 'CustAST_ASTall', 'CustAST_ASToffset']"
      ]
     },
     "execution_count": 27,
     "metadata": {},
     "output_type": "execute_result"
    }
   ],
   "source": [
    "[i for i in available_parameters if '_AST' in i]"
   ]
  },
  {
   "cell_type": "markdown",
   "id": "be7ad8b2",
   "metadata": {},
   "source": [
    "are used to set symmetrical comfort thresholds in case of 'CustAST_ASToffset' (i.e. a value of 3 means +3 is used as ACSToffset and -3 as AHSToffset), or in case of 'CustAST_ASTaul' and 'CustAST_ASTall', to set the same value to the applicability upper or lower limit for heating and cooling purposes (i.e. a value of 15 for CustAST_ASTall means 15 is used for CustAST_ACSTaul and CustAST_AHSTaul)"
   ]
  },
  {
   "cell_type": "markdown",
   "id": "45886126-30b8-4e53-b8c0-06135e6a3c38",
   "metadata": {},
   "source": [
    "Using the 'accim custom model' type, the values can be either a list of options or a range of values. Now, let's set the parameters using the method `set_parameters(accis_params_dict, additional_params)`. In this method, we set the parameters related to accim using the argument `accis_params_dict`, which takes a dictionary following the pattern {'parameter name': [1, 2, 3, etc]} in case of list of options, or {'parameter name': (min_value, max_value)} in case of the range of values. We can also add some other parameters not related to accim in the argument `additional_params`, which takes a list of parameters as if these were input straight to the besos EPProblem class."
   ]
  },
  {
   "cell_type": "markdown",
   "id": "72f11957",
   "metadata": {},
   "source": [
    "### Example 1"
   ]
  },
  {
   "cell_type": "markdown",
   "id": "4c40cf7e",
   "metadata": {},
   "source": [
    "An example using ranges, could be:"
   ]
  },
  {
   "cell_type": "code",
   "execution_count": 28,
   "id": "8741dd19",
   "metadata": {},
   "outputs": [
    {
     "name": "stderr",
     "output_type": "stream",
     "text": [
      "c:\\users\\danie\\appdata\\local\\programs\\python\\python39\\lib\\site-packages\\besos\\parameters.py:441: UserWarning: This parameter's descriptor is already named CustAST_m.The name used as an input (CustAST_m) will be discarded.\n",
      "  warnings.warn(\n",
      "c:\\users\\danie\\appdata\\local\\programs\\python\\python39\\lib\\site-packages\\besos\\parameters.py:441: UserWarning: This parameter's descriptor is already named CustAST_n.The name used as an input (CustAST_n) will be discarded.\n",
      "  warnings.warn(\n",
      "c:\\users\\danie\\appdata\\local\\programs\\python\\python39\\lib\\site-packages\\besos\\parameters.py:441: UserWarning: This parameter's descriptor is already named CustAST_ASToffset.The name used as an input (CustAST_ASToffset) will be discarded.\n",
      "  warnings.warn(\n",
      "c:\\users\\danie\\appdata\\local\\programs\\python\\python39\\lib\\site-packages\\besos\\parameters.py:441: UserWarning: This parameter's descriptor is already named CustAST_ASTall.The name used as an input (CustAST_ASTall) will be discarded.\n",
      "  warnings.warn(\n",
      "c:\\users\\danie\\appdata\\local\\programs\\python\\python39\\lib\\site-packages\\besos\\parameters.py:441: UserWarning: This parameter's descriptor is already named CustAST_ASTaul.The name used as an input (CustAST_ASTaul) will be discarded.\n",
      "  warnings.warn(\n"
     ]
    }
   ],
   "source": [
    "accis_parameters = {\n",
    "    'CustAST_m': (0.01, 0.99),\n",
    "    'CustAST_n': (5, 23),\n",
    "    'CustAST_ASToffset': (2, 4),\n",
    "    'CustAST_ASTall': (10, 15),\n",
    "    'CustAST_ASTaul': (30, 35),\n",
    "}\n",
    "parametric.set_parameters(accis_params_dict=accis_parameters)"
   ]
  },
  {
   "cell_type": "markdown",
   "id": "8094968a",
   "metadata": {},
   "source": [
    "In this case, all parameters have been defined. Otherwise, we would be requested to continue with default values or to input them. Let's see Example 2."
   ]
  },
  {
   "cell_type": "markdown",
   "id": "ae684824",
   "metadata": {},
   "source": [
    "### Example 2"
   ]
  },
  {
   "cell_type": "markdown",
   "id": "41850c3a",
   "metadata": {},
   "source": [
    "A different option might be using m, n and ASToffset as parameters, and setting ASTall and ASTaul to some specific value so that these don't vary."
   ]
  },
  {
   "cell_type": "code",
   "execution_count": 29,
   "id": "0d3e6bc3",
   "metadata": {},
   "outputs": [
    {
     "name": "stdout",
     "output_type": "stream",
     "text": [
      "The following parameters are not included in the parameters to be set, and have not been defined yet (i.e. the value is 0): ['ACSTaul', 'ACSTall', 'AHSTaul', 'AHSTall']\n",
      "If you want, default values can be set for these parameters. The default values are:\n",
      "ACSTaul: 33.5\n",
      "ACSTall: 10\n",
      "AHSTaul: 33.5\n",
      "AHSTall: 10\n"
     ]
    },
    {
     "name": "stdin",
     "output_type": "stream",
     "text": [
      "Do you want to continue with default values? [y/n]:  n\n",
      "Enter the value for argument ACSTaul:  35\n",
      "Enter the value for argument ACSTall:  5\n",
      "Enter the value for argument AHSTaul:  35\n",
      "Enter the value for argument AHSTall:  5\n"
     ]
    }
   ],
   "source": [
    "accis_parameters = {\n",
    "    'CustAST_m': (0.01, 0.99),\n",
    "    'CustAST_n': (5, 23),\n",
    "    'CustAST_ASToffset': (2, 4),\n",
    "}\n",
    "parametric.set_parameters(accis_params_dict=accis_parameters)"
   ]
  },
  {
   "cell_type": "markdown",
   "id": "d5ecdd37",
   "metadata": {},
   "source": [
    "Let's take a look at the values that the arguments currently have:"
   ]
  },
  {
   "cell_type": "code",
   "execution_count": 30,
   "id": "c4e8c450",
   "metadata": {},
   "outputs": [
    {
     "data": {
      "text/plain": [
       "{'ACSToffset': 0,\n",
       " 'AHSToffset': 0,\n",
       " 'm': 0,\n",
       " 'n': 0,\n",
       " 'ACSTaul': 35.0,\n",
       " 'ACSTall': 5.0,\n",
       " 'AHSTaul': 35.0,\n",
       " 'AHSTall': 5.0}"
      ]
     },
     "execution_count": 30,
     "metadata": {},
     "output_type": "execute_result"
    }
   ],
   "source": [
    "args = get_accim_args(building)\n",
    "args['CustAST']"
   ]
  },
  {
   "cell_type": "markdown",
   "id": "72f13367",
   "metadata": {},
   "source": [
    "As you can see, 'm', 'n', 'ACSToffset' and 'AHSToffset' have the value 0, because these are the arguments included in the parameters, and their values will vary depending on the sample we specify later, and the values for the applicabiliy upper and lower limits have the values we just input."
   ]
  },
  {
   "cell_type": "markdown",
   "id": "c1c8867d",
   "metadata": {},
   "source": [
    "### Example 3"
   ]
  },
  {
   "cell_type": "markdown",
   "id": "01a19235",
   "metadata": {},
   "source": [
    "Now, let's use a list of options instead of range of values."
   ]
  },
  {
   "cell_type": "code",
   "execution_count": 31,
   "id": "68be9493",
   "metadata": {},
   "outputs": [
    {
     "name": "stdout",
     "output_type": "stream",
     "text": [
      "The following parameters are not included in the parameters to be set, and have not been defined yet (i.e. the value is 0): ['ACSToffset', 'AHSToffset', 'ACSTaul', 'ACSTall', 'AHSTaul', 'AHSTall']\n",
      "If you want, default values can be set for these parameters. The default values are:\n",
      "ACSToffset: 3.5\n",
      "AHSToffset: -3.5\n",
      "ACSTaul: 33.5\n",
      "ACSTall: 10\n",
      "AHSTaul: 33.5\n",
      "AHSTall: 10\n"
     ]
    },
    {
     "name": "stdin",
     "output_type": "stream",
     "text": [
      "Do you want to continue with default values? [y/n]:  y\n"
     ]
    }
   ],
   "source": [
    "accis_parameters = {\n",
    "    'CustAST_m': [0, 0.3, 0.6],\n",
    "    'CustAST_n': [10, 23],\n",
    "}\n",
    "parametric.set_parameters(accis_params_dict=accis_parameters)"
   ]
  },
  {
   "cell_type": "markdown",
   "id": "d9e4243c",
   "metadata": {},
   "source": [
    "Again, let's take a look at the arguments:"
   ]
  },
  {
   "cell_type": "code",
   "execution_count": 32,
   "id": "3e1584dc",
   "metadata": {},
   "outputs": [
    {
     "data": {
      "text/plain": [
       "{'ACSToffset': 3.5,\n",
       " 'AHSToffset': -3.5,\n",
       " 'm': 0,\n",
       " 'n': 0,\n",
       " 'ACSTaul': 33.5,\n",
       " 'ACSTall': 10,\n",
       " 'AHSTaul': 33.5,\n",
       " 'AHSTall': 10}"
      ]
     },
     "execution_count": 32,
     "metadata": {},
     "output_type": "execute_result"
    }
   ],
   "source": [
    "args = get_accim_args(building)\n",
    "args['CustAST']"
   ]
  },
  {
   "cell_type": "markdown",
   "id": "e34b063a",
   "metadata": {},
   "source": [
    "So, let's continue with Example 2, dropping CustAST_ASToffset and using default values for the non-defined arguments:"
   ]
  },
  {
   "cell_type": "code",
   "execution_count": 33,
   "id": "2f31e1ba",
   "metadata": {},
   "outputs": [
    {
     "name": "stdout",
     "output_type": "stream",
     "text": [
      "The following parameters are not included in the parameters to be set, and have not been defined yet (i.e. the value is 0): ['ACSToffset', 'AHSToffset', 'ACSTaul', 'ACSTall', 'AHSTaul', 'AHSTall']\n",
      "If you want, default values can be set for these parameters. The default values are:\n",
      "ACSToffset: 3.5\n",
      "AHSToffset: -3.5\n",
      "ACSTaul: 33.5\n",
      "ACSTall: 10\n",
      "AHSTaul: 33.5\n",
      "AHSTall: 10\n"
     ]
    },
    {
     "name": "stdin",
     "output_type": "stream",
     "text": [
      "Do you want to continue with default values? [y/n]:  y\n"
     ]
    }
   ],
   "source": [
    "accis_parameters = {\n",
    "    'CustAST_m': (0.01, 0.99),\n",
    "    'CustAST_n': (5, 23),\n",
    "}\n",
    "parametric.set_parameters(accis_params_dict=accis_parameters)"
   ]
  },
  {
   "cell_type": "markdown",
   "id": "1fbe5874",
   "metadata": {},
   "source": [
    "You can also modify the value of any argument of accim at any time. Let's see the current values:"
   ]
  },
  {
   "cell_type": "code",
   "execution_count": 34,
   "id": "af5d2e38",
   "metadata": {},
   "outputs": [
    {
     "data": {
      "text/plain": [
       "0"
      ]
     },
     "execution_count": 34,
     "metadata": {},
     "output_type": "execute_result"
    }
   ],
   "source": [
    "args = get_accim_args(building)\n",
    "args['SetInputData']['VentCtrl']"
   ]
  },
  {
   "cell_type": "code",
   "execution_count": 35,
   "id": "4fc72038",
   "metadata": {},
   "outputs": [
    {
     "data": {
      "text/plain": [
       "{'MaxTempDiffVOF': 6, 'MinTempDiffVOF': 1, 'MultiplierVOF': 0.25}"
      ]
     },
     "execution_count": 35,
     "metadata": {},
     "output_type": "execute_result"
    }
   ],
   "source": [
    "args['SetVOFinputData']"
   ]
  },
  {
   "cell_type": "markdown",
   "id": "bf6f38a7",
   "metadata": {},
   "source": [
    "Now, let's modify some of them, to avoid excessive cooling from natural ventilation:"
   ]
  },
  {
   "cell_type": "code",
   "execution_count": 36,
   "id": "485df55b",
   "metadata": {},
   "outputs": [],
   "source": [
    "bf.modify_VentCtrl(building, 2)\n",
    "bf.modify_MaxTempDiffVOF(building, 6)\n",
    "bf.modify_MinTempDiffVOF(building, 1)\n",
    "args_new = accim.utils.get_accim_args(building)"
   ]
  },
  {
   "cell_type": "code",
   "execution_count": 37,
   "id": "facd1059",
   "metadata": {},
   "outputs": [
    {
     "data": {
      "text/plain": [
       "2"
      ]
     },
     "execution_count": 37,
     "metadata": {},
     "output_type": "execute_result"
    }
   ],
   "source": [
    "args_new['SetInputData']['VentCtrl']"
   ]
  },
  {
   "cell_type": "code",
   "execution_count": 38,
   "id": "d1df84a2",
   "metadata": {},
   "outputs": [
    {
     "data": {
      "text/plain": [
       "{'MaxTempDiffVOF': 6, 'MinTempDiffVOF': 1, 'MultiplierVOF': 0.25}"
      ]
     },
     "execution_count": 38,
     "metadata": {},
     "output_type": "execute_result"
    }
   ],
   "source": [
    "args_new['SetVOFinputData']"
   ]
  },
  {
   "cell_type": "markdown",
   "id": "b2e1e8a5-4af9-4d23-82b9-af45b49ba26d",
   "metadata": {},
   "source": [
    "If you want to inspect the `Parameter` objects, you can see the internal variable `parameters_list`:"
   ]
  },
  {
   "cell_type": "code",
   "execution_count": 39,
   "id": "4b72a5b5-417f-410b-b30a-bf6550dbb364",
   "metadata": {},
   "outputs": [
    {
     "data": {
      "text/plain": [
       "[Parameter(selector=GenericSelector(set=<function modify_CustAST_m at 0x00000231D1A4AEE0>), value_descriptors=[RangeParameter(name='CustAST_m', min=0.01, max=0.99)]),\n",
       " Parameter(selector=GenericSelector(set=<function modify_CustAST_n at 0x00000231D1A4AF70>), value_descriptors=[RangeParameter(name='CustAST_n', min=5, max=23)])]"
      ]
     },
     "execution_count": 39,
     "metadata": {},
     "output_type": "execute_result"
    }
   ],
   "source": [
    "parametric.parameters_list"
   ]
  },
  {
   "cell_type": "markdown",
   "id": "16b3b170-683d-49b3-9d6b-4d3772245647",
   "metadata": {},
   "source": [
    "## Running the parametric simulation"
   ]
  },
  {
   "cell_type": "markdown",
   "id": "e36956e3-781b-4fe1-980f-ad9fbca21fba",
   "metadata": {},
   "source": [
    "### Setting the problem"
   ]
  },
  {
   "cell_type": "markdown",
   "id": "60150ec0-8c63-4097-bd4f-c8263dc22d47",
   "metadata": {},
   "source": [
    "First, let's set the problem. To do so, use the `set_problem()` method. In case of the parametric simulation you don't need to input any argument. However, in case of the optimisation, you must input the arguments `minimize_outputs`, `constraints` and `constraint_bounds`, similarly as you would do in the besos `EPProblem` class."
   ]
  },
  {
   "cell_type": "code",
   "execution_count": 40,
   "id": "cd2c3ebc-99ea-46a2-94cf-37b3ddd77630",
   "metadata": {},
   "outputs": [],
   "source": [
    "parametric.set_problem()"
   ]
  },
  {
   "cell_type": "markdown",
   "id": "cc1eac32-9784-441f-98e3-0382053ba14d",
   "metadata": {},
   "source": [
    "Again, you can inspect the `EPProblem` class instance in the internal variable `problem`:"
   ]
  },
  {
   "cell_type": "code",
   "execution_count": 41,
   "id": "a4f80f41-febc-47e0-b610-8c07893a5c20",
   "metadata": {},
   "outputs": [
    {
     "data": {
      "text/plain": [
       "EPProblem(inputs=[Parameter(selector=GenericSelector(set=<function modify_CustAST_m at 0x00000231D1A4AEE0>), value_descriptors=[RangeParameter(name='CustAST_m', min=0.01, max=0.99)]), Parameter(selector=GenericSelector(set=<function modify_CustAST_n at 0x00000231D1A4AF70>), value_descriptors=[RangeParameter(name='CustAST_n', min=5, max=23)])], outputs=[MeterReader(name='Heating:Electricity', class_name='Output:Meter', frequency='Hourly', func=<function sum_values at 0x00000231D388AAF0>, key_name='Heating:Electricity'), MeterReader(name='Cooling:Electricity', class_name='Output:Meter', frequency='Hourly', func=<function sum_values at 0x00000231D388AAF0>, key_name='Cooling:Electricity'), MeterReader(name='Electricity:HVAC', class_name='Output:Meter', frequency='Hourly', func=<function sum_values at 0x00000231D388AAF0>, key_name='Electricity:HVAC'), VariableReader(name='Adaptive Cooling Setpoint Temperature_No Tolerance_time series', class_name='Output:Variable', frequency='Hourly', func=<function return_time_series at 0x00000231D1A4BC10>, key_value='EMS', variable_name='Adaptive Cooling Setpoint Temperature_No Tolerance'), VariableReader(name='Adaptive Heating Setpoint Temperature_No Tolerance_time series', class_name='Output:Variable', frequency='Hourly', func=<function return_time_series at 0x00000231D1A4BC10>, key_value='EMS', variable_name='Adaptive Heating Setpoint Temperature_No Tolerance'), VariableReader(name='Zone Operative Temperature_time series', class_name='Output:Variable', frequency='Hourly', func=<function return_time_series at 0x00000231D1A4BC10>, key_value='BLOCK1:ZONE1', variable_name='Zone Operative Temperature'), VariableReader(name='Zone Thermal Comfort ASHRAE 55 Adaptive Model Running Average Outdoor Air Temperature_time series', class_name='Output:Variable', frequency='Hourly', func=<function return_time_series at 0x00000231D1A4BC10>, key_value='PEOPLE BLOCK1:ZONE1', variable_name='Zone Thermal Comfort ASHRAE 55 Adaptive Model Running Average Outdoor Air Temperature')], minimize_outputs=[True, True, True, True, True, True, True], converters={'outputs': <class 'besos.objectives.MeterReader'>, 'constraints': <class 'besos.objectives.MeterReader'>})"
      ]
     },
     "execution_count": 41,
     "metadata": {},
     "output_type": "execute_result"
    }
   ],
   "source": [
    "parametric.problem"
   ]
  },
  {
   "cell_type": "markdown",
   "id": "901b319a-2ef8-4c7c-9fea-7512b81807f0",
   "metadata": {},
   "source": [
    "### Sampling the simulation runs"
   ]
  },
  {
   "cell_type": "markdown",
   "id": "cecbc846-7227-498a-b0f8-f8795269df25",
   "metadata": {},
   "source": [
    "The way to inform besos of the variations and permutations it must carry out in the parametric analysis is by means of a DataFrame, which must contain a column per `Parameter`, in which values are specified. There are multiple ways to do this DataFrame. For instance, we could make a dataframe from scratch:"
   ]
  },
  {
   "cell_type": "code",
   "execution_count": 42,
   "id": "30f78385-766d-47f2-b394-c922f8403b30",
   "metadata": {},
   "outputs": [
    {
     "data": {
      "text/html": [
       "<div>\n",
       "<style scoped>\n",
       "    .dataframe tbody tr th:only-of-type {\n",
       "        vertical-align: middle;\n",
       "    }\n",
       "\n",
       "    .dataframe tbody tr th {\n",
       "        vertical-align: top;\n",
       "    }\n",
       "\n",
       "    .dataframe thead th {\n",
       "        text-align: right;\n",
       "    }\n",
       "</style>\n",
       "<table border=\"1\" class=\"dataframe\">\n",
       "  <thead>\n",
       "    <tr style=\"text-align: right;\">\n",
       "      <th></th>\n",
       "      <th>CustAST_m</th>\n",
       "      <th>CustAST_n</th>\n",
       "      <th>CustAST_ASToffset</th>\n",
       "      <th>CustAST_ASTall</th>\n",
       "      <th>CustAST_ASTaul</th>\n",
       "    </tr>\n",
       "  </thead>\n",
       "  <tbody>\n",
       "    <tr>\n",
       "      <th>0</th>\n",
       "      <td>0.1</td>\n",
       "      <td>22</td>\n",
       "      <td>2.5</td>\n",
       "      <td>10</td>\n",
       "      <td>35</td>\n",
       "    </tr>\n",
       "    <tr>\n",
       "      <th>1</th>\n",
       "      <td>0.6</td>\n",
       "      <td>8</td>\n",
       "      <td>4.0</td>\n",
       "      <td>10</td>\n",
       "      <td>35</td>\n",
       "    </tr>\n",
       "  </tbody>\n",
       "</table>\n",
       "</div>"
      ],
      "text/plain": [
       "   CustAST_m  CustAST_n  CustAST_ASToffset  CustAST_ASTall  CustAST_ASTaul\n",
       "0        0.1         22                2.5              10              35\n",
       "1        0.6          8                4.0              10              35"
      ]
     },
     "execution_count": 42,
     "metadata": {},
     "output_type": "execute_result"
    }
   ],
   "source": [
    "import pandas as pd\n",
    "param_dict = {\n",
    "    'CustAST_m': [0.1, 0.6], \n",
    "    'CustAST_n': [22, 8], \n",
    "    'CustAST_ASToffset': [2.5, 4],\n",
    "    'CustAST_ASTall': [10, 10],\n",
    "    'CustAST_ASTaul': [35, 35],\n",
    "}\n",
    "input_param_df = pd.DataFrame(data=param_dict)\n",
    "input_param_df"
   ]
  },
  {
   "cell_type": "markdown",
   "id": "242f6e72-de2e-4fa7-8265-f9d154e198f9",
   "metadata": {},
   "source": [
    "We could input that df, which would result in 2 simulations. But now, imagine we want to make all possible combinations from the values we just did from scratch. We could use the function `make_all_combinations(parameters_values_dict)`. The argument `parameters_values_dict` must be a dictionary in the format {'parameter name': list_of_values}, such as the previouly defined param_dict, so let's input it. Let's see the possibilities:"
   ]
  },
  {
   "cell_type": "code",
   "execution_count": 43,
   "id": "0f6fcf93-64d2-4a8f-9740-0e329c1dccfd",
   "metadata": {},
   "outputs": [
    {
     "data": {
      "text/html": [
       "<div>\n",
       "<style scoped>\n",
       "    .dataframe tbody tr th:only-of-type {\n",
       "        vertical-align: middle;\n",
       "    }\n",
       "\n",
       "    .dataframe tbody tr th {\n",
       "        vertical-align: top;\n",
       "    }\n",
       "\n",
       "    .dataframe thead th {\n",
       "        text-align: right;\n",
       "    }\n",
       "</style>\n",
       "<table border=\"1\" class=\"dataframe\">\n",
       "  <thead>\n",
       "    <tr style=\"text-align: right;\">\n",
       "      <th></th>\n",
       "      <th>CustAST_m</th>\n",
       "      <th>CustAST_n</th>\n",
       "      <th>CustAST_ASToffset</th>\n",
       "      <th>CustAST_ASTall</th>\n",
       "      <th>CustAST_ASTaul</th>\n",
       "    </tr>\n",
       "  </thead>\n",
       "  <tbody>\n",
       "    <tr>\n",
       "      <th>0</th>\n",
       "      <td>0.1</td>\n",
       "      <td>22</td>\n",
       "      <td>2.5</td>\n",
       "      <td>10</td>\n",
       "      <td>35</td>\n",
       "    </tr>\n",
       "    <tr>\n",
       "      <th>1</th>\n",
       "      <td>0.1</td>\n",
       "      <td>22</td>\n",
       "      <td>2.5</td>\n",
       "      <td>10</td>\n",
       "      <td>35</td>\n",
       "    </tr>\n",
       "    <tr>\n",
       "      <th>2</th>\n",
       "      <td>0.1</td>\n",
       "      <td>22</td>\n",
       "      <td>2.5</td>\n",
       "      <td>10</td>\n",
       "      <td>35</td>\n",
       "    </tr>\n",
       "    <tr>\n",
       "      <th>3</th>\n",
       "      <td>0.1</td>\n",
       "      <td>22</td>\n",
       "      <td>2.5</td>\n",
       "      <td>10</td>\n",
       "      <td>35</td>\n",
       "    </tr>\n",
       "    <tr>\n",
       "      <th>4</th>\n",
       "      <td>0.1</td>\n",
       "      <td>22</td>\n",
       "      <td>4.0</td>\n",
       "      <td>10</td>\n",
       "      <td>35</td>\n",
       "    </tr>\n",
       "    <tr>\n",
       "      <th>5</th>\n",
       "      <td>0.1</td>\n",
       "      <td>22</td>\n",
       "      <td>4.0</td>\n",
       "      <td>10</td>\n",
       "      <td>35</td>\n",
       "    </tr>\n",
       "    <tr>\n",
       "      <th>6</th>\n",
       "      <td>0.1</td>\n",
       "      <td>22</td>\n",
       "      <td>4.0</td>\n",
       "      <td>10</td>\n",
       "      <td>35</td>\n",
       "    </tr>\n",
       "    <tr>\n",
       "      <th>7</th>\n",
       "      <td>0.1</td>\n",
       "      <td>22</td>\n",
       "      <td>4.0</td>\n",
       "      <td>10</td>\n",
       "      <td>35</td>\n",
       "    </tr>\n",
       "    <tr>\n",
       "      <th>8</th>\n",
       "      <td>0.1</td>\n",
       "      <td>8</td>\n",
       "      <td>2.5</td>\n",
       "      <td>10</td>\n",
       "      <td>35</td>\n",
       "    </tr>\n",
       "    <tr>\n",
       "      <th>9</th>\n",
       "      <td>0.1</td>\n",
       "      <td>8</td>\n",
       "      <td>2.5</td>\n",
       "      <td>10</td>\n",
       "      <td>35</td>\n",
       "    </tr>\n",
       "    <tr>\n",
       "      <th>10</th>\n",
       "      <td>0.1</td>\n",
       "      <td>8</td>\n",
       "      <td>2.5</td>\n",
       "      <td>10</td>\n",
       "      <td>35</td>\n",
       "    </tr>\n",
       "    <tr>\n",
       "      <th>11</th>\n",
       "      <td>0.1</td>\n",
       "      <td>8</td>\n",
       "      <td>2.5</td>\n",
       "      <td>10</td>\n",
       "      <td>35</td>\n",
       "    </tr>\n",
       "    <tr>\n",
       "      <th>12</th>\n",
       "      <td>0.1</td>\n",
       "      <td>8</td>\n",
       "      <td>4.0</td>\n",
       "      <td>10</td>\n",
       "      <td>35</td>\n",
       "    </tr>\n",
       "    <tr>\n",
       "      <th>13</th>\n",
       "      <td>0.1</td>\n",
       "      <td>8</td>\n",
       "      <td>4.0</td>\n",
       "      <td>10</td>\n",
       "      <td>35</td>\n",
       "    </tr>\n",
       "    <tr>\n",
       "      <th>14</th>\n",
       "      <td>0.1</td>\n",
       "      <td>8</td>\n",
       "      <td>4.0</td>\n",
       "      <td>10</td>\n",
       "      <td>35</td>\n",
       "    </tr>\n",
       "    <tr>\n",
       "      <th>15</th>\n",
       "      <td>0.1</td>\n",
       "      <td>8</td>\n",
       "      <td>4.0</td>\n",
       "      <td>10</td>\n",
       "      <td>35</td>\n",
       "    </tr>\n",
       "    <tr>\n",
       "      <th>16</th>\n",
       "      <td>0.6</td>\n",
       "      <td>22</td>\n",
       "      <td>2.5</td>\n",
       "      <td>10</td>\n",
       "      <td>35</td>\n",
       "    </tr>\n",
       "    <tr>\n",
       "      <th>17</th>\n",
       "      <td>0.6</td>\n",
       "      <td>22</td>\n",
       "      <td>2.5</td>\n",
       "      <td>10</td>\n",
       "      <td>35</td>\n",
       "    </tr>\n",
       "    <tr>\n",
       "      <th>18</th>\n",
       "      <td>0.6</td>\n",
       "      <td>22</td>\n",
       "      <td>2.5</td>\n",
       "      <td>10</td>\n",
       "      <td>35</td>\n",
       "    </tr>\n",
       "    <tr>\n",
       "      <th>19</th>\n",
       "      <td>0.6</td>\n",
       "      <td>22</td>\n",
       "      <td>2.5</td>\n",
       "      <td>10</td>\n",
       "      <td>35</td>\n",
       "    </tr>\n",
       "    <tr>\n",
       "      <th>20</th>\n",
       "      <td>0.6</td>\n",
       "      <td>22</td>\n",
       "      <td>4.0</td>\n",
       "      <td>10</td>\n",
       "      <td>35</td>\n",
       "    </tr>\n",
       "    <tr>\n",
       "      <th>21</th>\n",
       "      <td>0.6</td>\n",
       "      <td>22</td>\n",
       "      <td>4.0</td>\n",
       "      <td>10</td>\n",
       "      <td>35</td>\n",
       "    </tr>\n",
       "    <tr>\n",
       "      <th>22</th>\n",
       "      <td>0.6</td>\n",
       "      <td>22</td>\n",
       "      <td>4.0</td>\n",
       "      <td>10</td>\n",
       "      <td>35</td>\n",
       "    </tr>\n",
       "    <tr>\n",
       "      <th>23</th>\n",
       "      <td>0.6</td>\n",
       "      <td>22</td>\n",
       "      <td>4.0</td>\n",
       "      <td>10</td>\n",
       "      <td>35</td>\n",
       "    </tr>\n",
       "    <tr>\n",
       "      <th>24</th>\n",
       "      <td>0.6</td>\n",
       "      <td>8</td>\n",
       "      <td>2.5</td>\n",
       "      <td>10</td>\n",
       "      <td>35</td>\n",
       "    </tr>\n",
       "    <tr>\n",
       "      <th>25</th>\n",
       "      <td>0.6</td>\n",
       "      <td>8</td>\n",
       "      <td>2.5</td>\n",
       "      <td>10</td>\n",
       "      <td>35</td>\n",
       "    </tr>\n",
       "    <tr>\n",
       "      <th>26</th>\n",
       "      <td>0.6</td>\n",
       "      <td>8</td>\n",
       "      <td>2.5</td>\n",
       "      <td>10</td>\n",
       "      <td>35</td>\n",
       "    </tr>\n",
       "    <tr>\n",
       "      <th>27</th>\n",
       "      <td>0.6</td>\n",
       "      <td>8</td>\n",
       "      <td>2.5</td>\n",
       "      <td>10</td>\n",
       "      <td>35</td>\n",
       "    </tr>\n",
       "    <tr>\n",
       "      <th>28</th>\n",
       "      <td>0.6</td>\n",
       "      <td>8</td>\n",
       "      <td>4.0</td>\n",
       "      <td>10</td>\n",
       "      <td>35</td>\n",
       "    </tr>\n",
       "    <tr>\n",
       "      <th>29</th>\n",
       "      <td>0.6</td>\n",
       "      <td>8</td>\n",
       "      <td>4.0</td>\n",
       "      <td>10</td>\n",
       "      <td>35</td>\n",
       "    </tr>\n",
       "    <tr>\n",
       "      <th>30</th>\n",
       "      <td>0.6</td>\n",
       "      <td>8</td>\n",
       "      <td>4.0</td>\n",
       "      <td>10</td>\n",
       "      <td>35</td>\n",
       "    </tr>\n",
       "    <tr>\n",
       "      <th>31</th>\n",
       "      <td>0.6</td>\n",
       "      <td>8</td>\n",
       "      <td>4.0</td>\n",
       "      <td>10</td>\n",
       "      <td>35</td>\n",
       "    </tr>\n",
       "  </tbody>\n",
       "</table>\n",
       "</div>"
      ],
      "text/plain": [
       "    CustAST_m  CustAST_n  CustAST_ASToffset  CustAST_ASTall  CustAST_ASTaul\n",
       "0         0.1         22                2.5              10              35\n",
       "1         0.1         22                2.5              10              35\n",
       "2         0.1         22                2.5              10              35\n",
       "3         0.1         22                2.5              10              35\n",
       "4         0.1         22                4.0              10              35\n",
       "5         0.1         22                4.0              10              35\n",
       "6         0.1         22                4.0              10              35\n",
       "7         0.1         22                4.0              10              35\n",
       "8         0.1          8                2.5              10              35\n",
       "9         0.1          8                2.5              10              35\n",
       "10        0.1          8                2.5              10              35\n",
       "11        0.1          8                2.5              10              35\n",
       "12        0.1          8                4.0              10              35\n",
       "13        0.1          8                4.0              10              35\n",
       "14        0.1          8                4.0              10              35\n",
       "15        0.1          8                4.0              10              35\n",
       "16        0.6         22                2.5              10              35\n",
       "17        0.6         22                2.5              10              35\n",
       "18        0.6         22                2.5              10              35\n",
       "19        0.6         22                2.5              10              35\n",
       "20        0.6         22                4.0              10              35\n",
       "21        0.6         22                4.0              10              35\n",
       "22        0.6         22                4.0              10              35\n",
       "23        0.6         22                4.0              10              35\n",
       "24        0.6          8                2.5              10              35\n",
       "25        0.6          8                2.5              10              35\n",
       "26        0.6          8                2.5              10              35\n",
       "27        0.6          8                2.5              10              35\n",
       "28        0.6          8                4.0              10              35\n",
       "29        0.6          8                4.0              10              35\n",
       "30        0.6          8                4.0              10              35\n",
       "31        0.6          8                4.0              10              35"
      ]
     },
     "execution_count": 43,
     "metadata": {},
     "output_type": "execute_result"
    }
   ],
   "source": [
    "all_combinations = make_all_combinations(param_dict)\n",
    "all_combinations"
   ]
  },
  {
   "cell_type": "markdown",
   "id": "9a525ce0-8b59-48ca-a160-59ff4781a8bb",
   "metadata": {},
   "source": [
    "Also, we can use the sampling functions from besos (`full_factorial` and `lhs`), which have been wrapped in the methods `sampling_full_factorial(level)` and `sampling_lhs(num_samples)`. After calling these, the samples are saved in the internal variable `parameters_values_df`. Let's see some examples:"
   ]
  },
  {
   "cell_type": "code",
   "execution_count": 44,
   "id": "28d1b8c4-33bb-4f00-a8b3-6e6b34f5b71c",
   "metadata": {},
   "outputs": [
    {
     "data": {
      "text/html": [
       "<div>\n",
       "<style scoped>\n",
       "    .dataframe tbody tr th:only-of-type {\n",
       "        vertical-align: middle;\n",
       "    }\n",
       "\n",
       "    .dataframe tbody tr th {\n",
       "        vertical-align: top;\n",
       "    }\n",
       "\n",
       "    .dataframe thead th {\n",
       "        text-align: right;\n",
       "    }\n",
       "</style>\n",
       "<table border=\"1\" class=\"dataframe\">\n",
       "  <thead>\n",
       "    <tr style=\"text-align: right;\">\n",
       "      <th></th>\n",
       "      <th>CustAST_m</th>\n",
       "      <th>CustAST_n</th>\n",
       "    </tr>\n",
       "  </thead>\n",
       "  <tbody>\n",
       "    <tr>\n",
       "      <th>0</th>\n",
       "      <td>0.348387</td>\n",
       "      <td>16.914628</td>\n",
       "    </tr>\n",
       "    <tr>\n",
       "      <th>1</th>\n",
       "      <td>0.719444</td>\n",
       "      <td>19.460256</td>\n",
       "    </tr>\n",
       "    <tr>\n",
       "      <th>2</th>\n",
       "      <td>0.185774</td>\n",
       "      <td>7.756691</td>\n",
       "    </tr>\n",
       "  </tbody>\n",
       "</table>\n",
       "</div>"
      ],
      "text/plain": [
       "   CustAST_m  CustAST_n\n",
       "0   0.348387  16.914628\n",
       "1   0.719444  19.460256\n",
       "2   0.185774   7.756691"
      ]
     },
     "execution_count": 44,
     "metadata": {},
     "output_type": "execute_result"
    }
   ],
   "source": [
    "parametric.sampling_lhs(num_samples=3)\n",
    "parametric.parameters_values_df"
   ]
  },
  {
   "cell_type": "code",
   "execution_count": 45,
   "id": "e617c6d0-bf66-40e7-a9f2-caa9cead6dff",
   "metadata": {},
   "outputs": [
    {
     "data": {
      "text/html": [
       "<div>\n",
       "<style scoped>\n",
       "    .dataframe tbody tr th:only-of-type {\n",
       "        vertical-align: middle;\n",
       "    }\n",
       "\n",
       "    .dataframe tbody tr th {\n",
       "        vertical-align: top;\n",
       "    }\n",
       "\n",
       "    .dataframe thead th {\n",
       "        text-align: right;\n",
       "    }\n",
       "</style>\n",
       "<table border=\"1\" class=\"dataframe\">\n",
       "  <thead>\n",
       "    <tr style=\"text-align: right;\">\n",
       "      <th></th>\n",
       "      <th>CustAST_m</th>\n",
       "      <th>CustAST_n</th>\n",
       "    </tr>\n",
       "  </thead>\n",
       "  <tbody>\n",
       "    <tr>\n",
       "      <th>0</th>\n",
       "      <td>0.010000</td>\n",
       "      <td>5.0</td>\n",
       "    </tr>\n",
       "    <tr>\n",
       "      <th>1</th>\n",
       "      <td>0.336667</td>\n",
       "      <td>5.0</td>\n",
       "    </tr>\n",
       "    <tr>\n",
       "      <th>2</th>\n",
       "      <td>0.663333</td>\n",
       "      <td>5.0</td>\n",
       "    </tr>\n",
       "    <tr>\n",
       "      <th>3</th>\n",
       "      <td>0.010000</td>\n",
       "      <td>11.0</td>\n",
       "    </tr>\n",
       "    <tr>\n",
       "      <th>4</th>\n",
       "      <td>0.336667</td>\n",
       "      <td>11.0</td>\n",
       "    </tr>\n",
       "    <tr>\n",
       "      <th>5</th>\n",
       "      <td>0.663333</td>\n",
       "      <td>11.0</td>\n",
       "    </tr>\n",
       "    <tr>\n",
       "      <th>6</th>\n",
       "      <td>0.010000</td>\n",
       "      <td>17.0</td>\n",
       "    </tr>\n",
       "    <tr>\n",
       "      <th>7</th>\n",
       "      <td>0.336667</td>\n",
       "      <td>17.0</td>\n",
       "    </tr>\n",
       "    <tr>\n",
       "      <th>8</th>\n",
       "      <td>0.663333</td>\n",
       "      <td>17.0</td>\n",
       "    </tr>\n",
       "  </tbody>\n",
       "</table>\n",
       "</div>"
      ],
      "text/plain": [
       "   CustAST_m  CustAST_n\n",
       "0   0.010000        5.0\n",
       "1   0.336667        5.0\n",
       "2   0.663333        5.0\n",
       "3   0.010000       11.0\n",
       "4   0.336667       11.0\n",
       "5   0.663333       11.0\n",
       "6   0.010000       17.0\n",
       "7   0.336667       17.0\n",
       "8   0.663333       17.0"
      ]
     },
     "execution_count": 45,
     "metadata": {},
     "output_type": "execute_result"
    }
   ],
   "source": [
    "parametric.sampling_full_factorial(level=3)\n",
    "parametric.parameters_values_df"
   ]
  },
  {
   "cell_type": "markdown",
   "id": "c0c976c6-eed1-4727-a274-975585466130",
   "metadata": {},
   "source": [
    "### Running the simulations"
   ]
  },
  {
   "cell_type": "markdown",
   "id": "302f66b3-55ba-468b-91bb-d0c7a53f4387",
   "metadata": {},
   "source": [
    "Now, we're ready to run the simulations, by means of the `run_parametric_simulation(epws, out_dir, df, processes)` method. After calling the method, the outputs (a DataFrame) is saved in the internal variable `outputs_param_simulation`. It is based on the use of the `EvaluatorEP` class, `df_apply` method. We want to run the parametric simulations with both Sydney and Seville climate files, therefore the filenames are input in a list in the `epws` argument. The simulation outputs will be saved in a directory named 'notebook_temp_dir'. The values for the parameters will be driven by the internal variable `parameters_values_df`, as input in the `df` argument."
   ]
  },
  {
   "cell_type": "code",
   "execution_count": 46,
   "id": "5e5a19ab-d2a3-44ac-9d2d-01672ac8db08",
   "metadata": {},
   "outputs": [
    {
     "name": "stdout",
     "output_type": "stream",
     "text": [
      "Running EnergyPlus with stdout output suppressed...\n",
      "Running EnergyPlus with stdout output suppressed...\n",
      "Running EnergyPlus with stdout output suppressed...\n",
      "Running EnergyPlus with stdout output suppressed...\n",
      "Running EnergyPlus with stdout output suppressed...\n",
      "Running EnergyPlus with stdout output suppressed...\n",
      "Running EnergyPlus with stdout output suppressed...\n",
      "Running EnergyPlus with stdout output suppressed...\n",
      "Running EnergyPlus with stdout output suppressed...\n",
      "Running EnergyPlus with stdout output suppressed...\n",
      "Running EnergyPlus with stdout output suppressed...\n",
      "Running EnergyPlus with stdout output suppressed...\n",
      "Running EnergyPlus with stdout output suppressed...\n",
      "Running EnergyPlus with stdout output suppressed...\n",
      "Running EnergyPlus with stdout output suppressed...\n",
      "Running EnergyPlus with stdout output suppressed...\n",
      "Running EnergyPlus with stdout output suppressed...\n",
      "Running EnergyPlus with stdout output suppressed...\n"
     ]
    }
   ],
   "source": [
    "parametric.run_parametric_simulation(\n",
    "    epws=['Sydney.epw', 'Seville.epw'],\n",
    "    out_dir='notebook_temp_dir',\n",
    "    df=parametric.parameters_values_df,\n",
    "    processes=4, # The number of CPUs to be used. Default is 2.\n",
    "    #keep_input=True, # To keep the input values of parameters, as entered in df argument. Default is True.\n",
    "    #keep_dirs=True # To keep the simulation outputs. Default is True.\n",
    ")"
   ]
  },
  {
   "cell_type": "markdown",
   "id": "8f768acb-e813-4d4d-91d7-7b96a98ecaad",
   "metadata": {},
   "source": [
    "Let's take a look at the simulation results"
   ]
  },
  {
   "cell_type": "code",
   "execution_count": 47,
   "id": "9461f205-acd1-4532-b691-9dd7d9778873",
   "metadata": {},
   "outputs": [
    {
     "data": {
      "text/html": [
       "<div>\n",
       "<style scoped>\n",
       "    .dataframe tbody tr th:only-of-type {\n",
       "        vertical-align: middle;\n",
       "    }\n",
       "\n",
       "    .dataframe tbody tr th {\n",
       "        vertical-align: top;\n",
       "    }\n",
       "\n",
       "    .dataframe thead th {\n",
       "        text-align: right;\n",
       "    }\n",
       "</style>\n",
       "<table border=\"1\" class=\"dataframe\">\n",
       "  <thead>\n",
       "    <tr style=\"text-align: right;\">\n",
       "      <th></th>\n",
       "      <th>index</th>\n",
       "      <th>CustAST_m</th>\n",
       "      <th>CustAST_n</th>\n",
       "      <th>Heating:Electricity</th>\n",
       "      <th>Cooling:Electricity</th>\n",
       "      <th>Electricity:HVAC</th>\n",
       "      <th>Adaptive Cooling Setpoint Temperature_No Tolerance_time series</th>\n",
       "      <th>Adaptive Heating Setpoint Temperature_No Tolerance_time series</th>\n",
       "      <th>Zone Operative Temperature_time series</th>\n",
       "      <th>Zone Thermal Comfort ASHRAE 55 Adaptive Model Running Average Outdoor Air Temperature_time series</th>\n",
       "      <th>output_dir</th>\n",
       "      <th>epw</th>\n",
       "    </tr>\n",
       "  </thead>\n",
       "  <tbody>\n",
       "    <tr>\n",
       "      <th>0</th>\n",
       "      <td>0</td>\n",
       "      <td>0.010000</td>\n",
       "      <td>5.0</td>\n",
       "      <td>0.000000e+00</td>\n",
       "      <td>2.060976e+11</td>\n",
       "      <td>3.059238e+11</td>\n",
       "      <td>[8.694380787037039, 8.713256944444446, 8.71325...</td>\n",
       "      <td>[1.694380787037037, 1.713256944444445, 1.71325...</td>\n",
       "      <td>[8.177341849817743, 8.286237630418709, 8.35150...</td>\n",
       "      <td>[21.325694444444437, 21.325694444444437, 21.32...</td>\n",
       "      <td>notebook_temp_dir\\BESOS_Output\\WS0VVYZCIE7TQBU...</td>\n",
       "      <td>Sydney</td>\n",
       "    </tr>\n",
       "    <tr>\n",
       "      <th>1</th>\n",
       "      <td>1</td>\n",
       "      <td>0.336667</td>\n",
       "      <td>5.0</td>\n",
       "      <td>0.000000e+00</td>\n",
       "      <td>8.817778e+10</td>\n",
       "      <td>9.803066e+10</td>\n",
       "      <td>[15.044153163580248, 15.679650462962963, 15.67...</td>\n",
       "      <td>[8.044153163580246, 8.679650462962961, 8.67965...</td>\n",
       "      <td>[12.774468325894551, 14.5040259954091, 15.2543...</td>\n",
       "      <td>[21.325694444444437, 21.325694444444437, 21.32...</td>\n",
       "      <td>notebook_temp_dir\\BESOS_Output\\X5J98E7OLPB0PAM...</td>\n",
       "      <td>Sydney</td>\n",
       "    </tr>\n",
       "    <tr>\n",
       "      <th>2</th>\n",
       "      <td>2</td>\n",
       "      <td>0.663333</td>\n",
       "      <td>5.0</td>\n",
       "      <td>2.561035e+06</td>\n",
       "      <td>6.903376e+10</td>\n",
       "      <td>7.822000e+10</td>\n",
       "      <td>[21.39392554012345, 22.64604398148148, 22.6460...</td>\n",
       "      <td>[14.393925540123453, 15.646043981481478, 15.64...</td>\n",
       "      <td>[16.08462197282536, 17.432071717615084, 18.022...</td>\n",
       "      <td>[21.325694444444437, 21.325694444444437, 21.32...</td>\n",
       "      <td>notebook_temp_dir\\BESOS_Output\\ZBI25I6JNRXN7D6...</td>\n",
       "      <td>Sydney</td>\n",
       "    </tr>\n",
       "    <tr>\n",
       "      <th>3</th>\n",
       "      <td>3</td>\n",
       "      <td>0.010000</td>\n",
       "      <td>11.0</td>\n",
       "      <td>0.000000e+00</td>\n",
       "      <td>8.519490e+10</td>\n",
       "      <td>9.448870e+10</td>\n",
       "      <td>[14.694380787037035, 14.713256944444444, 14.71...</td>\n",
       "      <td>[7.694380787037037, 7.713256944444445, 7.71325...</td>\n",
       "      <td>[14.419266965362217, 14.462833642144004, 14.46...</td>\n",
       "      <td>[21.325694444444437, 21.325694444444437, 21.32...</td>\n",
       "      <td>notebook_temp_dir\\BESOS_Output\\T7NKZUHW1A7DECJ...</td>\n",
       "      <td>Sydney</td>\n",
       "    </tr>\n",
       "    <tr>\n",
       "      <th>4</th>\n",
       "      <td>4</td>\n",
       "      <td>0.336667</td>\n",
       "      <td>11.0</td>\n",
       "      <td>3.619415e+05</td>\n",
       "      <td>6.432065e+10</td>\n",
       "      <td>7.293496e+10</td>\n",
       "      <td>[21.044153163580248, 21.679650462962964, 21.67...</td>\n",
       "      <td>[14.044153163580248, 14.679650462962963, 14.67...</td>\n",
       "      <td>[18.42755038319289, 19.654137813894746, 20.173...</td>\n",
       "      <td>[21.325694444444437, 21.325694444444437, 21.32...</td>\n",
       "      <td>notebook_temp_dir\\BESOS_Output\\2WSRVW0X2J7R2CT...</td>\n",
       "      <td>Sydney</td>\n",
       "    </tr>\n",
       "    <tr>\n",
       "      <th>5</th>\n",
       "      <td>5</td>\n",
       "      <td>0.663333</td>\n",
       "      <td>11.0</td>\n",
       "      <td>6.279531e+08</td>\n",
       "      <td>1.597634e+10</td>\n",
       "      <td>2.452479e+10</td>\n",
       "      <td>[27.39392554012346, 28.64604398148148, 28.6460...</td>\n",
       "      <td>[20.39392554012345, 21.64604398148148, 21.6460...</td>\n",
       "      <td>[21.873727673467574, 22.588662530170456, 22.89...</td>\n",
       "      <td>[21.325694444444437, 21.325694444444437, 21.32...</td>\n",
       "      <td>notebook_temp_dir\\BESOS_Output\\HY28KG2INBAPD8C...</td>\n",
       "      <td>Sydney</td>\n",
       "    </tr>\n",
       "    <tr>\n",
       "      <th>6</th>\n",
       "      <td>6</td>\n",
       "      <td>0.010000</td>\n",
       "      <td>17.0</td>\n",
       "      <td>7.946899e+07</td>\n",
       "      <td>5.677144e+10</td>\n",
       "      <td>6.488563e+10</td>\n",
       "      <td>[20.694380787037037, 20.71325694444445, 20.713...</td>\n",
       "      <td>[13.694380787037039, 13.713256944444447, 13.71...</td>\n",
       "      <td>[20.418305329771588, 20.461422083993025, 20.46...</td>\n",
       "      <td>[21.325694444444437, 21.325694444444437, 21.32...</td>\n",
       "      <td>notebook_temp_dir\\BESOS_Output\\WWIEUDBMRL2CFX6...</td>\n",
       "      <td>Sydney</td>\n",
       "    </tr>\n",
       "    <tr>\n",
       "      <th>7</th>\n",
       "      <td>7</td>\n",
       "      <td>0.336667</td>\n",
       "      <td>17.0</td>\n",
       "      <td>5.834273e+08</td>\n",
       "      <td>1.952083e+10</td>\n",
       "      <td>2.743247e+10</td>\n",
       "      <td>[27.044153163580248, 27.679650462962964, 27.67...</td>\n",
       "      <td>[20.044153163580248, 20.679650462962964, 20.67...</td>\n",
       "      <td>[23.594357459485664, 23.63552449639722, 23.619...</td>\n",
       "      <td>[21.325694444444437, 21.325694444444437, 21.32...</td>\n",
       "      <td>notebook_temp_dir\\BESOS_Output\\D06KMPFQO0V76LM...</td>\n",
       "      <td>Sydney</td>\n",
       "    </tr>\n",
       "    <tr>\n",
       "      <th>8</th>\n",
       "      <td>8</td>\n",
       "      <td>0.663333</td>\n",
       "      <td>17.0</td>\n",
       "      <td>6.850757e+08</td>\n",
       "      <td>1.271731e+10</td>\n",
       "      <td>2.000838e+10</td>\n",
       "      <td>[33.393925540123455, 34.646043981481476, 34.64...</td>\n",
       "      <td>[26.39392554012346, 27.64604398148148, 27.6460...</td>\n",
       "      <td>[27.693804721906293, 27.90619817890816, 27.899...</td>\n",
       "      <td>[21.325694444444437, 21.325694444444437, 21.32...</td>\n",
       "      <td>notebook_temp_dir\\BESOS_Output\\Q10QQGM079TJZK7...</td>\n",
       "      <td>Sydney</td>\n",
       "    </tr>\n",
       "    <tr>\n",
       "      <th>9</th>\n",
       "      <td>0</td>\n",
       "      <td>0.010000</td>\n",
       "      <td>5.0</td>\n",
       "      <td>0.000000e+00</td>\n",
       "      <td>2.228484e+11</td>\n",
       "      <td>3.229377e+11</td>\n",
       "      <td>[8.612422453703703, 8.614906944444444, 8.61490...</td>\n",
       "      <td>[1.6124224537037037, 1.614906944444445, 1.6149...</td>\n",
       "      <td>[8.125640498943138, 8.248713457347082, 8.33010...</td>\n",
       "      <td>[11.490694444444445, 11.490694444444445, 11.49...</td>\n",
       "      <td>notebook_temp_dir\\BESOS_Output\\CE32NI3RCJASTW4...</td>\n",
       "      <td>Seville</td>\n",
       "    </tr>\n",
       "    <tr>\n",
       "      <th>10</th>\n",
       "      <td>1</td>\n",
       "      <td>0.336667</td>\n",
       "      <td>5.0</td>\n",
       "      <td>0.000000e+00</td>\n",
       "      <td>9.048881e+10</td>\n",
       "      <td>9.987409e+10</td>\n",
       "      <td>[12.28488927469136, 12.368533796296298, 12.368...</td>\n",
       "      <td>[5.284889274691359, 5.368533796296298, 5.36853...</td>\n",
       "      <td>[11.972304724630808, 12.137657280840239, 12.13...</td>\n",
       "      <td>[11.490694444444445, 11.490694444444445, 11.49...</td>\n",
       "      <td>notebook_temp_dir\\BESOS_Output\\4EL8WTODX85G4IP...</td>\n",
       "      <td>Seville</td>\n",
       "    </tr>\n",
       "    <tr>\n",
       "      <th>11</th>\n",
       "      <td>2</td>\n",
       "      <td>0.663333</td>\n",
       "      <td>5.0</td>\n",
       "      <td>0.000000e+00</td>\n",
       "      <td>7.203195e+10</td>\n",
       "      <td>8.075426e+10</td>\n",
       "      <td>[15.957356095679016, 16.12216064814815, 16.122...</td>\n",
       "      <td>[8.957356095679016, 9.122160648148151, 9.12216...</td>\n",
       "      <td>[13.6540961361329, 13.676695125814845, 14.7780...</td>\n",
       "      <td>[11.490694444444445, 11.490694444444445, 11.49...</td>\n",
       "      <td>notebook_temp_dir\\BESOS_Output\\ZQQ72T6XDPGTIJ8...</td>\n",
       "      <td>Seville</td>\n",
       "    </tr>\n",
       "    <tr>\n",
       "      <th>12</th>\n",
       "      <td>3</td>\n",
       "      <td>0.010000</td>\n",
       "      <td>11.0</td>\n",
       "      <td>0.000000e+00</td>\n",
       "      <td>8.758987e+10</td>\n",
       "      <td>9.642127e+10</td>\n",
       "      <td>[14.612422453703703, 14.614906944444444, 14.61...</td>\n",
       "      <td>[7.612422453703702, 7.614906944444443, 7.61490...</td>\n",
       "      <td>[14.363020849017948, 14.375396734148689, 14.37...</td>\n",
       "      <td>[11.490694444444445, 11.490694444444445, 11.49...</td>\n",
       "      <td>notebook_temp_dir\\BESOS_Output\\DHN9005MP0CIH60...</td>\n",
       "      <td>Seville</td>\n",
       "    </tr>\n",
       "    <tr>\n",
       "      <th>13</th>\n",
       "      <td>4</td>\n",
       "      <td>0.336667</td>\n",
       "      <td>11.0</td>\n",
       "      <td>3.336726e+07</td>\n",
       "      <td>6.731896e+10</td>\n",
       "      <td>7.551032e+10</td>\n",
       "      <td>[18.284889274691363, 18.3685337962963, 18.3685...</td>\n",
       "      <td>[11.28488927469136, 11.368533796296298, 11.368...</td>\n",
       "      <td>[15.720010717998909, 14.982339731468224, 15.60...</td>\n",
       "      <td>[11.490694444444445, 11.490694444444445, 11.49...</td>\n",
       "      <td>notebook_temp_dir\\BESOS_Output\\Z81DAOSQ9IR2V9E...</td>\n",
       "      <td>Seville</td>\n",
       "    </tr>\n",
       "    <tr>\n",
       "      <th>14</th>\n",
       "      <td>5</td>\n",
       "      <td>0.663333</td>\n",
       "      <td>11.0</td>\n",
       "      <td>3.782440e+08</td>\n",
       "      <td>3.082308e+10</td>\n",
       "      <td>3.867207e+10</td>\n",
       "      <td>[21.957356095679014, 22.12216064814815, 22.122...</td>\n",
       "      <td>[14.957356095679016, 15.122160648148151, 15.12...</td>\n",
       "      <td>[18.64018929861071, 18.073805966041494, 17.883...</td>\n",
       "      <td>[11.490694444444445, 11.490694444444445, 11.49...</td>\n",
       "      <td>notebook_temp_dir\\BESOS_Output\\2C9QLOXR96B7HVL...</td>\n",
       "      <td>Seville</td>\n",
       "    </tr>\n",
       "    <tr>\n",
       "      <th>15</th>\n",
       "      <td>6</td>\n",
       "      <td>0.010000</td>\n",
       "      <td>17.0</td>\n",
       "      <td>9.968620e+07</td>\n",
       "      <td>6.106692e+10</td>\n",
       "      <td>6.875057e+10</td>\n",
       "      <td>[20.612422453703704, 20.614906944444446, 20.61...</td>\n",
       "      <td>[13.612422453703703, 13.614906944444444, 13.61...</td>\n",
       "      <td>[20.35860851373567, 20.371021420372063, 20.371...</td>\n",
       "      <td>[11.490694444444445, 11.490694444444445, 11.49...</td>\n",
       "      <td>notebook_temp_dir\\BESOS_Output\\ZIDFUEMMGGUKKOJ...</td>\n",
       "      <td>Seville</td>\n",
       "    </tr>\n",
       "    <tr>\n",
       "      <th>16</th>\n",
       "      <td>7</td>\n",
       "      <td>0.336667</td>\n",
       "      <td>17.0</td>\n",
       "      <td>3.614706e+08</td>\n",
       "      <td>3.321104e+10</td>\n",
       "      <td>4.045655e+10</td>\n",
       "      <td>[24.284889274691363, 24.3685337962963, 24.3685...</td>\n",
       "      <td>[17.284889274691363, 17.3685337962963, 17.3685...</td>\n",
       "      <td>[20.78064047113225, 19.97333230278845, 19.8126...</td>\n",
       "      <td>[11.490694444444445, 11.490694444444445, 11.49...</td>\n",
       "      <td>notebook_temp_dir\\BESOS_Output\\Q6CYYIF7HS712UI...</td>\n",
       "      <td>Seville</td>\n",
       "    </tr>\n",
       "    <tr>\n",
       "      <th>17</th>\n",
       "      <td>8</td>\n",
       "      <td>0.663333</td>\n",
       "      <td>17.0</td>\n",
       "      <td>3.304361e+08</td>\n",
       "      <td>2.010826e+10</td>\n",
       "      <td>2.660805e+10</td>\n",
       "      <td>[27.957356095679014, 28.12216064814815, 28.122...</td>\n",
       "      <td>[20.957356095679014, 21.12216064814815, 21.122...</td>\n",
       "      <td>[23.690451036279597, 23.63386450386051, 23.705...</td>\n",
       "      <td>[11.490694444444445, 11.490694444444445, 11.49...</td>\n",
       "      <td>notebook_temp_dir\\BESOS_Output\\28F082TZMFWYOHE...</td>\n",
       "      <td>Seville</td>\n",
       "    </tr>\n",
       "  </tbody>\n",
       "</table>\n",
       "</div>"
      ],
      "text/plain": [
       "    index  CustAST_m  CustAST_n  Heating:Electricity  Cooling:Electricity  \\\n",
       "0       0   0.010000        5.0         0.000000e+00         2.060976e+11   \n",
       "1       1   0.336667        5.0         0.000000e+00         8.817778e+10   \n",
       "2       2   0.663333        5.0         2.561035e+06         6.903376e+10   \n",
       "3       3   0.010000       11.0         0.000000e+00         8.519490e+10   \n",
       "4       4   0.336667       11.0         3.619415e+05         6.432065e+10   \n",
       "5       5   0.663333       11.0         6.279531e+08         1.597634e+10   \n",
       "6       6   0.010000       17.0         7.946899e+07         5.677144e+10   \n",
       "7       7   0.336667       17.0         5.834273e+08         1.952083e+10   \n",
       "8       8   0.663333       17.0         6.850757e+08         1.271731e+10   \n",
       "9       0   0.010000        5.0         0.000000e+00         2.228484e+11   \n",
       "10      1   0.336667        5.0         0.000000e+00         9.048881e+10   \n",
       "11      2   0.663333        5.0         0.000000e+00         7.203195e+10   \n",
       "12      3   0.010000       11.0         0.000000e+00         8.758987e+10   \n",
       "13      4   0.336667       11.0         3.336726e+07         6.731896e+10   \n",
       "14      5   0.663333       11.0         3.782440e+08         3.082308e+10   \n",
       "15      6   0.010000       17.0         9.968620e+07         6.106692e+10   \n",
       "16      7   0.336667       17.0         3.614706e+08         3.321104e+10   \n",
       "17      8   0.663333       17.0         3.304361e+08         2.010826e+10   \n",
       "\n",
       "    Electricity:HVAC  \\\n",
       "0       3.059238e+11   \n",
       "1       9.803066e+10   \n",
       "2       7.822000e+10   \n",
       "3       9.448870e+10   \n",
       "4       7.293496e+10   \n",
       "5       2.452479e+10   \n",
       "6       6.488563e+10   \n",
       "7       2.743247e+10   \n",
       "8       2.000838e+10   \n",
       "9       3.229377e+11   \n",
       "10      9.987409e+10   \n",
       "11      8.075426e+10   \n",
       "12      9.642127e+10   \n",
       "13      7.551032e+10   \n",
       "14      3.867207e+10   \n",
       "15      6.875057e+10   \n",
       "16      4.045655e+10   \n",
       "17      2.660805e+10   \n",
       "\n",
       "   Adaptive Cooling Setpoint Temperature_No Tolerance_time series  \\\n",
       "0   [8.694380787037039, 8.713256944444446, 8.71325...               \n",
       "1   [15.044153163580248, 15.679650462962963, 15.67...               \n",
       "2   [21.39392554012345, 22.64604398148148, 22.6460...               \n",
       "3   [14.694380787037035, 14.713256944444444, 14.71...               \n",
       "4   [21.044153163580248, 21.679650462962964, 21.67...               \n",
       "5   [27.39392554012346, 28.64604398148148, 28.6460...               \n",
       "6   [20.694380787037037, 20.71325694444445, 20.713...               \n",
       "7   [27.044153163580248, 27.679650462962964, 27.67...               \n",
       "8   [33.393925540123455, 34.646043981481476, 34.64...               \n",
       "9   [8.612422453703703, 8.614906944444444, 8.61490...               \n",
       "10  [12.28488927469136, 12.368533796296298, 12.368...               \n",
       "11  [15.957356095679016, 16.12216064814815, 16.122...               \n",
       "12  [14.612422453703703, 14.614906944444444, 14.61...               \n",
       "13  [18.284889274691363, 18.3685337962963, 18.3685...               \n",
       "14  [21.957356095679014, 22.12216064814815, 22.122...               \n",
       "15  [20.612422453703704, 20.614906944444446, 20.61...               \n",
       "16  [24.284889274691363, 24.3685337962963, 24.3685...               \n",
       "17  [27.957356095679014, 28.12216064814815, 28.122...               \n",
       "\n",
       "   Adaptive Heating Setpoint Temperature_No Tolerance_time series  \\\n",
       "0   [1.694380787037037, 1.713256944444445, 1.71325...               \n",
       "1   [8.044153163580246, 8.679650462962961, 8.67965...               \n",
       "2   [14.393925540123453, 15.646043981481478, 15.64...               \n",
       "3   [7.694380787037037, 7.713256944444445, 7.71325...               \n",
       "4   [14.044153163580248, 14.679650462962963, 14.67...               \n",
       "5   [20.39392554012345, 21.64604398148148, 21.6460...               \n",
       "6   [13.694380787037039, 13.713256944444447, 13.71...               \n",
       "7   [20.044153163580248, 20.679650462962964, 20.67...               \n",
       "8   [26.39392554012346, 27.64604398148148, 27.6460...               \n",
       "9   [1.6124224537037037, 1.614906944444445, 1.6149...               \n",
       "10  [5.284889274691359, 5.368533796296298, 5.36853...               \n",
       "11  [8.957356095679016, 9.122160648148151, 9.12216...               \n",
       "12  [7.612422453703702, 7.614906944444443, 7.61490...               \n",
       "13  [11.28488927469136, 11.368533796296298, 11.368...               \n",
       "14  [14.957356095679016, 15.122160648148151, 15.12...               \n",
       "15  [13.612422453703703, 13.614906944444444, 13.61...               \n",
       "16  [17.284889274691363, 17.3685337962963, 17.3685...               \n",
       "17  [20.957356095679014, 21.12216064814815, 21.122...               \n",
       "\n",
       "               Zone Operative Temperature_time series  \\\n",
       "0   [8.177341849817743, 8.286237630418709, 8.35150...   \n",
       "1   [12.774468325894551, 14.5040259954091, 15.2543...   \n",
       "2   [16.08462197282536, 17.432071717615084, 18.022...   \n",
       "3   [14.419266965362217, 14.462833642144004, 14.46...   \n",
       "4   [18.42755038319289, 19.654137813894746, 20.173...   \n",
       "5   [21.873727673467574, 22.588662530170456, 22.89...   \n",
       "6   [20.418305329771588, 20.461422083993025, 20.46...   \n",
       "7   [23.594357459485664, 23.63552449639722, 23.619...   \n",
       "8   [27.693804721906293, 27.90619817890816, 27.899...   \n",
       "9   [8.125640498943138, 8.248713457347082, 8.33010...   \n",
       "10  [11.972304724630808, 12.137657280840239, 12.13...   \n",
       "11  [13.6540961361329, 13.676695125814845, 14.7780...   \n",
       "12  [14.363020849017948, 14.375396734148689, 14.37...   \n",
       "13  [15.720010717998909, 14.982339731468224, 15.60...   \n",
       "14  [18.64018929861071, 18.073805966041494, 17.883...   \n",
       "15  [20.35860851373567, 20.371021420372063, 20.371...   \n",
       "16  [20.78064047113225, 19.97333230278845, 19.8126...   \n",
       "17  [23.690451036279597, 23.63386450386051, 23.705...   \n",
       "\n",
       "   Zone Thermal Comfort ASHRAE 55 Adaptive Model Running Average Outdoor Air Temperature_time series  \\\n",
       "0   [21.325694444444437, 21.325694444444437, 21.32...                                                  \n",
       "1   [21.325694444444437, 21.325694444444437, 21.32...                                                  \n",
       "2   [21.325694444444437, 21.325694444444437, 21.32...                                                  \n",
       "3   [21.325694444444437, 21.325694444444437, 21.32...                                                  \n",
       "4   [21.325694444444437, 21.325694444444437, 21.32...                                                  \n",
       "5   [21.325694444444437, 21.325694444444437, 21.32...                                                  \n",
       "6   [21.325694444444437, 21.325694444444437, 21.32...                                                  \n",
       "7   [21.325694444444437, 21.325694444444437, 21.32...                                                  \n",
       "8   [21.325694444444437, 21.325694444444437, 21.32...                                                  \n",
       "9   [11.490694444444445, 11.490694444444445, 11.49...                                                  \n",
       "10  [11.490694444444445, 11.490694444444445, 11.49...                                                  \n",
       "11  [11.490694444444445, 11.490694444444445, 11.49...                                                  \n",
       "12  [11.490694444444445, 11.490694444444445, 11.49...                                                  \n",
       "13  [11.490694444444445, 11.490694444444445, 11.49...                                                  \n",
       "14  [11.490694444444445, 11.490694444444445, 11.49...                                                  \n",
       "15  [11.490694444444445, 11.490694444444445, 11.49...                                                  \n",
       "16  [11.490694444444445, 11.490694444444445, 11.49...                                                  \n",
       "17  [11.490694444444445, 11.490694444444445, 11.49...                                                  \n",
       "\n",
       "                                           output_dir      epw  \n",
       "0   notebook_temp_dir\\BESOS_Output\\WS0VVYZCIE7TQBU...   Sydney  \n",
       "1   notebook_temp_dir\\BESOS_Output\\X5J98E7OLPB0PAM...   Sydney  \n",
       "2   notebook_temp_dir\\BESOS_Output\\ZBI25I6JNRXN7D6...   Sydney  \n",
       "3   notebook_temp_dir\\BESOS_Output\\T7NKZUHW1A7DECJ...   Sydney  \n",
       "4   notebook_temp_dir\\BESOS_Output\\2WSRVW0X2J7R2CT...   Sydney  \n",
       "5   notebook_temp_dir\\BESOS_Output\\HY28KG2INBAPD8C...   Sydney  \n",
       "6   notebook_temp_dir\\BESOS_Output\\WWIEUDBMRL2CFX6...   Sydney  \n",
       "7   notebook_temp_dir\\BESOS_Output\\D06KMPFQO0V76LM...   Sydney  \n",
       "8   notebook_temp_dir\\BESOS_Output\\Q10QQGM079TJZK7...   Sydney  \n",
       "9   notebook_temp_dir\\BESOS_Output\\CE32NI3RCJASTW4...  Seville  \n",
       "10  notebook_temp_dir\\BESOS_Output\\4EL8WTODX85G4IP...  Seville  \n",
       "11  notebook_temp_dir\\BESOS_Output\\ZQQ72T6XDPGTIJ8...  Seville  \n",
       "12  notebook_temp_dir\\BESOS_Output\\DHN9005MP0CIH60...  Seville  \n",
       "13  notebook_temp_dir\\BESOS_Output\\Z81DAOSQ9IR2V9E...  Seville  \n",
       "14  notebook_temp_dir\\BESOS_Output\\2C9QLOXR96B7HVL...  Seville  \n",
       "15  notebook_temp_dir\\BESOS_Output\\ZIDFUEMMGGUKKOJ...  Seville  \n",
       "16  notebook_temp_dir\\BESOS_Output\\Q6CYYIF7HS712UI...  Seville  \n",
       "17  notebook_temp_dir\\BESOS_Output\\28F082TZMFWYOHE...  Seville  "
      ]
     },
     "execution_count": 47,
     "metadata": {},
     "output_type": "execute_result"
    }
   ],
   "source": [
    "parametric.outputs_param_simulation"
   ]
  },
  {
   "cell_type": "markdown",
   "id": "efa37b3d-45f9-4bbd-b2c2-3f36b743ee0b",
   "metadata": {},
   "source": [
    "We can see the columns are the following:"
   ]
  },
  {
   "cell_type": "markdown",
   "id": "907ca41e-e151-4e90-a37b-ed0b596e1852",
   "metadata": {},
   "source": [
    "- the parameters, which are:"
   ]
  },
  {
   "cell_type": "code",
   "execution_count": 48,
   "id": "c733f7a2-fd24-4b14-9ab1-98075d261401",
   "metadata": {},
   "outputs": [
    {
     "data": {
      "text/plain": [
       "['CustAST_m', 'CustAST_n']"
      ]
     },
     "execution_count": 48,
     "metadata": {},
     "output_type": "execute_result"
    }
   ],
   "source": [
    "[i.value_descriptors[0].name for i in parametric.parameters_list]"
   ]
  },
  {
   "cell_type": "markdown",
   "id": "c30f391f-08a0-488e-8dd3-67aa9189790c",
   "metadata": {},
   "source": [
    "- the outputs, which are:"
   ]
  },
  {
   "cell_type": "code",
   "execution_count": 49,
   "id": "405d7408-599d-4493-a497-5bfe686db381",
   "metadata": {},
   "outputs": [
    {
     "data": {
      "text/plain": [
       "['Heating:Electricity',\n",
       " 'Cooling:Electricity',\n",
       " 'Electricity:HVAC',\n",
       " 'Adaptive Cooling Setpoint Temperature_No Tolerance_time series',\n",
       " 'Adaptive Heating Setpoint Temperature_No Tolerance_time series',\n",
       " 'Zone Operative Temperature_time series',\n",
       " 'Zone Thermal Comfort ASHRAE 55 Adaptive Model Running Average Outdoor Air Temperature_time series']"
      ]
     },
     "execution_count": 49,
     "metadata": {},
     "output_type": "execute_result"
    }
   ],
   "source": [
    "[i.name for i in parametric.sim_outputs]"
   ]
  },
  {
   "cell_type": "markdown",
   "id": "cf172d66-6883-481c-9779-a3382616924e",
   "metadata": {},
   "source": [
    "- the path to the output files for each simulation, in the column 'out_dir'\n",
    "- the epw for each simulation, in the column 'epw'"
   ]
  },
  {
   "cell_type": "markdown",
   "id": "e2f6302e-8105-482b-a984-c4bc03ac8086",
   "metadata": {},
   "source": [
    "### Visualising the results"
   ]
  },
  {
   "cell_type": "markdown",
   "id": "8de1cbd1-8cf0-41c4-b394-6cf8481f2edd",
   "metadata": {},
   "source": [
    "#### Aggregated columns"
   ]
  },
  {
   "cell_type": "markdown",
   "id": "d7b2ad11-4f2b-46d0-8a59-3e7e842b2ae9",
   "metadata": {},
   "source": [
    "At this point, if you have some knowledge of pandas and some package to plot the data (e.g. matplotlib or seaborn), you can carry out your own analysis and visualization. We're going to do some example below."
   ]
  },
  {
   "cell_type": "code",
   "execution_count": 50,
   "id": "3b08c431-5c10-47bc-b8d9-bbed174fb35c",
   "metadata": {},
   "outputs": [
    {
     "data": {
      "text/plain": [
       "<Axes: xlabel='Heating:Electricity', ylabel='Cooling:Electricity'>"
      ]
     },
     "execution_count": 50,
     "metadata": {},
     "output_type": "execute_result"
    },
    {
     "data": {
      "image/png": "[encoded data removed]",
      "text/plain": [
       "<Figure size 640x480 with 1 Axes>"
      ]
     },
     "metadata": {},
     "output_type": "display_data"
    }
   ],
   "source": [
    "sns.scatterplot(\n",
    "    data=parametric.outputs_param_simulation,\n",
    "    x='Heating:Electricity',\n",
    "    y='Cooling:Electricity',\n",
    "    hue='CustAST_m',\n",
    "    style='CustAST_n'\n",
    ")"
   ]
  },
  {
   "cell_type": "markdown",
   "id": "710213aa-c8d2-4565-b121-a0db80753b52",
   "metadata": {},
   "source": [
    "#### Time series columns"
   ]
  },
  {
   "cell_type": "markdown",
   "id": "d66994c0-7514-456f-8d9c-2c3acce6e656",
   "metadata": {},
   "source": [
    "If you requested some output to be reported in time series, you can get a dataframe containing the hourly values using the method `get_hourly_df()`. This dataframe is saved in the internal variable `outputs_param_simulation_hourly`:"
   ]
  },
  {
   "cell_type": "code",
   "execution_count": 51,
   "id": "74848927-55f4-4e27-ae75-bf66baf49ba7",
   "metadata": {},
   "outputs": [
    {
     "ename": "IndexError",
     "evalue": "list index out of range",
     "output_type": "error",
     "traceback": [
      "\u001b[1;31m---------------------------------------------------------------------------\u001b[0m",
      "\u001b[1;31mIndexError\u001b[0m                                Traceback (most recent call last)",
      "Cell \u001b[1;32mIn[51], line 1\u001b[0m\n\u001b[1;32m----> 1\u001b[0m \u001b[43mparametric\u001b[49m\u001b[38;5;241;43m.\u001b[39;49m\u001b[43mget_hourly_df\u001b[49m\u001b[43m(\u001b[49m\u001b[43m)\u001b[49m\n\u001b[0;32m      2\u001b[0m parametric\u001b[38;5;241m.\u001b[39moutputs_param_simulation_hourly\n",
      "File \u001b[1;32mc:\\users\\danie\\appdata\\local\\programs\\python\\python39\\lib\\site-packages\\accim\\parametric_and_optimisation\\main.py:908\u001b[0m, in \u001b[0;36mOptimParamSimulation.get_hourly_df\u001b[1;34m(self, start_date)\u001b[0m\n\u001b[0;32m    906\u001b[0m parameter_columns \u001b[38;5;241m=\u001b[39m [i\u001b[38;5;241m.\u001b[39mname \u001b[38;5;28;01mfor\u001b[39;00m i \u001b[38;5;129;01min\u001b[39;00m \u001b[38;5;28mself\u001b[39m\u001b[38;5;241m.\u001b[39mparameters_list]\n\u001b[0;32m    907\u001b[0m parameter_columns\u001b[38;5;241m.\u001b[39mappend(\u001b[38;5;124m'\u001b[39m\u001b[38;5;124mepw\u001b[39m\u001b[38;5;124m'\u001b[39m)\n\u001b[1;32m--> 908\u001b[0m \u001b[38;5;28mself\u001b[39m\u001b[38;5;241m.\u001b[39moutputs_param_simulation_hourly \u001b[38;5;241m=\u001b[39m \u001b[43mexpand_to_hourly_dataframe\u001b[49m\u001b[43m(\u001b[49m\n\u001b[0;32m    909\u001b[0m \u001b[43m    \u001b[49m\u001b[43mdf\u001b[49m\u001b[38;5;241;43m=\u001b[39;49m\u001b[38;5;28;43mself\u001b[39;49m\u001b[38;5;241;43m.\u001b[39;49m\u001b[43moutputs_param_simulation\u001b[49m\u001b[43m,\u001b[49m\n\u001b[0;32m    910\u001b[0m \u001b[43m    \u001b[49m\u001b[43mparameter_columns\u001b[49m\u001b[38;5;241;43m=\u001b[39;49m\u001b[43mparameter_columns\u001b[49m\u001b[43m,\u001b[49m\n\u001b[0;32m    911\u001b[0m \u001b[43m    \u001b[49m\u001b[43mstart_date\u001b[49m\u001b[38;5;241;43m=\u001b[39;49m\u001b[43mstart_date\u001b[49m\n\u001b[0;32m    912\u001b[0m \u001b[43m\u001b[49m\u001b[43m)\u001b[49m\n",
      "File \u001b[1;32mc:\\users\\danie\\appdata\\local\\programs\\python\\python39\\lib\\site-packages\\accim\\parametric_and_optimisation\\utils.py:66\u001b[0m, in \u001b[0;36mexpand_to_hourly_dataframe\u001b[1;34m(df, parameter_columns, start_date, hourly_columns)\u001b[0m\n\u001b[0;32m     63\u001b[0m     \u001b[38;5;28;01mreturn\u001b[39;00m pd\u001b[38;5;241m.\u001b[39mDataFrame(expanded_rows)\n\u001b[0;32m     65\u001b[0m \u001b[38;5;66;03m# Apply the function to each row and concatenate the results\u001b[39;00m\n\u001b[1;32m---> 66\u001b[0m expanded_df \u001b[38;5;241m=\u001b[39m pd\u001b[38;5;241m.\u001b[39mconcat(\u001b[43mdf\u001b[49m\u001b[38;5;241;43m.\u001b[39;49m\u001b[43mapply\u001b[49m\u001b[43m(\u001b[49m\u001b[43mexpand_hourly_data\u001b[49m\u001b[43m,\u001b[49m\u001b[43m \u001b[49m\u001b[43maxis\u001b[49m\u001b[38;5;241;43m=\u001b[39;49m\u001b[38;5;241;43m1\u001b[39;49m\u001b[43m)\u001b[49m\u001b[38;5;241m.\u001b[39mto_list(), ignore_index\u001b[38;5;241m=\u001b[39m\u001b[38;5;28;01mTrue\u001b[39;00m)\n\u001b[0;32m     68\u001b[0m \u001b[38;5;28;01mreturn\u001b[39;00m expanded_df\n",
      "File \u001b[1;32mc:\\users\\danie\\appdata\\local\\programs\\python\\python39\\lib\\site-packages\\pandas\\core\\frame.py:10034\u001b[0m, in \u001b[0;36mDataFrame.apply\u001b[1;34m(self, func, axis, raw, result_type, args, by_row, **kwargs)\u001b[0m\n\u001b[0;32m  10022\u001b[0m \u001b[38;5;28;01mfrom\u001b[39;00m\u001b[38;5;250m \u001b[39m\u001b[38;5;21;01mpandas\u001b[39;00m\u001b[38;5;21;01m.\u001b[39;00m\u001b[38;5;21;01mcore\u001b[39;00m\u001b[38;5;21;01m.\u001b[39;00m\u001b[38;5;21;01mapply\u001b[39;00m\u001b[38;5;250m \u001b[39m\u001b[38;5;28;01mimport\u001b[39;00m frame_apply\n\u001b[0;32m  10024\u001b[0m op \u001b[38;5;241m=\u001b[39m frame_apply(\n\u001b[0;32m  10025\u001b[0m     \u001b[38;5;28mself\u001b[39m,\n\u001b[0;32m  10026\u001b[0m     func\u001b[38;5;241m=\u001b[39mfunc,\n\u001b[1;32m   (...)\u001b[0m\n\u001b[0;32m  10032\u001b[0m     kwargs\u001b[38;5;241m=\u001b[39mkwargs,\n\u001b[0;32m  10033\u001b[0m )\n\u001b[1;32m> 10034\u001b[0m \u001b[38;5;28;01mreturn\u001b[39;00m \u001b[43mop\u001b[49m\u001b[38;5;241;43m.\u001b[39;49m\u001b[43mapply\u001b[49m\u001b[43m(\u001b[49m\u001b[43m)\u001b[49m\u001b[38;5;241m.\u001b[39m__finalize__(\u001b[38;5;28mself\u001b[39m, method\u001b[38;5;241m=\u001b[39m\u001b[38;5;124m\"\u001b[39m\u001b[38;5;124mapply\u001b[39m\u001b[38;5;124m\"\u001b[39m)\n",
      "File \u001b[1;32mc:\\users\\danie\\appdata\\local\\programs\\python\\python39\\lib\\site-packages\\pandas\\core\\apply.py:837\u001b[0m, in \u001b[0;36mFrameApply.apply\u001b[1;34m(self)\u001b[0m\n\u001b[0;32m    834\u001b[0m \u001b[38;5;28;01melif\u001b[39;00m \u001b[38;5;28mself\u001b[39m\u001b[38;5;241m.\u001b[39mraw:\n\u001b[0;32m    835\u001b[0m     \u001b[38;5;28;01mreturn\u001b[39;00m \u001b[38;5;28mself\u001b[39m\u001b[38;5;241m.\u001b[39mapply_raw()\n\u001b[1;32m--> 837\u001b[0m \u001b[38;5;28;01mreturn\u001b[39;00m \u001b[38;5;28;43mself\u001b[39;49m\u001b[38;5;241;43m.\u001b[39;49m\u001b[43mapply_standard\u001b[49m\u001b[43m(\u001b[49m\u001b[43m)\u001b[49m\n",
      "File \u001b[1;32mc:\\users\\danie\\appdata\\local\\programs\\python\\python39\\lib\\site-packages\\pandas\\core\\apply.py:965\u001b[0m, in \u001b[0;36mFrameApply.apply_standard\u001b[1;34m(self)\u001b[0m\n\u001b[0;32m    964\u001b[0m \u001b[38;5;28;01mdef\u001b[39;00m\u001b[38;5;250m \u001b[39m\u001b[38;5;21mapply_standard\u001b[39m(\u001b[38;5;28mself\u001b[39m):\n\u001b[1;32m--> 965\u001b[0m     results, res_index \u001b[38;5;241m=\u001b[39m \u001b[38;5;28;43mself\u001b[39;49m\u001b[38;5;241;43m.\u001b[39;49m\u001b[43mapply_series_generator\u001b[49m\u001b[43m(\u001b[49m\u001b[43m)\u001b[49m\n\u001b[0;32m    967\u001b[0m     \u001b[38;5;66;03m# wrap results\u001b[39;00m\n\u001b[0;32m    968\u001b[0m     \u001b[38;5;28;01mreturn\u001b[39;00m \u001b[38;5;28mself\u001b[39m\u001b[38;5;241m.\u001b[39mwrap_results(results, res_index)\n",
      "File \u001b[1;32mc:\\users\\danie\\appdata\\local\\programs\\python\\python39\\lib\\site-packages\\pandas\\core\\apply.py:981\u001b[0m, in \u001b[0;36mFrameApply.apply_series_generator\u001b[1;34m(self)\u001b[0m\n\u001b[0;32m    978\u001b[0m \u001b[38;5;28;01mwith\u001b[39;00m option_context(\u001b[38;5;124m\"\u001b[39m\u001b[38;5;124mmode.chained_assignment\u001b[39m\u001b[38;5;124m\"\u001b[39m, \u001b[38;5;28;01mNone\u001b[39;00m):\n\u001b[0;32m    979\u001b[0m     \u001b[38;5;28;01mfor\u001b[39;00m i, v \u001b[38;5;129;01min\u001b[39;00m \u001b[38;5;28menumerate\u001b[39m(series_gen):\n\u001b[0;32m    980\u001b[0m         \u001b[38;5;66;03m# ignore SettingWithCopy here in case the user mutates\u001b[39;00m\n\u001b[1;32m--> 981\u001b[0m         results[i] \u001b[38;5;241m=\u001b[39m \u001b[38;5;28mself\u001b[39m\u001b[38;5;241m.\u001b[39mfunc(v, \u001b[38;5;241m*\u001b[39m\u001b[38;5;28mself\u001b[39m\u001b[38;5;241m.\u001b[39margs, \u001b[38;5;241m*\u001b[39m\u001b[38;5;241m*\u001b[39m\u001b[38;5;28mself\u001b[39m\u001b[38;5;241m.\u001b[39mkwargs)\n\u001b[0;32m    982\u001b[0m         \u001b[38;5;28;01mif\u001b[39;00m \u001b[38;5;28misinstance\u001b[39m(results[i], ABCSeries):\n\u001b[0;32m    983\u001b[0m             \u001b[38;5;66;03m# If we have a view on v, we need to make a copy because\u001b[39;00m\n\u001b[0;32m    984\u001b[0m             \u001b[38;5;66;03m#  series_generator will swap out the underlying data\u001b[39;00m\n\u001b[0;32m    985\u001b[0m             results[i] \u001b[38;5;241m=\u001b[39m results[i]\u001b[38;5;241m.\u001b[39mcopy(deep\u001b[38;5;241m=\u001b[39m\u001b[38;5;28;01mFalse\u001b[39;00m)\n",
      "File \u001b[1;32mc:\\users\\danie\\appdata\\local\\programs\\python\\python39\\lib\\site-packages\\accim\\parametric_and_optimisation\\utils.py:57\u001b[0m, in \u001b[0;36mexpand_to_hourly_dataframe.<locals>.expand_hourly_data\u001b[1;34m(row)\u001b[0m\n\u001b[0;32m     56\u001b[0m \u001b[38;5;28;01mdef\u001b[39;00m\u001b[38;5;250m \u001b[39m\u001b[38;5;21mexpand_hourly_data\u001b[39m(row):\n\u001b[1;32m---> 57\u001b[0m     num_hours \u001b[38;5;241m=\u001b[39m \u001b[38;5;28mlen\u001b[39m(row[\u001b[43mhourly_columns\u001b[49m\u001b[43m[\u001b[49m\u001b[38;5;241;43m0\u001b[39;49m\u001b[43m]\u001b[49m])\n\u001b[0;32m     58\u001b[0m     expanded_rows \u001b[38;5;241m=\u001b[39m {col: [row[col]] \u001b[38;5;241m*\u001b[39m num_hours \u001b[38;5;28;01mfor\u001b[39;00m col \u001b[38;5;129;01min\u001b[39;00m parameter_columns}\n\u001b[0;32m     59\u001b[0m     expanded_rows[\u001b[38;5;124m'\u001b[39m\u001b[38;5;124mhour\u001b[39m\u001b[38;5;124m'\u001b[39m] \u001b[38;5;241m=\u001b[39m \u001b[38;5;28mlist\u001b[39m(\u001b[38;5;28mrange\u001b[39m(\u001b[38;5;241m1\u001b[39m, num_hours \u001b[38;5;241m+\u001b[39m \u001b[38;5;241m1\u001b[39m))\n",
      "\u001b[1;31mIndexError\u001b[0m: list index out of range"
     ]
    }
   ],
   "source": [
    "parametric.get_hourly_df()\n",
    "parametric.outputs_param_simulation_hourly"
   ]
  },
  {
   "cell_type": "markdown",
   "id": "dbac2c53-1b49-43a5-b8c7-02877ec8b4aa",
   "metadata": {},
   "source": [
    "Let's prepare the `outputs_param_simulation_hourly` df for plotting:"
   ]
  },
  {
   "cell_type": "code",
   "execution_count": null,
   "id": "921324d1-f102-4bd3-b43e-340e435bdca0",
   "metadata": {},
   "outputs": [],
   "source": [
    "#Let's make a copy of the dataframe to not to modify the original one\n",
    "df = parametric.outputs_param_simulation_hourly.copy()\n",
    "\n",
    "# The name of the column for the Running mean outdoor temperature is very long, so let's save it in the variable rmot:\n",
    "rmot = [i for i in df.columns if 'Running Average' in i][0]\n",
    "\n",
    "#Let's remove the columns where value is the same for all rows\n",
    "for c in df.columns:\n",
    "    if len(set(df[c])) == 1:\n",
    "        df = df.drop(columns=[c])\n",
    "#Now let's remove the hour and datetime columns, since will\n",
    "df = df.drop(columns=['hour'])\n",
    "\n",
    "# Now let's reshape the df for plotting purposes\n",
    "df = df.melt(id_vars=['datetime', 'CustAST_m', 'CustAST_n','epw', rmot])\n"
   ]
  },
  {
   "cell_type": "markdown",
   "id": "a4aa2a50-88ee-4c66-ab3a-48a26eaec9c1",
   "metadata": {},
   "source": [
    "Firstly, we're going to plot the hourly temperatures to see the slope of the comfort model, and check all hours are within thermal comfort limits (since we applied adaptive setpoints). We're going to plot data only for Seville."
   ]
  },
  {
   "cell_type": "code",
   "execution_count": null,
   "id": "2213ebd0-2f3c-4e74-bd06-117ec72c3108",
   "metadata": {},
   "outputs": [],
   "source": [
    "g = sns.FacetGrid(\n",
    "    data=df[df['epw'].str.contains('Seville')],\n",
    "    row='CustAST_m',\n",
    "    col='CustAST_n'\n",
    ")\n",
    "g.map_dataframe(\n",
    "    sns.scatterplot,\n",
    "    x=rmot,\n",
    "    y='value',\n",
    "    hue='variable',\n",
    "    s=1,\n",
    "    #alpha=0.5\n",
    ")\n",
    "g.set_axis_labels('RMOT (°C)', 'Indoor Operative Temperature (°C)')\n",
    "g.add_legend(loc='upper center', bbox_to_anchor=(0.5, 0))\n",
    "\n",
    "for lh in g._legend.legend_handles:\n",
    "    lh.set_markersize(5)\n",
    "plt.tight_layout()\n"
   ]
  },
  {
   "cell_type": "markdown",
   "id": "14dfbd82-2e4f-45b6-96ca-da72265e117c",
   "metadata": {},
   "source": [
    "Now, we're going to plot time on x-axis and change the plot type to lineplot, to see the variarion of the indoor operative temperature throughout the year:"
   ]
  },
  {
   "cell_type": "code",
   "execution_count": null,
   "id": "b673ca88-bbd8-4c89-989e-7cf7c613e90c",
   "metadata": {},
   "outputs": [],
   "source": [
    "g = sns.FacetGrid(\n",
    "    data=df[df['epw'].str.contains('Seville')],\n",
    "    row='CustAST_m',\n",
    "    col='CustAST_n'\n",
    ")\n",
    "g.map_dataframe(\n",
    "    sns.lineplot,\n",
    "    x='datetime',\n",
    "    y='value',\n",
    "    hue='variable',\n",
    ")\n",
    "g.set_axis_labels('Time', 'Indoor Operative Temperature (°C)')\n",
    "g.add_legend(loc='upper center', bbox_to_anchor=(0.5, 0))\n",
    "plt.tight_layout()\n"
   ]
  },
  {
   "cell_type": "markdown",
   "id": "3bb1e896",
   "metadata": {},
   "source": [
    "We could get also some similar figure for Sydney:"
   ]
  },
  {
   "cell_type": "code",
   "execution_count": null,
   "id": "532d4482",
   "metadata": {},
   "outputs": [],
   "source": [
    "g = sns.FacetGrid(\n",
    "    data=df[df['epw'].str.contains('Sydney')],\n",
    "    row='CustAST_m',\n",
    "    col='CustAST_n'\n",
    ")\n",
    "g.map_dataframe(\n",
    "    sns.lineplot,\n",
    "    x='datetime',\n",
    "    y='value',\n",
    "    hue='variable',\n",
    ")\n",
    "g.set_axis_labels('Time', 'Indoor Operative Temperature (°C)')\n",
    "g.add_legend(loc='upper center', bbox_to_anchor=(0.5, 0))\n",
    "plt.tight_layout()"
   ]
  },
  {
   "cell_type": "markdown",
   "id": "e0b253ef-b8ee-402b-a741-b4b89181e589",
   "metadata": {},
   "source": [
    "We're done with the example, so let's remove all new files, so that we can re-run it again."
   ]
  },
  {
   "cell_type": "code",
   "execution_count": null,
   "id": "abefda96-72f4-4e8a-8d2a-5337647c480b",
   "metadata": {},
   "outputs": [],
   "source": [
    "current_files = [i for i in listdir()]\n",
    "new_files = set(current_files) - set(original_files)\n",
    "new_files"
   ]
  },
  {
   "cell_type": "code",
   "execution_count": null,
   "id": "f9dbc462-7f2b-40e2-b7b0-41e9243b3b59",
   "metadata": {},
   "outputs": [],
   "source": [
    "import os\n",
    "import shutil\n",
    "for item in new_files:\n",
    "    item_path = os.path.join(os.getcwd(), item)\n",
    "    if os.path.isfile(item_path):\n",
    "        os.remove(item_path)\n",
    "    elif os.path.isdir(item_path):\n",
    "        shutil.rmtree(item_path)"
   ]
  }
 ],
 "metadata": {
  "kernelspec": {
   "display_name": "Python 3 (ipykernel)",
   "language": "python",
   "name": "python3"
  },
  "language_info": {
   "codemirror_mode": {
    "name": "ipython",
    "version": 3
   },
   "file_extension": ".py",
   "mimetype": "text/x-python",
   "name": "python",
   "nbconvert_exporter": "python",
   "pygments_lexer": "ipython3",
   "version": "3.9.4"
  }
 },
 "nbformat": 4,
 "nbformat_minor": 5
}
