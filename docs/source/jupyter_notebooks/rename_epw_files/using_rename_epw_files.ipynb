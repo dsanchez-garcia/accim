{
 "cells": [
  {
   "cell_type": "markdown",
   "id": "83aa9f64",
   "metadata": {},
   "source": [
    "# Using ``rename_epw_files()`` to rename the EPWs for proper data analysis after simulation"
   ]
  },
  {
   "cell_type": "markdown",
   "id": "a7e5d106",
   "metadata": {},
   "source": [
    "``rename_epw_files`` function will rename your EPW files following the naming convention \"Country_City_RCPscenario-Year\". It will get the Country and City fields from EPW coordinates or user-input dictionaries, and the RCPscenario and Year fields from the original name. If there is no reference to this in the original name, it will consider these to be at Present scenario."
   ]
  },
  {
   "cell_type": "code",
   "execution_count": 1,
   "id": "e4f30e9c-2c83-4d8c-ad92-bbf86393d459",
   "metadata": {},
   "outputs": [
    {
     "name": "stdout",
     "output_type": "stream",
     "text": [
      "Help on class rename_epw_files in module accim.data.preprocessing:\n",
      "\n",
      "class rename_epw_files(builtins.object)\n",
      " |  rename_epw_files(filelist=None, rename_city_dict: dict = None, country_to_city_dict: dict = None, confirm_renaming=None, confirm_deletion=None)\n",
      " |  \n",
      " |  Renames the EPW files following the name convention 'Country_City_RCPscenario-Year'.\n",
      " |  The Country and City fields are computed based on the coordinates of the EPW,\n",
      " |  and the RCPscenario and Year are taken from the original name.\n",
      " |  If no reference is found, the sample_EPWs are considered to be  for Present scenario.\n",
      " |  \n",
      " |  :param filelist: A list of the EPW files.\n",
      " |      If omitted, it will rename all sample_EPWs in that folder.\n",
      " |  :type filelist: list\n",
      " |  :param rename_city_dict: A dict to set the city field for each EPW file.\n",
      " |      It must follow the pattern\n",
      " |      {'city name to be search in epw file name': 'city name for the epw file if found`}\n",
      " |  :type rename_city_dict: dict\n",
      " |  :param country_to_city_dict: A dict to set the country field for each EPW file.\n",
      " |      It must follow the pattern\n",
      " |      {'country name': [output city names defined in rename_city_dict]}\n",
      " |  :type country_to_city_dict: dict\n",
      " |  :param confirm_renaming: True or False,\n",
      " |      to skip renaming confirmation on prompt command or console\n",
      " |  :type confirm_renaming: bool\n",
      " |  :param confirm_deletion: True or False,\n",
      " |      to skip deletion confirmation on prompt command or console\n",
      " |  :type confirm_deletion: bool\n",
      " |  \n",
      " |  Methods defined here:\n",
      " |  \n",
      " |  __init__(self, filelist=None, rename_city_dict: dict = None, country_to_city_dict: dict = None, confirm_renaming=None, confirm_deletion=None)\n",
      " |      Constructor method.\n",
      " |  \n",
      " |  ----------------------------------------------------------------------\n",
      " |  Data descriptors defined here:\n",
      " |  \n",
      " |  __dict__\n",
      " |      dictionary for instance variables (if defined)\n",
      " |  \n",
      " |  __weakref__\n",
      " |      list of weak references to the object (if defined)\n",
      "\n"
     ]
    }
   ],
   "source": [
    "from accim.data.preprocessing import rename_epw_files\n",
    "help(rename_epw_files)"
   ]
  },
  {
   "cell_type": "markdown",
   "id": "5cfda218",
   "metadata": {},
   "source": [
    "First of all, let's see what files we do have in the folder:"
   ]
  },
  {
   "cell_type": "code",
   "execution_count": 1,
   "id": "8bcf4ced",
   "metadata": {},
   "outputs": [
    {
     "data": {
      "text/plain": [
       "['.ipynb_checkpoints',\n",
       " 'GBR_Aberdeen.Dyce.030910_IWEC.epw',\n",
       " 'GBR_London.Gatwick.037760_IWEC.epw',\n",
       " 'RCP26_2100_GC03_Ponta_Grossa.epw',\n",
       " 'using_rename_epw_files.ipynb',\n",
       " '__init__.py']"
      ]
     },
     "execution_count": 1,
     "metadata": {},
     "output_type": "execute_result"
    }
   ],
   "source": [
    "import os\n",
    "previous_files = [i for i in os.listdir()]\n",
    "previous_files"
   ]
  },
  {
   "cell_type": "markdown",
   "id": "c282206a",
   "metadata": {},
   "source": [
    "You can see there are 3 EPW files, which are:"
   ]
  },
  {
   "cell_type": "code",
   "execution_count": 2,
   "id": "33e64dbd",
   "metadata": {},
   "outputs": [
    {
     "name": "stdout",
     "output_type": "stream",
     "text": [
      "['GBR_Aberdeen.Dyce.030910_IWEC.epw', 'GBR_London.Gatwick.037760_IWEC.epw', 'RCP26_2100_GC03_Ponta_Grossa.epw']\n"
     ]
    }
   ],
   "source": [
    "old_epws = [i for i in os.listdir() if i.endswith('.epw')]\n",
    "print(old_epws)"
   ]
  },
  {
   "cell_type": "markdown",
   "id": "5524d9c2",
   "metadata": {},
   "source": [
    "So let's rename them."
   ]
  },
  {
   "cell_type": "markdown",
   "id": "02700087-3f0e-4319-b3bd-54e38c11b0a7",
   "metadata": {},
   "source": [
    "## Using data from coordinates"
   ]
  },
  {
   "cell_type": "code",
   "execution_count": 3,
   "id": "4254ac77",
   "metadata": {},
   "outputs": [
    {
     "name": "stdout",
     "output_type": "stream",
     "text": [
      "Since no match has been found between RCP or SSP scenarios and EPW file name, Present scenario has been assigned to the following EPW files:\n",
      "GBR_Aberdeen.Dyce.030910_IWEC.epw\n",
      "GBR_London.Gatwick.037760_IWEC.epw\n",
      "Since no match has been found between RCP or SSP scenario Year and EPW file name, Present year has been assigned to the following EPW files:\n",
      "GBR_Aberdeen.Dyce.030910_IWEC.epw\n",
      "GBR_London.Gatwick.037760_IWEC.epw\n",
      "The geolocation process has taken: 2.43 seconds (0.81 s/EPW)\n",
      "\n",
      "The previous and new names of the EPW files and their unique IDs are:\n",
      "ID: 0 / GBR_Aberdeen.Dyce.030910_IWEC / United-Kingdom_Aberdeen-Dyce_Present\n",
      "ID: 1 / GBR_London.Gatwick.037760_IWEC / United-Kingdom_London-Gatwick_Present\n",
      "ID: 2 / RCP26_2100_GC03_Ponta_Grossa / Brazil_Ponta-Grossa_RCP26-2100\n"
     ]
    },
    {
     "name": "stdin",
     "output_type": "stream",
     "text": [
      "\n",
      "If any of the city or subcountry names needs some amendment (if you are not happy with any of the available options, you can exclude it from renaming at the next stage), please enter the EPW IDs separated by space; otherwise, hit enter to omit: 0 1\n"
     ]
    },
    {
     "name": "stdout",
     "output_type": "stream",
     "text": [
      "\n",
      "Regarding the file ID: 0 / old name: GBR_Aberdeen.Dyce.030910_IWEC / new name: United-Kingdom_Aberdeen-Dyce_Present, the address obtained from coordinates is: \n",
      "Dyce and Stoneywood, Aberdeen City, Alba / Scotland, AB21 0HJ, United Kingdom\n"
     ]
    },
    {
     "name": "stdin",
     "output_type": "stream",
     "text": [
      "Please enter the amended city or subcountry, which must be unique:  Aberdeen City\n"
     ]
    },
    {
     "name": "stdout",
     "output_type": "stream",
     "text": [
      "\n",
      "Regarding the file ID: 1 / old name: GBR_London.Gatwick.037760_IWEC / new name: United-Kingdom_London-Gatwick_Present, the address obtained from coordinates is: \n",
      "London Gatwick Airport, London Road, Lowfield Heath, Tinsley Green, Crawley, West Sussex, England, RH6 0PB, United Kingdom\n"
     ]
    },
    {
     "name": "stdin",
     "output_type": "stream",
     "text": [
      "Please enter the amended city or subcountry, which must be unique:  London City\n"
     ]
    },
    {
     "name": "stdout",
     "output_type": "stream",
     "text": [
      "\n",
      "The previous and new names of the EPW files after city or subcountry name amendments and their unique IDs are:\n",
      "ID: 0 / GBR_Aberdeen.Dyce.030910_IWEC / United-Kingdom_Aberdeen-City_Present\n",
      "ID: 1 / GBR_London.Gatwick.037760_IWEC / United-Kingdom_London-City_Present\n",
      "\n",
      "The final list of previous and new names of the EPW files and their unique IDs is:\n",
      "ID: 0 / GBR_Aberdeen.Dyce.030910_IWEC / United-Kingdom_Aberdeen-City_Present\n",
      "ID: 1 / GBR_London.Gatwick.037760_IWEC / United-Kingdom_London-City_Present\n",
      "ID: 2 / RCP26_2100_GC03_Ponta_Grossa / Brazil_Ponta-Grossa_RCP26-2100\n"
     ]
    },
    {
     "name": "stdin",
     "output_type": "stream",
     "text": [
      "\n",
      "If you want to exclude some EPWs from renaming, please enter the IDs separated by space, otherwise, hit enter to continue: \n",
      "\n",
      "Do you want to copy and rename the file or files? [y/n]: y\n"
     ]
    },
    {
     "name": "stdout",
     "output_type": "stream",
     "text": [
      "The file GBR_Aberdeen.Dyce.030910_IWEC has been renamed to United-Kingdom_Aberdeen-City_Present\n",
      "The file GBR_London.Gatwick.037760_IWEC has been renamed to United-Kingdom_London-City_Present\n",
      "The file RCP26_2100_GC03_Ponta_Grossa has been renamed to Brazil_Ponta-Grossa_RCP26-2100\n"
     ]
    },
    {
     "data": {
      "text/plain": [
       "<accim.data.preprocessing.rename_epw_files at 0x1f15dec7f40>"
      ]
     },
     "execution_count": 3,
     "metadata": {},
     "output_type": "execute_result"
    }
   ],
   "source": [
    "from accim.data.preprocessing import rename_epw_files\n",
    "rename_epw_files(\n",
    "    confirm_deletion=False,\n",
    ")"
   ]
  },
  {
   "cell_type": "markdown",
   "id": "34031be9",
   "metadata": {},
   "source": [
    "You can see above that there was no reference to RCP scenarios in the original EPW file name in 2 of the instances, therefore these has been considered as Present scenario. The same applies to the Year field. Finally, states the previous and the new names of the EPWs. So, now, let's see what files we do have in the folder."
   ]
  },
  {
   "cell_type": "markdown",
   "id": "05de8914",
   "metadata": {},
   "source": [
    "We can see the new EPWs are:"
   ]
  },
  {
   "cell_type": "code",
   "execution_count": 4,
   "id": "6e80b813",
   "metadata": {},
   "outputs": [
    {
     "name": "stdout",
     "output_type": "stream",
     "text": [
      "['Brazil_Ponta-Grossa_RCP26-2100.epw', 'United-Kingdom_Aberdeen-City_Present.epw', 'United-Kingdom_London-City_Present.epw']\n"
     ]
    }
   ],
   "source": [
    "new_epws = [i for i in os.listdir() if not(any(i in j for j in old_epws)) and i.endswith('.epw')]\n",
    "print(new_epws)"
   ]
  },
  {
   "cell_type": "markdown",
   "id": "ad65b911",
   "metadata": {},
   "source": [
    "Let's delete the new files so that we can run the notebook again."
   ]
  },
  {
   "cell_type": "code",
   "execution_count": 5,
   "id": "dd09f3f6",
   "metadata": {},
   "outputs": [],
   "source": [
    "for i in new_epws:\n",
    "    os.remove(i)"
   ]
  },
  {
   "cell_type": "markdown",
   "id": "ff6e7622-d319-4ad1-898b-6a9bc6950ddf",
   "metadata": {},
   "source": [
    "## Using data from user-defined dicts"
   ]
  },
  {
   "cell_type": "markdown",
   "id": "3877cad9-5f0e-44bf-b341-a5ea167a0dc7",
   "metadata": {},
   "source": [
    "Sometimes, you might get unexpected error when the data is obtained from the coordinates, so there is also a way to rename the files using user-defined data in shape of dictionaries. Firstly, to define the city or subcountry for the EPW file, we need to input a dictionary such as the following:"
   ]
  },
  {
   "cell_type": "code",
   "execution_count": 6,
   "id": "6d05eced-88a2-47c3-8d52-0e03001c84e2",
   "metadata": {},
   "outputs": [
    {
     "data": {
      "text/plain": [
       "{'Aberdeen': 'Aberdeen-city', 'London': 'London-city'}"
      ]
     },
     "execution_count": 6,
     "metadata": {},
     "output_type": "execute_result"
    }
   ],
   "source": [
    "rename_city_dict={\n",
    "        'Aberdeen': 'Aberdeen-city',\n",
    "        'London': 'London-city'\n",
    "    }\n",
    "rename_city_dict"
   ]
  },
  {
   "cell_type": "markdown",
   "id": "cf1fce12-3b70-4bf8-b412-5756f1a4340b",
   "metadata": {},
   "source": [
    "If we input that dictionary, accim will look for 'Aberdeen' in the EPW names and set 'Aberdeen-city' in the EPW city or subcountry field. The same with 'London' and 'London-city'."
   ]
  },
  {
   "cell_type": "markdown",
   "id": "bbd98515-31f6-4d0c-84aa-5742262aa09b",
   "metadata": {},
   "source": [
    "To define which country is related to the city or subcountry, a different dictionary must be used, in the following shape:"
   ]
  },
  {
   "cell_type": "code",
   "execution_count": 7,
   "id": "6aacc143-9716-42c6-96c1-1d68e6819239",
   "metadata": {},
   "outputs": [
    {
     "data": {
      "text/plain": [
       "{'United kingdom': ['Aberdeen-city', 'London-city']}"
      ]
     },
     "execution_count": 7,
     "metadata": {},
     "output_type": "execute_result"
    }
   ],
   "source": [
    "country_to_city_dict={\n",
    "    'United kingdom': ['Aberdeen-city', 'London-city']\n",
    "}\n",
    "country_to_city_dict"
   ]
  },
  {
   "cell_type": "markdown",
   "id": "a772fc82-3571-4381-87a6-fe0df853ebcd",
   "metadata": {},
   "source": [
    "In this case, 'United kingdom' will be set as the country for the cities defined in the rename_city_dict argument, in this case, 'Aberdeen-city' and 'London-city'"
   ]
  },
  {
   "cell_type": "markdown",
   "id": "4e79b95a-da1f-485e-a46f-2071af60cd91",
   "metadata": {},
   "source": [
    "If any of the cities or countries are not defined, the coordinates will be used. For instance, in this case, 'RCP26_2100_GC03_Ponta_Grossa.epw'. Also, if we did not entirely define the relations city-country, and therefore the country field were not defined, the coordinates would also be used. For instance:"
   ]
  },
  {
   "cell_type": "code",
   "execution_count": 8,
   "id": "76dbc9d9-69e4-46ae-941d-0290a7350a87",
   "metadata": {},
   "outputs": [
    {
     "data": {
      "text/plain": [
       "{'United kingdom': ['Aberdeen-city']}"
      ]
     },
     "execution_count": 8,
     "metadata": {},
     "output_type": "execute_result"
    }
   ],
   "source": [
    "country_to_city_dict_not_entirely_defined={\n",
    "    'United kingdom': ['Aberdeen-city']\n",
    "}\n",
    "country_to_city_dict_not_entirely_defined"
   ]
  },
  {
   "cell_type": "markdown",
   "id": "8dfe7eb6-37c7-41fc-8dde-0b61c29fe4a0",
   "metadata": {},
   "source": [
    "In that case, we didn't say the country for 'London-city' is 'United kingdom', and therefore would ne undifined."
   ]
  },
  {
   "cell_type": "code",
   "execution_count": 9,
   "id": "92c48196-c0a4-47fc-a118-c403fda6a714",
   "metadata": {},
   "outputs": [
    {
     "name": "stdout",
     "output_type": "stream",
     "text": [
      "Since no match has been found between RCP or SSP scenarios and EPW file name, Present scenario has been assigned to the following EPW files:\n",
      "GBR_Aberdeen.Dyce.030910_IWEC.epw\n",
      "GBR_London.Gatwick.037760_IWEC.epw\n",
      "Since no match has been found between RCP or SSP scenario Year and EPW file name, Present year has been assigned to the following EPW files:\n",
      "GBR_Aberdeen.Dyce.030910_IWEC.epw\n",
      "GBR_London.Gatwick.037760_IWEC.epw\n",
      "The geolocation process has taken: 0.0 seconds (0.0 s/EPW)\n",
      "\n",
      "The previous and new names of the EPW files and their unique IDs are:\n",
      "ID: 0 / GBR_Aberdeen.Dyce.030910_IWEC / United-Kingdom_Aberdeen-City_Present\n",
      "ID: 1 / GBR_London.Gatwick.037760_IWEC / United-Kingdom_London-City_Present\n",
      "ID: 2 / RCP26_2100_GC03_Ponta_Grossa / Brazil_Ponta-Grossa-City_RCP26-2100\n"
     ]
    },
    {
     "name": "stdin",
     "output_type": "stream",
     "text": [
      "\n",
      "If any of the city or subcountry names needs some amendment (if you are not happy with any of the available options, you can exclude it from renaming at the next stage), please enter the EPW IDs separated by space; otherwise, hit enter to omit: \n"
     ]
    },
    {
     "name": "stdout",
     "output_type": "stream",
     "text": [
      "\n",
      "The final list of previous and new names of the EPW files and their unique IDs is:\n",
      "ID: 0 / GBR_Aberdeen.Dyce.030910_IWEC / United-Kingdom_Aberdeen-City_Present\n",
      "ID: 1 / GBR_London.Gatwick.037760_IWEC / United-Kingdom_London-City_Present\n",
      "ID: 2 / RCP26_2100_GC03_Ponta_Grossa / Brazil_Ponta-Grossa-City_RCP26-2100\n"
     ]
    },
    {
     "name": "stdin",
     "output_type": "stream",
     "text": [
      "\n",
      "If you want to exclude some EPWs from renaming, please enter the IDs separated by space, otherwise, hit enter to continue: \n",
      "\n",
      "Do you want to copy and rename the file or files? [y/n]: y\n"
     ]
    },
    {
     "name": "stdout",
     "output_type": "stream",
     "text": [
      "The file GBR_Aberdeen.Dyce.030910_IWEC has been renamed to United-Kingdom_Aberdeen-City_Present\n",
      "The file GBR_London.Gatwick.037760_IWEC has been renamed to United-Kingdom_London-City_Present\n",
      "The file RCP26_2100_GC03_Ponta_Grossa has been renamed to Brazil_Ponta-Grossa-City_RCP26-2100\n"
     ]
    },
    {
     "data": {
      "text/plain": [
       "<accim.data.preprocessing.rename_epw_files at 0x1f16f9ef8b0>"
      ]
     },
     "execution_count": 9,
     "metadata": {},
     "output_type": "execute_result"
    }
   ],
   "source": [
    "from accim.data.preprocessing import rename_epw_files\n",
    "rename_epw_files(\n",
    "    confirm_deletion=False,\n",
    "    rename_city_dict={\n",
    "        'Aberdeen': 'Aberdeen city',\n",
    "        'London': 'London city',\n",
    "        'Ponta_Grossa': 'Ponta Grossa city'\n",
    "    },\n",
    "    country_to_city_dict={\n",
    "        'United kingdom': ['Aberdeen city', 'London city'],\n",
    "        'Brazil': ['Ponta Grossa city']\n",
    "    }\n",
    ")\n"
   ]
  },
  {
   "cell_type": "markdown",
   "id": "7968d045-241f-41bf-8618-8492a45ae936",
   "metadata": {},
   "source": [
    "We can see the new EPWs are:"
   ]
  },
  {
   "cell_type": "code",
   "execution_count": 11,
   "id": "e9a08e7e-3b97-4052-93cb-2ef8c3ad6bb6",
   "metadata": {},
   "outputs": [
    {
     "name": "stdout",
     "output_type": "stream",
     "text": [
      "['Brazil_Ponta-Grossa-City_RCP26-2100.epw', 'United-Kingdom_Aberdeen-City_Present.epw', 'United-Kingdom_London-City_Present.epw']\n"
     ]
    }
   ],
   "source": [
    "new_epws = [i for i in os.listdir() if not(any(i in j for j in old_epws)) and i.endswith('.epw')]\n",
    "print(new_epws)"
   ]
  },
  {
   "cell_type": "markdown",
   "id": "a6cb55ce-e1c4-4e09-aff9-65eda7f94890",
   "metadata": {},
   "source": [
    "Let's delete the new files so that we can run the notebook again."
   ]
  },
  {
   "cell_type": "code",
   "execution_count": 12,
   "id": "15c6bd10-4b83-4c2b-8a8b-860a9e1b0c5a",
   "metadata": {},
   "outputs": [],
   "source": [
    "for i in new_epws:\n",
    "    os.remove(i)"
   ]
  }
 ],
 "metadata": {
  "kernelspec": {
   "display_name": "Python 3 (ipykernel)",
   "language": "python",
   "name": "python3"
  },
  "language_info": {
   "codemirror_mode": {
    "name": "ipython",
    "version": 3
   },
   "file_extension": ".py",
   "mimetype": "text/x-python",
   "name": "python",
   "nbconvert_exporter": "python",
   "pygments_lexer": "ipython3",
   "version": "3.9.4"
  }
 },
 "nbformat": 4,
 "nbformat_minor": 5
}
